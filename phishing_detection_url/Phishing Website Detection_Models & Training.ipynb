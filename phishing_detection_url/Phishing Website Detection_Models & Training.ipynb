{
 "cells": [
  {
   "cell_type": "markdown",
   "metadata": {
    "colab_type": "text",
    "id": "WTVY5lz4vJQM"
   },
   "source": [
    "# **Phishing Website Detection by Machine Learning Techniques**\n",
    "\n",
    "*Final project of AI & Cybersecurity Course*"
   ]
  },
  {
   "cell_type": "markdown",
   "metadata": {
    "colab_type": "text",
    "id": "_cJA-yD-vNcS"
   },
   "source": [
    "## **1. Objective:**\n",
    "A phishing website is a common social engineering method that mimics trustful uniform resource locators (URLs) and webpages. The objective of this project is to train machine learning models and deep neural nets on the dataset created to predict phishing websites. Both phishing and benign URLs of websites are gathered to form a dataset and from them required URL and website content-based features are extracted. The performance level of each model is measures and compared.\n",
    "\n",
    "*This project is worked on Google Collaboratory.*<br>\n",
    "*The required packages for this notebook are imported when needed.*"
   ]
  },
  {
   "cell_type": "markdown",
   "metadata": {
    "colab_type": "text",
    "id": "NOq598WCqIol"
   },
   "source": [
    "## **2. Loading Data:**\n",
    "\n",
    "The features are extracted and store in the csv file. The working of this can be seen in the 'Phishing Website Detection_Feature Extraction.ipynb' file.\n",
    "\n",
    "The reulted csv file is uploaded to this notebook and stored in the dataframe."
   ]
  },
  {
   "cell_type": "code",
   "execution_count": 1,
   "metadata": {
    "colab": {
     "base_uri": "https://localhost:8080/",
     "height": 70
    },
    "colab_type": "code",
    "id": "C297HhYulXcb",
    "outputId": "d6e2a9df-586e-4192-b8ec-1e7b7025c0c3"
   },
   "outputs": [],
   "source": [
    "#importing basic packages\n",
    "import pandas as pd\n",
    "import numpy as np\n",
    "import seaborn as sns\n",
    "import matplotlib.pyplot as plt"
   ]
  },
  {
   "cell_type": "code",
   "execution_count": 2,
   "metadata": {
    "colab": {
     "base_uri": "https://localhost:8080/",
     "height": 217
    },
    "colab_type": "code",
    "id": "fVPglpaf4REa",
    "outputId": "eef4a4ca-e12d-4cd3-e011-20376fc752a2"
   },
   "outputs": [
    {
     "data": {
      "text/html": [
       "<div>\n",
       "<style scoped>\n",
       "    .dataframe tbody tr th:only-of-type {\n",
       "        vertical-align: middle;\n",
       "    }\n",
       "\n",
       "    .dataframe tbody tr th {\n",
       "        vertical-align: top;\n",
       "    }\n",
       "\n",
       "    .dataframe thead th {\n",
       "        text-align: right;\n",
       "    }\n",
       "</style>\n",
       "<table border=\"1\" class=\"dataframe\">\n",
       "  <thead>\n",
       "    <tr style=\"text-align: right;\">\n",
       "      <th></th>\n",
       "      <th>Domain</th>\n",
       "      <th>Have_IP</th>\n",
       "      <th>Have_At</th>\n",
       "      <th>URL_Length</th>\n",
       "      <th>URL_Depth</th>\n",
       "      <th>Redirection</th>\n",
       "      <th>https_Domain</th>\n",
       "      <th>TinyURL</th>\n",
       "      <th>Prefix/Suffix</th>\n",
       "      <th>DNS_Record</th>\n",
       "      <th>Web_Traffic</th>\n",
       "      <th>Domain_Age</th>\n",
       "      <th>Domain_End</th>\n",
       "      <th>iFrame</th>\n",
       "      <th>Mouse_Over</th>\n",
       "      <th>Right_Click</th>\n",
       "      <th>Web_Forwards</th>\n",
       "      <th>Label</th>\n",
       "    </tr>\n",
       "  </thead>\n",
       "  <tbody>\n",
       "    <tr>\n",
       "      <th>0</th>\n",
       "      <td>graphicriver.net</td>\n",
       "      <td>0</td>\n",
       "      <td>0</td>\n",
       "      <td>1</td>\n",
       "      <td>1</td>\n",
       "      <td>0</td>\n",
       "      <td>0</td>\n",
       "      <td>0</td>\n",
       "      <td>0</td>\n",
       "      <td>0</td>\n",
       "      <td>1</td>\n",
       "      <td>1</td>\n",
       "      <td>1</td>\n",
       "      <td>0</td>\n",
       "      <td>0</td>\n",
       "      <td>1</td>\n",
       "      <td>0</td>\n",
       "      <td>0</td>\n",
       "    </tr>\n",
       "    <tr>\n",
       "      <th>1</th>\n",
       "      <td>ecnavi.jp</td>\n",
       "      <td>0</td>\n",
       "      <td>0</td>\n",
       "      <td>1</td>\n",
       "      <td>1</td>\n",
       "      <td>1</td>\n",
       "      <td>0</td>\n",
       "      <td>0</td>\n",
       "      <td>0</td>\n",
       "      <td>0</td>\n",
       "      <td>1</td>\n",
       "      <td>1</td>\n",
       "      <td>1</td>\n",
       "      <td>0</td>\n",
       "      <td>0</td>\n",
       "      <td>1</td>\n",
       "      <td>0</td>\n",
       "      <td>0</td>\n",
       "    </tr>\n",
       "    <tr>\n",
       "      <th>2</th>\n",
       "      <td>hubpages.com</td>\n",
       "      <td>0</td>\n",
       "      <td>0</td>\n",
       "      <td>1</td>\n",
       "      <td>1</td>\n",
       "      <td>0</td>\n",
       "      <td>0</td>\n",
       "      <td>0</td>\n",
       "      <td>0</td>\n",
       "      <td>0</td>\n",
       "      <td>1</td>\n",
       "      <td>0</td>\n",
       "      <td>1</td>\n",
       "      <td>0</td>\n",
       "      <td>0</td>\n",
       "      <td>1</td>\n",
       "      <td>0</td>\n",
       "      <td>0</td>\n",
       "    </tr>\n",
       "    <tr>\n",
       "      <th>3</th>\n",
       "      <td>extratorrent.cc</td>\n",
       "      <td>0</td>\n",
       "      <td>0</td>\n",
       "      <td>1</td>\n",
       "      <td>3</td>\n",
       "      <td>0</td>\n",
       "      <td>0</td>\n",
       "      <td>0</td>\n",
       "      <td>0</td>\n",
       "      <td>0</td>\n",
       "      <td>1</td>\n",
       "      <td>0</td>\n",
       "      <td>1</td>\n",
       "      <td>0</td>\n",
       "      <td>0</td>\n",
       "      <td>1</td>\n",
       "      <td>0</td>\n",
       "      <td>0</td>\n",
       "    </tr>\n",
       "    <tr>\n",
       "      <th>4</th>\n",
       "      <td>icicibank.com</td>\n",
       "      <td>0</td>\n",
       "      <td>0</td>\n",
       "      <td>1</td>\n",
       "      <td>3</td>\n",
       "      <td>0</td>\n",
       "      <td>0</td>\n",
       "      <td>0</td>\n",
       "      <td>0</td>\n",
       "      <td>0</td>\n",
       "      <td>1</td>\n",
       "      <td>0</td>\n",
       "      <td>1</td>\n",
       "      <td>0</td>\n",
       "      <td>0</td>\n",
       "      <td>1</td>\n",
       "      <td>0</td>\n",
       "      <td>0</td>\n",
       "    </tr>\n",
       "  </tbody>\n",
       "</table>\n",
       "</div>"
      ],
      "text/plain": [
       "             Domain  Have_IP  Have_At  URL_Length  URL_Depth  Redirection   \n",
       "0  graphicriver.net        0        0           1          1            0  \\\n",
       "1         ecnavi.jp        0        0           1          1            1   \n",
       "2      hubpages.com        0        0           1          1            0   \n",
       "3   extratorrent.cc        0        0           1          3            0   \n",
       "4     icicibank.com        0        0           1          3            0   \n",
       "\n",
       "   https_Domain  TinyURL  Prefix/Suffix  DNS_Record  Web_Traffic  Domain_Age   \n",
       "0             0        0              0           0            1           1  \\\n",
       "1             0        0              0           0            1           1   \n",
       "2             0        0              0           0            1           0   \n",
       "3             0        0              0           0            1           0   \n",
       "4             0        0              0           0            1           0   \n",
       "\n",
       "   Domain_End  iFrame  Mouse_Over  Right_Click  Web_Forwards  Label  \n",
       "0           1       0           0            1             0      0  \n",
       "1           1       0           0            1             0      0  \n",
       "2           1       0           0            1             0      0  \n",
       "3           1       0           0            1             0      0  \n",
       "4           1       0           0            1             0      0  "
      ]
     },
     "execution_count": 2,
     "metadata": {},
     "output_type": "execute_result"
    }
   ],
   "source": [
    "#Loading the data\n",
    "data0 = pd.read_csv(r\"/home/anirudh/GT/academics/ece6612-comp_netw_sec/project/project/phishin_ml/Phishing-Website-Detection/DataFiles/5.urldata.csv\")\n",
    "data0.head()"
   ]
  },
  {
   "cell_type": "markdown",
   "metadata": {
    "colab_type": "text",
    "id": "lMXihulvMcAj"
   },
   "source": [
    "## **3. Familiarizing with Data**\n",
    "In this step, few dataframe methods are used to look into the data and its features."
   ]
  },
  {
   "cell_type": "code",
   "execution_count": 3,
   "metadata": {
    "colab": {
     "base_uri": "https://localhost:8080/",
     "height": 33
    },
    "colab_type": "code",
    "id": "4hARIXyGKorc",
    "outputId": "bc223e7f-4529-4ebe-e7d0-7eef13e691c0"
   },
   "outputs": [
    {
     "data": {
      "text/plain": [
       "(10000, 18)"
      ]
     },
     "execution_count": 3,
     "metadata": {},
     "output_type": "execute_result"
    }
   ],
   "source": [
    "#Checking the shape of the dataset\n",
    "data0.shape"
   ]
  },
  {
   "cell_type": "code",
   "execution_count": 4,
   "metadata": {
    "colab": {
     "base_uri": "https://localhost:8080/",
     "height": 100
    },
    "colab_type": "code",
    "id": "Q3uBm9ObMyaG",
    "outputId": "551b4c2e-8b33-4a6a-c3e9-f168066915de"
   },
   "outputs": [
    {
     "data": {
      "text/plain": [
       "Index(['Domain', 'Have_IP', 'Have_At', 'URL_Length', 'URL_Depth',\n",
       "       'Redirection', 'https_Domain', 'TinyURL', 'Prefix/Suffix', 'DNS_Record',\n",
       "       'Web_Traffic', 'Domain_Age', 'Domain_End', 'iFrame', 'Mouse_Over',\n",
       "       'Right_Click', 'Web_Forwards', 'Label'],\n",
       "      dtype='object')"
      ]
     },
     "execution_count": 4,
     "metadata": {},
     "output_type": "execute_result"
    }
   ],
   "source": [
    "#Listing the features of the dataset\n",
    "data0.columns"
   ]
  },
  {
   "cell_type": "code",
   "execution_count": 5,
   "metadata": {
    "colab": {
     "base_uri": "https://localhost:8080/",
     "height": 433
    },
    "colab_type": "code",
    "id": "gBMqupCMM74V",
    "outputId": "0e530eb9-699d-4ece-800d-8e853fc9d6ca"
   },
   "outputs": [
    {
     "name": "stdout",
     "output_type": "stream",
     "text": [
      "<class 'pandas.core.frame.DataFrame'>\n",
      "RangeIndex: 10000 entries, 0 to 9999\n",
      "Data columns (total 18 columns):\n",
      " #   Column         Non-Null Count  Dtype \n",
      "---  ------         --------------  ----- \n",
      " 0   Domain         10000 non-null  object\n",
      " 1   Have_IP        10000 non-null  int64 \n",
      " 2   Have_At        10000 non-null  int64 \n",
      " 3   URL_Length     10000 non-null  int64 \n",
      " 4   URL_Depth      10000 non-null  int64 \n",
      " 5   Redirection    10000 non-null  int64 \n",
      " 6   https_Domain   10000 non-null  int64 \n",
      " 7   TinyURL        10000 non-null  int64 \n",
      " 8   Prefix/Suffix  10000 non-null  int64 \n",
      " 9   DNS_Record     10000 non-null  int64 \n",
      " 10  Web_Traffic    10000 non-null  int64 \n",
      " 11  Domain_Age     10000 non-null  int64 \n",
      " 12  Domain_End     10000 non-null  int64 \n",
      " 13  iFrame         10000 non-null  int64 \n",
      " 14  Mouse_Over     10000 non-null  int64 \n",
      " 15  Right_Click    10000 non-null  int64 \n",
      " 16  Web_Forwards   10000 non-null  int64 \n",
      " 17  Label          10000 non-null  int64 \n",
      "dtypes: int64(17), object(1)\n",
      "memory usage: 1.4+ MB\n"
     ]
    }
   ],
   "source": [
    "#Information about the dataset\n",
    "data0.info()"
   ]
  },
  {
   "cell_type": "markdown",
   "metadata": {
    "colab_type": "text",
    "id": "CfrxhE3pNfiw"
   },
   "source": [
    "## **4. Visualizing the data**\n",
    "Few plots and graphs are displayed to find how the data is distributed and the how features are related to each other."
   ]
  },
  {
   "cell_type": "code",
   "execution_count": 6,
   "metadata": {
    "colab": {
     "base_uri": "https://localhost:8080/",
     "height": 879
    },
    "colab_type": "code",
    "id": "N9K0yAdAM70w",
    "outputId": "05687b93-945e-4fee-c3da-baae065ad528"
   },
   "outputs": [
    {
     "data": {
      "image/png": "[encoded data removed]",
      "text/plain": [
       "<Figure size 1500x1500 with 20 Axes>"
      ]
     },
     "metadata": {},
     "output_type": "display_data"
    }
   ],
   "source": [
    "#Plotting the data distribution\n",
    "data0.hist(bins = 50,figsize = (15,15))\n",
    "plt.show()"
   ]
  },
  {
   "cell_type": "code",
   "execution_count": 8,
   "metadata": {
    "colab": {
     "base_uri": "https://localhost:8080/",
     "height": 821
    },
    "colab_type": "code",
    "id": "jy9fjgj3M7zc",
    "outputId": "0292cc0a-8436-49d9-c724-ad9345f1b693"
   },
   "outputs": [
    {
     "ename": "ValueError",
     "evalue": "could not convert string to float: 'graphicriver.net'",
     "output_type": "error",
     "traceback": [
      "\u001b[0;31m---------------------------------------------------------------------------\u001b[0m",
      "\u001b[0;31mValueError\u001b[0m                                Traceback (most recent call last)",
      "\u001b[1;32m/home/anirudh/GT/academics/ece6612-comp_netw_sec/project/project/phishin_ml/Phishing-Website-Detection/Phishing Website Detection_Models & Training.ipynb Cell 12\u001b[0m line \u001b[0;36m4\n\u001b[1;32m      <a href='vscode-notebook-cell:/home/anirudh/GT/academics/ece6612-comp_netw_sec/project/project/phishin_ml/Phishing-Website-Detection/Phishing%20Website%20Detection_Models%20%26%20Training.ipynb#X14sZmlsZQ%3D%3D?line=0'>1</a>\u001b[0m \u001b[39m#Correlation heatmap\u001b[39;00m\n\u001b[1;32m      <a href='vscode-notebook-cell:/home/anirudh/GT/academics/ece6612-comp_netw_sec/project/project/phishin_ml/Phishing-Website-Detection/Phishing%20Website%20Detection_Models%20%26%20Training.ipynb#X14sZmlsZQ%3D%3D?line=2'>3</a>\u001b[0m plt\u001b[39m.\u001b[39mfigure(figsize\u001b[39m=\u001b[39m(\u001b[39m15\u001b[39m,\u001b[39m13\u001b[39m))\n\u001b[0;32m----> <a href='vscode-notebook-cell:/home/anirudh/GT/academics/ece6612-comp_netw_sec/project/project/phishin_ml/Phishing-Website-Detection/Phishing%20Website%20Detection_Models%20%26%20Training.ipynb#X14sZmlsZQ%3D%3D?line=3'>4</a>\u001b[0m sns\u001b[39m.\u001b[39mheatmap(data0\u001b[39m.\u001b[39;49mcorr())\n\u001b[1;32m      <a href='vscode-notebook-cell:/home/anirudh/GT/academics/ece6612-comp_netw_sec/project/project/phishin_ml/Phishing-Website-Detection/Phishing%20Website%20Detection_Models%20%26%20Training.ipynb#X14sZmlsZQ%3D%3D?line=4'>5</a>\u001b[0m plt\u001b[39m.\u001b[39mshow()\n",
      "File \u001b[0;32m~/.local/lib/python3.8/site-packages/pandas/core/frame.py:10054\u001b[0m, in \u001b[0;36mDataFrame.corr\u001b[0;34m(self, method, min_periods, numeric_only)\u001b[0m\n\u001b[1;32m  10052\u001b[0m cols \u001b[39m=\u001b[39m data\u001b[39m.\u001b[39mcolumns\n\u001b[1;32m  10053\u001b[0m idx \u001b[39m=\u001b[39m cols\u001b[39m.\u001b[39mcopy()\n\u001b[0;32m> 10054\u001b[0m mat \u001b[39m=\u001b[39m data\u001b[39m.\u001b[39;49mto_numpy(dtype\u001b[39m=\u001b[39;49m\u001b[39mfloat\u001b[39;49m, na_value\u001b[39m=\u001b[39;49mnp\u001b[39m.\u001b[39;49mnan, copy\u001b[39m=\u001b[39;49m\u001b[39mFalse\u001b[39;49;00m)\n\u001b[1;32m  10056\u001b[0m \u001b[39mif\u001b[39;00m method \u001b[39m==\u001b[39m \u001b[39m\"\u001b[39m\u001b[39mpearson\u001b[39m\u001b[39m\"\u001b[39m:\n\u001b[1;32m  10057\u001b[0m     correl \u001b[39m=\u001b[39m libalgos\u001b[39m.\u001b[39mnancorr(mat, minp\u001b[39m=\u001b[39mmin_periods)\n",
      "File \u001b[0;32m~/.local/lib/python3.8/site-packages/pandas/core/frame.py:1837\u001b[0m, in \u001b[0;36mDataFrame.to_numpy\u001b[0;34m(self, dtype, copy, na_value)\u001b[0m\n\u001b[1;32m   1835\u001b[0m \u001b[39mif\u001b[39;00m dtype \u001b[39mis\u001b[39;00m \u001b[39mnot\u001b[39;00m \u001b[39mNone\u001b[39;00m:\n\u001b[1;32m   1836\u001b[0m     dtype \u001b[39m=\u001b[39m np\u001b[39m.\u001b[39mdtype(dtype)\n\u001b[0;32m-> 1837\u001b[0m result \u001b[39m=\u001b[39m \u001b[39mself\u001b[39;49m\u001b[39m.\u001b[39;49m_mgr\u001b[39m.\u001b[39;49mas_array(dtype\u001b[39m=\u001b[39;49mdtype, copy\u001b[39m=\u001b[39;49mcopy, na_value\u001b[39m=\u001b[39;49mna_value)\n\u001b[1;32m   1838\u001b[0m \u001b[39mif\u001b[39;00m result\u001b[39m.\u001b[39mdtype \u001b[39mis\u001b[39;00m \u001b[39mnot\u001b[39;00m dtype:\n\u001b[1;32m   1839\u001b[0m     result \u001b[39m=\u001b[39m np\u001b[39m.\u001b[39marray(result, dtype\u001b[39m=\u001b[39mdtype, copy\u001b[39m=\u001b[39m\u001b[39mFalse\u001b[39;00m)\n",
      "File \u001b[0;32m~/.local/lib/python3.8/site-packages/pandas/core/internals/managers.py:1732\u001b[0m, in \u001b[0;36mBlockManager.as_array\u001b[0;34m(self, dtype, copy, na_value)\u001b[0m\n\u001b[1;32m   1730\u001b[0m         arr\u001b[39m.\u001b[39mflags\u001b[39m.\u001b[39mwriteable \u001b[39m=\u001b[39m \u001b[39mFalse\u001b[39;00m\n\u001b[1;32m   1731\u001b[0m \u001b[39melse\u001b[39;00m:\n\u001b[0;32m-> 1732\u001b[0m     arr \u001b[39m=\u001b[39m \u001b[39mself\u001b[39;49m\u001b[39m.\u001b[39;49m_interleave(dtype\u001b[39m=\u001b[39;49mdtype, na_value\u001b[39m=\u001b[39;49mna_value)\n\u001b[1;32m   1733\u001b[0m     \u001b[39m# The underlying data was copied within _interleave, so no need\u001b[39;00m\n\u001b[1;32m   1734\u001b[0m     \u001b[39m# to further copy if copy=True or setting na_value\u001b[39;00m\n\u001b[1;32m   1736\u001b[0m \u001b[39mif\u001b[39;00m na_value \u001b[39mis\u001b[39;00m \u001b[39mnot\u001b[39;00m lib\u001b[39m.\u001b[39mno_default:\n",
      "File \u001b[0;32m~/.local/lib/python3.8/site-packages/pandas/core/internals/managers.py:1794\u001b[0m, in \u001b[0;36mBlockManager._interleave\u001b[0;34m(self, dtype, na_value)\u001b[0m\n\u001b[1;32m   1792\u001b[0m     \u001b[39melse\u001b[39;00m:\n\u001b[1;32m   1793\u001b[0m         arr \u001b[39m=\u001b[39m blk\u001b[39m.\u001b[39mget_values(dtype)\n\u001b[0;32m-> 1794\u001b[0m     result[rl\u001b[39m.\u001b[39;49mindexer] \u001b[39m=\u001b[39m arr\n\u001b[1;32m   1795\u001b[0m     itemmask[rl\u001b[39m.\u001b[39mindexer] \u001b[39m=\u001b[39m \u001b[39m1\u001b[39m\n\u001b[1;32m   1797\u001b[0m \u001b[39mif\u001b[39;00m \u001b[39mnot\u001b[39;00m itemmask\u001b[39m.\u001b[39mall():\n",
      "\u001b[0;31mValueError\u001b[0m: could not convert string to float: 'graphicriver.net'"
     ]
    },
    {
     "data": {
      "text/plain": [
       "<Figure size 1500x1300 with 0 Axes>"
      ]
     },
     "metadata": {},
     "output_type": "display_data"
    }
   ],
   "source": [
    "#Correlation heatmap\n",
    "\n",
    "plt.figure(figsize=(15,13))\n",
    "sns.heatmap(data0.corr())\n",
    "plt.show()"
   ]
  },
  {
   "cell_type": "markdown",
   "metadata": {
    "colab_type": "text",
    "id": "9cbVPMe8NxFN"
   },
   "source": [
    "## **5. Data Preprocessing & EDA**\n",
    "Here, we clean the data by applying data preprocesssing techniques and transform the data to use it in the models."
   ]
  },
  {
   "cell_type": "code",
   "execution_count": 9,
   "metadata": {
    "colab": {
     "base_uri": "https://localhost:8080/",
     "height": 307
    },
    "colab_type": "code",
    "id": "b_HKPelgnmf8",
    "outputId": "f9fb9a1b-0ddc-470a-f4c0-db248a1a94f3"
   },
   "outputs": [
    {
     "data": {
      "text/html": [
       "<div>\n",
       "<style scoped>\n",
       "    .dataframe tbody tr th:only-of-type {\n",
       "        vertical-align: middle;\n",
       "    }\n",
       "\n",
       "    .dataframe tbody tr th {\n",
       "        vertical-align: top;\n",
       "    }\n",
       "\n",
       "    .dataframe thead th {\n",
       "        text-align: right;\n",
       "    }\n",
       "</style>\n",
       "<table border=\"1\" class=\"dataframe\">\n",
       "  <thead>\n",
       "    <tr style=\"text-align: right;\">\n",
       "      <th></th>\n",
       "      <th>Have_IP</th>\n",
       "      <th>Have_At</th>\n",
       "      <th>URL_Length</th>\n",
       "      <th>URL_Depth</th>\n",
       "      <th>Redirection</th>\n",
       "      <th>https_Domain</th>\n",
       "      <th>TinyURL</th>\n",
       "      <th>Prefix/Suffix</th>\n",
       "      <th>DNS_Record</th>\n",
       "      <th>Web_Traffic</th>\n",
       "      <th>Domain_Age</th>\n",
       "      <th>Domain_End</th>\n",
       "      <th>iFrame</th>\n",
       "      <th>Mouse_Over</th>\n",
       "      <th>Right_Click</th>\n",
       "      <th>Web_Forwards</th>\n",
       "      <th>Label</th>\n",
       "    </tr>\n",
       "  </thead>\n",
       "  <tbody>\n",
       "    <tr>\n",
       "      <th>count</th>\n",
       "      <td>10000.000000</td>\n",
       "      <td>10000.000000</td>\n",
       "      <td>10000.000000</td>\n",
       "      <td>10000.000000</td>\n",
       "      <td>10000.000000</td>\n",
       "      <td>10000.000000</td>\n",
       "      <td>10000.000000</td>\n",
       "      <td>10000.000000</td>\n",
       "      <td>10000.000000</td>\n",
       "      <td>10000.000000</td>\n",
       "      <td>10000.000000</td>\n",
       "      <td>10000.0000</td>\n",
       "      <td>10000.000000</td>\n",
       "      <td>10000.00000</td>\n",
       "      <td>10000.00000</td>\n",
       "      <td>10000.000000</td>\n",
       "      <td>10000.000000</td>\n",
       "    </tr>\n",
       "    <tr>\n",
       "      <th>mean</th>\n",
       "      <td>0.005500</td>\n",
       "      <td>0.022600</td>\n",
       "      <td>0.773400</td>\n",
       "      <td>3.072000</td>\n",
       "      <td>0.013500</td>\n",
       "      <td>0.000200</td>\n",
       "      <td>0.090300</td>\n",
       "      <td>0.093200</td>\n",
       "      <td>0.100800</td>\n",
       "      <td>0.845700</td>\n",
       "      <td>0.413700</td>\n",
       "      <td>0.8099</td>\n",
       "      <td>0.090900</td>\n",
       "      <td>0.06660</td>\n",
       "      <td>0.99930</td>\n",
       "      <td>0.105300</td>\n",
       "      <td>0.500000</td>\n",
       "    </tr>\n",
       "    <tr>\n",
       "      <th>std</th>\n",
       "      <td>0.073961</td>\n",
       "      <td>0.148632</td>\n",
       "      <td>0.418653</td>\n",
       "      <td>2.128631</td>\n",
       "      <td>0.115408</td>\n",
       "      <td>0.014141</td>\n",
       "      <td>0.286625</td>\n",
       "      <td>0.290727</td>\n",
       "      <td>0.301079</td>\n",
       "      <td>0.361254</td>\n",
       "      <td>0.492521</td>\n",
       "      <td>0.3924</td>\n",
       "      <td>0.287481</td>\n",
       "      <td>0.24934</td>\n",
       "      <td>0.02645</td>\n",
       "      <td>0.306955</td>\n",
       "      <td>0.500025</td>\n",
       "    </tr>\n",
       "    <tr>\n",
       "      <th>min</th>\n",
       "      <td>0.000000</td>\n",
       "      <td>0.000000</td>\n",
       "      <td>0.000000</td>\n",
       "      <td>0.000000</td>\n",
       "      <td>0.000000</td>\n",
       "      <td>0.000000</td>\n",
       "      <td>0.000000</td>\n",
       "      <td>0.000000</td>\n",
       "      <td>0.000000</td>\n",
       "      <td>0.000000</td>\n",
       "      <td>0.000000</td>\n",
       "      <td>0.0000</td>\n",
       "      <td>0.000000</td>\n",
       "      <td>0.00000</td>\n",
       "      <td>0.00000</td>\n",
       "      <td>0.000000</td>\n",
       "      <td>0.000000</td>\n",
       "    </tr>\n",
       "    <tr>\n",
       "      <th>25%</th>\n",
       "      <td>0.000000</td>\n",
       "      <td>0.000000</td>\n",
       "      <td>1.000000</td>\n",
       "      <td>2.000000</td>\n",
       "      <td>0.000000</td>\n",
       "      <td>0.000000</td>\n",
       "      <td>0.000000</td>\n",
       "      <td>0.000000</td>\n",
       "      <td>0.000000</td>\n",
       "      <td>1.000000</td>\n",
       "      <td>0.000000</td>\n",
       "      <td>1.0000</td>\n",
       "      <td>0.000000</td>\n",
       "      <td>0.00000</td>\n",
       "      <td>1.00000</td>\n",
       "      <td>0.000000</td>\n",
       "      <td>0.000000</td>\n",
       "    </tr>\n",
       "    <tr>\n",
       "      <th>50%</th>\n",
       "      <td>0.000000</td>\n",
       "      <td>0.000000</td>\n",
       "      <td>1.000000</td>\n",
       "      <td>3.000000</td>\n",
       "      <td>0.000000</td>\n",
       "      <td>0.000000</td>\n",
       "      <td>0.000000</td>\n",
       "      <td>0.000000</td>\n",
       "      <td>0.000000</td>\n",
       "      <td>1.000000</td>\n",
       "      <td>0.000000</td>\n",
       "      <td>1.0000</td>\n",
       "      <td>0.000000</td>\n",
       "      <td>0.00000</td>\n",
       "      <td>1.00000</td>\n",
       "      <td>0.000000</td>\n",
       "      <td>0.500000</td>\n",
       "    </tr>\n",
       "    <tr>\n",
       "      <th>75%</th>\n",
       "      <td>0.000000</td>\n",
       "      <td>0.000000</td>\n",
       "      <td>1.000000</td>\n",
       "      <td>4.000000</td>\n",
       "      <td>0.000000</td>\n",
       "      <td>0.000000</td>\n",
       "      <td>0.000000</td>\n",
       "      <td>0.000000</td>\n",
       "      <td>0.000000</td>\n",
       "      <td>1.000000</td>\n",
       "      <td>1.000000</td>\n",
       "      <td>1.0000</td>\n",
       "      <td>0.000000</td>\n",
       "      <td>0.00000</td>\n",
       "      <td>1.00000</td>\n",
       "      <td>0.000000</td>\n",
       "      <td>1.000000</td>\n",
       "    </tr>\n",
       "    <tr>\n",
       "      <th>max</th>\n",
       "      <td>1.000000</td>\n",
       "      <td>1.000000</td>\n",
       "      <td>1.000000</td>\n",
       "      <td>20.000000</td>\n",
       "      <td>1.000000</td>\n",
       "      <td>1.000000</td>\n",
       "      <td>1.000000</td>\n",
       "      <td>1.000000</td>\n",
       "      <td>1.000000</td>\n",
       "      <td>1.000000</td>\n",
       "      <td>1.000000</td>\n",
       "      <td>1.0000</td>\n",
       "      <td>1.000000</td>\n",
       "      <td>1.00000</td>\n",
       "      <td>1.00000</td>\n",
       "      <td>1.000000</td>\n",
       "      <td>1.000000</td>\n",
       "    </tr>\n",
       "  </tbody>\n",
       "</table>\n",
       "</div>"
      ],
      "text/plain": [
       "            Have_IP       Have_At    URL_Length     URL_Depth   Redirection   \n",
       "count  10000.000000  10000.000000  10000.000000  10000.000000  10000.000000  \\\n",
       "mean       0.005500      0.022600      0.773400      3.072000      0.013500   \n",
       "std        0.073961      0.148632      0.418653      2.128631      0.115408   \n",
       "min        0.000000      0.000000      0.000000      0.000000      0.000000   \n",
       "25%        0.000000      0.000000      1.000000      2.000000      0.000000   \n",
       "50%        0.000000      0.000000      1.000000      3.000000      0.000000   \n",
       "75%        0.000000      0.000000      1.000000      4.000000      0.000000   \n",
       "max        1.000000      1.000000      1.000000     20.000000      1.000000   \n",
       "\n",
       "       https_Domain       TinyURL  Prefix/Suffix    DNS_Record   Web_Traffic   \n",
       "count  10000.000000  10000.000000   10000.000000  10000.000000  10000.000000  \\\n",
       "mean       0.000200      0.090300       0.093200      0.100800      0.845700   \n",
       "std        0.014141      0.286625       0.290727      0.301079      0.361254   \n",
       "min        0.000000      0.000000       0.000000      0.000000      0.000000   \n",
       "25%        0.000000      0.000000       0.000000      0.000000      1.000000   \n",
       "50%        0.000000      0.000000       0.000000      0.000000      1.000000   \n",
       "75%        0.000000      0.000000       0.000000      0.000000      1.000000   \n",
       "max        1.000000      1.000000       1.000000      1.000000      1.000000   \n",
       "\n",
       "         Domain_Age  Domain_End        iFrame   Mouse_Over  Right_Click   \n",
       "count  10000.000000  10000.0000  10000.000000  10000.00000  10000.00000  \\\n",
       "mean       0.413700      0.8099      0.090900      0.06660      0.99930   \n",
       "std        0.492521      0.3924      0.287481      0.24934      0.02645   \n",
       "min        0.000000      0.0000      0.000000      0.00000      0.00000   \n",
       "25%        0.000000      1.0000      0.000000      0.00000      1.00000   \n",
       "50%        0.000000      1.0000      0.000000      0.00000      1.00000   \n",
       "75%        1.000000      1.0000      0.000000      0.00000      1.00000   \n",
       "max        1.000000      1.0000      1.000000      1.00000      1.00000   \n",
       "\n",
       "       Web_Forwards         Label  \n",
       "count  10000.000000  10000.000000  \n",
       "mean       0.105300      0.500000  \n",
       "std        0.306955      0.500025  \n",
       "min        0.000000      0.000000  \n",
       "25%        0.000000      0.000000  \n",
       "50%        0.000000      0.500000  \n",
       "75%        0.000000      1.000000  \n",
       "max        1.000000      1.000000  "
      ]
     },
     "execution_count": 9,
     "metadata": {},
     "output_type": "execute_result"
    }
   ],
   "source": [
    "data0.describe()"
   ]
  },
  {
   "cell_type": "markdown",
   "metadata": {
    "colab_type": "text",
    "id": "XBqTcpqen_fB"
   },
   "source": [
    "The above obtained result shows that the most of the data is made of 0's & 1's except 'Domain' & 'URL_Depth' columns. The Domain column doesnt have any significance to the machine learning model training. So dropping the *'Domain'* column from the dataset. "
   ]
  },
  {
   "cell_type": "code",
   "execution_count": 10,
   "metadata": {
    "colab": {},
    "colab_type": "code",
    "id": "tdpRw0Bcn_K1"
   },
   "outputs": [],
   "source": [
    "#Dropping the Domain column\n",
    "data = data0.drop(['Domain'], axis = 1).copy()"
   ]
  },
  {
   "cell_type": "markdown",
   "metadata": {
    "colab_type": "text",
    "id": "peN2Q-WdowNL"
   },
   "source": [
    "This leaves us with 16 features & a target column. The *'URL_Depth'* maximum value is 20. According to my understanding, there is no necessity to change this column."
   ]
  },
  {
   "cell_type": "code",
   "execution_count": 11,
   "metadata": {
    "colab": {
     "base_uri": "https://localhost:8080/",
     "height": 317
    },
    "colab_type": "code",
    "id": "iGO3nWV1nvW1",
    "outputId": "f9cc1bae-b91b-483d-a1ca-44aea204dae5"
   },
   "outputs": [
    {
     "data": {
      "text/plain": [
       "Have_IP          0\n",
       "Have_At          0\n",
       "URL_Length       0\n",
       "URL_Depth        0\n",
       "Redirection      0\n",
       "https_Domain     0\n",
       "TinyURL          0\n",
       "Prefix/Suffix    0\n",
       "DNS_Record       0\n",
       "Web_Traffic      0\n",
       "Domain_Age       0\n",
       "Domain_End       0\n",
       "iFrame           0\n",
       "Mouse_Over       0\n",
       "Right_Click      0\n",
       "Web_Forwards     0\n",
       "Label            0\n",
       "dtype: int64"
      ]
     },
     "execution_count": 11,
     "metadata": {},
     "output_type": "execute_result"
    }
   ],
   "source": [
    "#checking the data for null or missing values\n",
    "data.isnull().sum()"
   ]
  },
  {
   "cell_type": "markdown",
   "metadata": {
    "colab_type": "text",
    "id": "5xo6cAqAqJOq"
   },
   "source": [
    "In the feature extraction file, the extracted features of legitmate & phishing url datasets are just concatenated without any shuffling. This resulted in top 5000 rows of legitimate url data & bottom 5000 of phishing url data. \n",
    "\n",
    "To even out the distribution while splitting the data into training & testing sets, we need to shuffle it. This even evades the case of overfitting while model training."
   ]
  },
  {
   "cell_type": "code",
   "execution_count": 12,
   "metadata": {
    "colab": {
     "base_uri": "https://localhost:8080/",
     "height": 217
    },
    "colab_type": "code",
    "id": "4LZnaoU_qBsz",
    "outputId": "df212692-ea66-4d67-a4aa-00a256010f69"
   },
   "outputs": [
    {
     "data": {
      "text/html": [
       "<div>\n",
       "<style scoped>\n",
       "    .dataframe tbody tr th:only-of-type {\n",
       "        vertical-align: middle;\n",
       "    }\n",
       "\n",
       "    .dataframe tbody tr th {\n",
       "        vertical-align: top;\n",
       "    }\n",
       "\n",
       "    .dataframe thead th {\n",
       "        text-align: right;\n",
       "    }\n",
       "</style>\n",
       "<table border=\"1\" class=\"dataframe\">\n",
       "  <thead>\n",
       "    <tr style=\"text-align: right;\">\n",
       "      <th></th>\n",
       "      <th>Have_IP</th>\n",
       "      <th>Have_At</th>\n",
       "      <th>URL_Length</th>\n",
       "      <th>URL_Depth</th>\n",
       "      <th>Redirection</th>\n",
       "      <th>https_Domain</th>\n",
       "      <th>TinyURL</th>\n",
       "      <th>Prefix/Suffix</th>\n",
       "      <th>DNS_Record</th>\n",
       "      <th>Web_Traffic</th>\n",
       "      <th>Domain_Age</th>\n",
       "      <th>Domain_End</th>\n",
       "      <th>iFrame</th>\n",
       "      <th>Mouse_Over</th>\n",
       "      <th>Right_Click</th>\n",
       "      <th>Web_Forwards</th>\n",
       "      <th>Label</th>\n",
       "    </tr>\n",
       "  </thead>\n",
       "  <tbody>\n",
       "    <tr>\n",
       "      <th>0</th>\n",
       "      <td>0</td>\n",
       "      <td>0</td>\n",
       "      <td>1</td>\n",
       "      <td>2</td>\n",
       "      <td>0</td>\n",
       "      <td>0</td>\n",
       "      <td>0</td>\n",
       "      <td>0</td>\n",
       "      <td>0</td>\n",
       "      <td>1</td>\n",
       "      <td>1</td>\n",
       "      <td>1</td>\n",
       "      <td>0</td>\n",
       "      <td>0</td>\n",
       "      <td>1</td>\n",
       "      <td>0</td>\n",
       "      <td>0</td>\n",
       "    </tr>\n",
       "    <tr>\n",
       "      <th>1</th>\n",
       "      <td>0</td>\n",
       "      <td>0</td>\n",
       "      <td>1</td>\n",
       "      <td>5</td>\n",
       "      <td>0</td>\n",
       "      <td>0</td>\n",
       "      <td>1</td>\n",
       "      <td>0</td>\n",
       "      <td>0</td>\n",
       "      <td>1</td>\n",
       "      <td>1</td>\n",
       "      <td>1</td>\n",
       "      <td>1</td>\n",
       "      <td>1</td>\n",
       "      <td>1</td>\n",
       "      <td>1</td>\n",
       "      <td>0</td>\n",
       "    </tr>\n",
       "    <tr>\n",
       "      <th>2</th>\n",
       "      <td>0</td>\n",
       "      <td>0</td>\n",
       "      <td>1</td>\n",
       "      <td>3</td>\n",
       "      <td>0</td>\n",
       "      <td>0</td>\n",
       "      <td>0</td>\n",
       "      <td>0</td>\n",
       "      <td>0</td>\n",
       "      <td>1</td>\n",
       "      <td>0</td>\n",
       "      <td>1</td>\n",
       "      <td>0</td>\n",
       "      <td>0</td>\n",
       "      <td>1</td>\n",
       "      <td>0</td>\n",
       "      <td>0</td>\n",
       "    </tr>\n",
       "    <tr>\n",
       "      <th>3</th>\n",
       "      <td>0</td>\n",
       "      <td>0</td>\n",
       "      <td>1</td>\n",
       "      <td>3</td>\n",
       "      <td>0</td>\n",
       "      <td>0</td>\n",
       "      <td>0</td>\n",
       "      <td>0</td>\n",
       "      <td>0</td>\n",
       "      <td>0</td>\n",
       "      <td>0</td>\n",
       "      <td>1</td>\n",
       "      <td>0</td>\n",
       "      <td>0</td>\n",
       "      <td>1</td>\n",
       "      <td>0</td>\n",
       "      <td>0</td>\n",
       "    </tr>\n",
       "    <tr>\n",
       "      <th>4</th>\n",
       "      <td>0</td>\n",
       "      <td>1</td>\n",
       "      <td>1</td>\n",
       "      <td>2</td>\n",
       "      <td>0</td>\n",
       "      <td>0</td>\n",
       "      <td>0</td>\n",
       "      <td>1</td>\n",
       "      <td>0</td>\n",
       "      <td>0</td>\n",
       "      <td>0</td>\n",
       "      <td>1</td>\n",
       "      <td>0</td>\n",
       "      <td>0</td>\n",
       "      <td>1</td>\n",
       "      <td>0</td>\n",
       "      <td>1</td>\n",
       "    </tr>\n",
       "  </tbody>\n",
       "</table>\n",
       "</div>"
      ],
      "text/plain": [
       "   Have_IP  Have_At  URL_Length  URL_Depth  Redirection  https_Domain   \n",
       "0        0        0           1          2            0             0  \\\n",
       "1        0        0           1          5            0             0   \n",
       "2        0        0           1          3            0             0   \n",
       "3        0        0           1          3            0             0   \n",
       "4        0        1           1          2            0             0   \n",
       "\n",
       "   TinyURL  Prefix/Suffix  DNS_Record  Web_Traffic  Domain_Age  Domain_End   \n",
       "0        0              0           0            1           1           1  \\\n",
       "1        1              0           0            1           1           1   \n",
       "2        0              0           0            1           0           1   \n",
       "3        0              0           0            0           0           1   \n",
       "4        0              1           0            0           0           1   \n",
       "\n",
       "   iFrame  Mouse_Over  Right_Click  Web_Forwards  Label  \n",
       "0       0           0            1             0      0  \n",
       "1       1           1            1             1      0  \n",
       "2       0           0            1             0      0  \n",
       "3       0           0            1             0      0  \n",
       "4       0           0            1             0      1  "
      ]
     },
     "execution_count": 12,
     "metadata": {},
     "output_type": "execute_result"
    }
   ],
   "source": [
    "# shuffling the rows in the dataset so that when splitting the train and test set are equally distributed\n",
    "data = data.sample(frac=1).reset_index(drop=True)\n",
    "data.head()"
   ]
  },
  {
   "cell_type": "markdown",
   "metadata": {
    "colab_type": "text",
    "id": "4FsQosd_nycx"
   },
   "source": [
    "From the above execution, it is clear that the data doesnot have any missing values.\n",
    "\n",
    "By this, the data is throughly preprocessed & is ready for training."
   ]
  },
  {
   "cell_type": "markdown",
   "metadata": {
    "colab_type": "text",
    "id": "Fs5hu2UR4SIF"
   },
   "source": [
    "## **6. Splitting the Data**"
   ]
  },
  {
   "cell_type": "code",
   "execution_count": 13,
   "metadata": {
    "colab": {
     "base_uri": "https://localhost:8080/",
     "height": 33
    },
    "colab_type": "code",
    "id": "FzEU-wcLN8K7",
    "outputId": "534f9839-31e6-4b19-b469-c16db57fd5a9"
   },
   "outputs": [
    {
     "data": {
      "text/plain": [
       "((10000, 16), (10000,))"
      ]
     },
     "execution_count": 13,
     "metadata": {},
     "output_type": "execute_result"
    }
   ],
   "source": [
    "# Sepratating & assigning features and target columns to X & y\n",
    "y = data['Label']\n",
    "X = data.drop('Label',axis=1)\n",
    "X.shape, y.shape"
   ]
  },
  {
   "cell_type": "code",
   "execution_count": 14,
   "metadata": {
    "colab": {
     "base_uri": "https://localhost:8080/",
     "height": 33
    },
    "colab_type": "code",
    "id": "84xKobSqAV3U",
    "outputId": "20c0a9f7-d20e-4176-f815-238727c44336"
   },
   "outputs": [
    {
     "data": {
      "text/plain": [
       "((8000, 16), (2000, 16))"
      ]
     },
     "execution_count": 14,
     "metadata": {},
     "output_type": "execute_result"
    }
   ],
   "source": [
    "# Splitting the dataset into train and test sets: 80-20 split\n",
    "from sklearn.model_selection import train_test_split\n",
    "\n",
    "X_train, X_test, y_train, y_test = train_test_split(X, y, \n",
    "                                                    test_size = 0.2, random_state = 12)\n",
    "X_train.shape, X_test.shape"
   ]
  },
  {
   "cell_type": "markdown",
   "metadata": {
    "colab_type": "text",
    "id": "ah9B035xOjs1"
   },
   "source": [
    "## **7. Machine Learning Models & Training**\n",
    "\n",
    "From the dataset above, it is clear that this is a supervised machine learning task. There are two major types of supervised machine learning problems, called classification and regression. \n",
    "\n",
    "This data set comes under classification problem, as the input URL is classified as phishing (1) or legitimate (0). The supervised machine learning models (classification) considered to train the dataset in this notebook are:\n",
    "* Decision Tree\n",
    "* Random Forest\n",
    "* Multilayer Perceptrons\n",
    "* XGBoost\n",
    "* Autoencoder Neural Network\n",
    "* Support Vector Machines"
   ]
  },
  {
   "cell_type": "code",
   "execution_count": 15,
   "metadata": {
    "colab": {},
    "colab_type": "code",
    "id": "D5Tg_ei0-xPU"
   },
   "outputs": [],
   "source": [
    "#importing packages\n",
    "from sklearn.metrics import accuracy_score"
   ]
  },
  {
   "cell_type": "code",
   "execution_count": 16,
   "metadata": {
    "colab": {},
    "colab_type": "code",
    "id": "DPBHdBikSXHv"
   },
   "outputs": [],
   "source": [
    "# Creating holders to store the model performance results\n",
    "ML_Model = []\n",
    "acc_train = []\n",
    "acc_test = []\n",
    "\n",
    "#function to call for storing the results\n",
    "def storeResults(model, a,b):\n",
    "  ML_Model.append(model)\n",
    "  acc_train.append(round(a, 3))\n",
    "  acc_test.append(round(b, 3))"
   ]
  },
  {
   "cell_type": "markdown",
   "metadata": {
    "colab_type": "text",
    "id": "YOolxQWs-VbB"
   },
   "source": [
    "### **7.1. Decision Tree Classifier**\n",
    " Decision trees are widely used models for classification and regression tasks. Essentially, they learn a hierarchy of if/else questions, leading to a decision. Learning a decision tree means learning the sequence of if/else questions that gets us to the true answer most quickly.\n",
    " \n",
    "In the machine learning setting, these questions are called tests (not to be confused with the test set, which is the data we use to test to see how generalizable our model is). To build a tree, the algorithm searches over all possible tests and finds the one that is most informative about the target variable."
   ]
  },
  {
   "cell_type": "code",
   "execution_count": 17,
   "metadata": {
    "colab": {
     "base_uri": "https://localhost:8080/",
     "height": 117
    },
    "colab_type": "code",
    "id": "1kzsjtudy-0w",
    "outputId": "80b84eba-eeb1-48d1-d95a-412b7cfb4c45"
   },
   "outputs": [
    {
     "data": {
      "text/plain": [
       "DecisionTreeClassifier(max_depth=5)"
      ]
     },
     "execution_count": 17,
     "metadata": {},
     "output_type": "execute_result"
    }
   ],
   "source": [
    "# Decision Tree model \n",
    "from sklearn.tree import DecisionTreeClassifier\n",
    "\n",
    "# instantiate the model \n",
    "tree = DecisionTreeClassifier(max_depth = 5)\n",
    "# fit the model \n",
    "tree.fit(X_train, y_train)"
   ]
  },
  {
   "cell_type": "code",
   "execution_count": 18,
   "metadata": {
    "colab": {},
    "colab_type": "code",
    "id": "cpPk7O-MrTZi"
   },
   "outputs": [],
   "source": [
    "#predicting the target value from the model for the samples\n",
    "y_test_tree = tree.predict(X_test)\n",
    "y_train_tree = tree.predict(X_train)"
   ]
  },
  {
   "cell_type": "markdown",
   "metadata": {
    "colab_type": "text",
    "id": "kLn-_qOuS_9Y"
   },
   "source": [
    "**Performance Evaluation:**"
   ]
  },
  {
   "cell_type": "code",
   "execution_count": 19,
   "metadata": {
    "colab": {
     "base_uri": "https://localhost:8080/",
     "height": 50
    },
    "colab_type": "code",
    "id": "X4wDTnFZrz3q",
    "outputId": "a8bf5873-8185-4f18-e0f0-87717975e5a0"
   },
   "outputs": [
    {
     "name": "stdout",
     "output_type": "stream",
     "text": [
      "Decision Tree: Accuracy on training Data: 0.814\n",
      "Decision Tree: Accuracy on test Data: 0.810\n"
     ]
    }
   ],
   "source": [
    "#computing the accuracy of the model performance\n",
    "acc_train_tree = accuracy_score(y_train,y_train_tree)\n",
    "acc_test_tree = accuracy_score(y_test,y_test_tree)\n",
    "\n",
    "print(\"Decision Tree: Accuracy on training Data: {:.3f}\".format(acc_train_tree))\n",
    "print(\"Decision Tree: Accuracy on test Data: {:.3f}\".format(acc_test_tree))"
   ]
  },
  {
   "cell_type": "code",
   "execution_count": 20,
   "metadata": {
    "colab": {
     "base_uri": "https://localhost:8080/",
     "height": 442
    },
    "colab_type": "code",
    "id": "LITrJdVGWwTl",
    "outputId": "363e0abd-28df-4703-b784-5f5af37cab30"
   },
   "outputs": [
    {
     "data": {
      "image/png": "[encoded data removed]",
      "text/plain": [
       "<Figure size 900x700 with 1 Axes>"
      ]
     },
     "metadata": {},
     "output_type": "display_data"
    }
   ],
   "source": [
    "#checking the feature improtance in the model\n",
    "plt.figure(figsize=(9,7))\n",
    "n_features = X_train.shape[1]\n",
    "plt.barh(range(n_features), tree.feature_importances_, align='center')\n",
    "plt.yticks(np.arange(n_features), X_train.columns)\n",
    "plt.xlabel(\"Feature importance\")\n",
    "plt.ylabel(\"Feature\")\n",
    "plt.show()"
   ]
  },
  {
   "cell_type": "markdown",
   "metadata": {
    "colab_type": "text",
    "id": "XpC9PAn5RTfY"
   },
   "source": [
    "**Storing the results:**"
   ]
  },
  {
   "cell_type": "code",
   "execution_count": 21,
   "metadata": {
    "colab": {},
    "colab_type": "code",
    "id": "5XKvXxr9RSxl"
   },
   "outputs": [],
   "source": [
    "#storing the results. The below mentioned order of parameter passing is important.\n",
    "#Caution: Execute only once to avoid duplications.\n",
    "storeResults('Decision Tree', acc_train_tree, acc_test_tree)"
   ]
  },
  {
   "cell_type": "markdown",
   "metadata": {
    "colab_type": "text",
    "id": "LuDTMcmb-n5x"
   },
   "source": [
    "### **7.2. Random Forest Classifier**\n",
    "Random forests for regression and classification are currently among the most widely used machine learning methods.A random forest is essentially a collection of decision trees, where each tree is slightly different from the others. The idea behind random forests is that each tree might do a relatively good job of predicting, but will likely overfit on part of the data.\n",
    "\n",
    "If we build many trees, all of which work well and overfit in different ways, we can reduce the amount of overfitting by averaging their results. To build a random forest model, you need to decide on the number of trees to build (the n_estimators parameter of RandomForestRegressor or RandomForestClassifier). They are very powerful, often work well without heavy tuning of the parameters, and don’t require scaling of the data."
   ]
  },
  {
   "cell_type": "code",
   "execution_count": 22,
   "metadata": {
    "colab": {
     "base_uri": "https://localhost:8080/",
     "height": 150
    },
    "colab_type": "code",
    "id": "2fmB9rPSsR6y",
    "outputId": "27ddebf4-bee1-4eec-eb4e-995d4cdc08b2"
   },
   "outputs": [
    {
     "data": {
      "text/plain": [
       "RandomForestClassifier(max_depth=5)"
      ]
     },
     "execution_count": 22,
     "metadata": {},
     "output_type": "execute_result"
    }
   ],
   "source": [
    "# Random Forest model\n",
    "from sklearn.ensemble import RandomForestClassifier\n",
    "\n",
    "# instantiate the model\n",
    "forest = RandomForestClassifier(max_depth=5)\n",
    "\n",
    "# fit the model \n",
    "forest.fit(X_train, y_train)"
   ]
  },
  {
   "cell_type": "code",
   "execution_count": 23,
   "metadata": {
    "colab": {},
    "colab_type": "code",
    "id": "J1Qck-wrsabB"
   },
   "outputs": [],
   "source": [
    "#predicting the target value from the model for the samples\n",
    "y_test_forest = forest.predict(X_test)\n",
    "y_train_forest = forest.predict(X_train)"
   ]
  },
  {
   "cell_type": "markdown",
   "metadata": {
    "colab_type": "text",
    "id": "i8TybBPHT1ao"
   },
   "source": [
    "**Performance Evaluation:**"
   ]
  },
  {
   "cell_type": "code",
   "execution_count": 24,
   "metadata": {
    "colab": {
     "base_uri": "https://localhost:8080/",
     "height": 50
    },
    "colab_type": "code",
    "id": "Oguf-37tsboO",
    "outputId": "34386ec6-a7f0-4185-b3c0-a40de3239fb7"
   },
   "outputs": [
    {
     "name": "stdout",
     "output_type": "stream",
     "text": [
      "Random forest: Accuracy on training Data: 0.820\n",
      "Random forest: Accuracy on test Data: 0.813\n"
     ]
    }
   ],
   "source": [
    "#computing the accuracy of the model performance\n",
    "acc_train_forest = accuracy_score(y_train,y_train_forest)\n",
    "acc_test_forest = accuracy_score(y_test,y_test_forest)\n",
    "\n",
    "print(\"Random forest: Accuracy on training Data: {:.3f}\".format(acc_train_forest))\n",
    "print(\"Random forest: Accuracy on test Data: {:.3f}\".format(acc_test_forest))"
   ]
  },
  {
   "cell_type": "code",
   "execution_count": 25,
   "metadata": {
    "colab": {
     "base_uri": "https://localhost:8080/",
     "height": 442
    },
    "colab_type": "code",
    "id": "m9GZGxvZ9jnB",
    "outputId": "465186a8-d622-4427-c148-9dff349b40eb"
   },
   "outputs": [
    {
     "data": {
      "image/png": "[encoded data removed]",
      "text/plain": [
       "<Figure size 900x700 with 1 Axes>"
      ]
     },
     "metadata": {},
     "output_type": "display_data"
    }
   ],
   "source": [
    "#checking the feature improtance in the model\n",
    "plt.figure(figsize=(9,7))\n",
    "n_features = X_train.shape[1]\n",
    "plt.barh(range(n_features), forest.feature_importances_, align='center')\n",
    "plt.yticks(np.arange(n_features), X_train.columns)\n",
    "plt.xlabel(\"Feature importance\")\n",
    "plt.ylabel(\"Feature\")\n",
    "plt.show()"
   ]
  },
  {
   "cell_type": "markdown",
   "metadata": {
    "colab_type": "text",
    "id": "t6U_BEF8W-FS"
   },
   "source": [
    "**Storing the results:**"
   ]
  },
  {
   "cell_type": "code",
   "execution_count": 26,
   "metadata": {
    "colab": {},
    "colab_type": "code",
    "id": "YNf4EXHUW-FU"
   },
   "outputs": [],
   "source": [
    "#storing the results. The below mentioned order of parameter passing is important.\n",
    "#Caution: Execute only once to avoid duplications.\n",
    "storeResults('Random Forest', acc_train_forest, acc_test_forest)"
   ]
  },
  {
   "cell_type": "markdown",
   "metadata": {
    "colab_type": "text",
    "id": "VJ_EW8QUC0bn"
   },
   "source": [
    "### **7.3. Multilayer Perceptrons (MLPs): Deep Learning**\n",
    "Multilayer perceptrons (MLPs) are also known as (vanilla) feed-forward neural networks, or sometimes just neural networks. Multilayer perceptrons can be applied for both classification and regression problems.\n",
    "\n",
    "MLPs can be viewed as generalizations of linear models that perform multiple stages of processing to come to a decision."
   ]
  },
  {
   "cell_type": "code",
   "execution_count": 27,
   "metadata": {
    "colab": {
     "base_uri": "https://localhost:8080/",
     "height": 150
    },
    "colab_type": "code",
    "id": "JSFAbsgnAxqv",
    "outputId": "2828ce2e-95ec-4dfd-e7dd-5d3da152ea09"
   },
   "outputs": [
    {
     "data": {
      "text/plain": [
       "MLPClassifier(alpha=0.001, hidden_layer_sizes=[100, 100, 100])"
      ]
     },
     "execution_count": 27,
     "metadata": {},
     "output_type": "execute_result"
    }
   ],
   "source": [
    "# Multilayer Perceptrons model\n",
    "from sklearn.neural_network import MLPClassifier\n",
    "\n",
    "# instantiate the model\n",
    "mlp = MLPClassifier(alpha=0.001, hidden_layer_sizes=([100,100,100]))\n",
    "\n",
    "# fit the model \n",
    "mlp.fit(X_train, y_train)"
   ]
  },
  {
   "cell_type": "code",
   "execution_count": 28,
   "metadata": {
    "colab": {},
    "colab_type": "code",
    "id": "gyuSg6w_A4pN"
   },
   "outputs": [],
   "source": [
    "#predicting the target value from the model for the samples\n",
    "y_test_mlp = mlp.predict(X_test)\n",
    "y_train_mlp = mlp.predict(X_train)"
   ]
  },
  {
   "cell_type": "markdown",
   "metadata": {
    "colab_type": "text",
    "id": "UlDx0rDXatCl"
   },
   "source": [
    "**Performance Evaluation:**"
   ]
  },
  {
   "cell_type": "code",
   "execution_count": 29,
   "metadata": {
    "colab": {
     "base_uri": "https://localhost:8080/",
     "height": 50
    },
    "colab_type": "code",
    "id": "z2ndgKQbA64_",
    "outputId": "40ddef62-9dd4-4d55-b5ba-9932ba07a0b5"
   },
   "outputs": [
    {
     "name": "stdout",
     "output_type": "stream",
     "text": [
      "Multilayer Perceptrons: Accuracy on training Data: 0.864\n",
      "Multilayer Perceptrons: Accuracy on test Data: 0.862\n"
     ]
    }
   ],
   "source": [
    "#computing the accuracy of the model performance\n",
    "acc_train_mlp = accuracy_score(y_train,y_train_mlp)\n",
    "acc_test_mlp = accuracy_score(y_test,y_test_mlp)\n",
    "\n",
    "print(\"Multilayer Perceptrons: Accuracy on training Data: {:.3f}\".format(acc_train_mlp))\n",
    "print(\"Multilayer Perceptrons: Accuracy on test Data: {:.3f}\".format(acc_test_mlp))"
   ]
  },
  {
   "cell_type": "markdown",
   "metadata": {
    "colab_type": "text",
    "id": "zjBgfI64Xubd"
   },
   "source": [
    "**Storing the results:**"
   ]
  },
  {
   "cell_type": "code",
   "execution_count": 30,
   "metadata": {
    "colab": {},
    "colab_type": "code",
    "id": "N0fsq4yEXubk"
   },
   "outputs": [],
   "source": [
    "#storing the results. The below mentioned order of parameter passing is important.\n",
    "#Caution: Execute only once to avoid duplications.\n",
    "storeResults('Multilayer Perceptrons', acc_train_mlp, acc_test_mlp)"
   ]
  },
  {
   "cell_type": "markdown",
   "metadata": {
    "colab_type": "text",
    "id": "lVuTty-KaS4c"
   },
   "source": [
    "### **7.4. XGBoost Classifier**\n",
    "XGBoost is one of the most popular machine learning algorithms these days. XGBoost stands for eXtreme Gradient Boosting. Regardless of the type of prediction task at hand; regression or classification. XGBoost is an implementation of gradient boosted decision trees designed for speed and performance."
   ]
  },
  {
   "cell_type": "code",
   "execution_count": 33,
   "metadata": {
    "colab": {
     "base_uri": "https://localhost:8080/",
     "height": 133
    },
    "colab_type": "code",
    "id": "oIIQGzxgAREc",
    "outputId": "fc27da07-7071-4fbf-9d05-05e514ad9b3e"
   },
   "outputs": [
    {
     "data": {
      "text/plain": [
       "XGBClassifier(base_score=None, booster=None, callbacks=None,\n",
       "              colsample_bylevel=None, colsample_bynode=None,\n",
       "              colsample_bytree=None, device=None, early_stopping_rounds=None,\n",
       "              enable_categorical=False, eval_metric=None, feature_types=None,\n",
       "              gamma=None, grow_policy=None, importance_type=None,\n",
       "              interaction_constraints=None, learning_rate=0.4, max_bin=None,\n",
       "              max_cat_threshold=None, max_cat_to_onehot=None,\n",
       "              max_delta_step=None, max_depth=7, max_leaves=None,\n",
       "              min_child_weight=None, missing=nan, monotone_constraints=None,\n",
       "              multi_strategy=None, n_estimators=None, n_jobs=None,\n",
       "              num_parallel_tree=None, random_state=None, ...)"
      ]
     },
     "execution_count": 33,
     "metadata": {},
     "output_type": "execute_result"
    }
   ],
   "source": [
    "#XGBoost Classification model\n",
    "from xgboost import XGBClassifier\n",
    "\n",
    "# instantiate the model\n",
    "xgb = XGBClassifier(learning_rate=0.4,max_depth=7)\n",
    "#fit the model\n",
    "xgb.fit(X_train, y_train)"
   ]
  },
  {
   "cell_type": "code",
   "execution_count": 34,
   "metadata": {
    "colab": {},
    "colab_type": "code",
    "id": "_fx9xbzfAUO-"
   },
   "outputs": [],
   "source": [
    "#predicting the target value from the model for the samples\n",
    "y_test_xgb = xgb.predict(X_test)\n",
    "y_train_xgb = xgb.predict(X_train)"
   ]
  },
  {
   "cell_type": "markdown",
   "metadata": {
    "colab_type": "text",
    "id": "pwoDNqDIaxB9"
   },
   "source": [
    "**Performance Evaluation:**"
   ]
  },
  {
   "cell_type": "code",
   "execution_count": 35,
   "metadata": {
    "colab": {
     "base_uri": "https://localhost:8080/",
     "height": 50
    },
    "colab_type": "code",
    "id": "x1NNeI-NaxCA",
    "outputId": "d021057e-e9bc-487d-b584-9fb2492305de"
   },
   "outputs": [
    {
     "name": "stdout",
     "output_type": "stream",
     "text": [
      "XGBoost: Accuracy on training Data: 0.868\n",
      "XGBoost : Accuracy on test Data: 0.861\n"
     ]
    }
   ],
   "source": [
    "#computing the accuracy of the model performance\n",
    "acc_train_xgb = accuracy_score(y_train,y_train_xgb)\n",
    "acc_test_xgb = accuracy_score(y_test,y_test_xgb)\n",
    "\n",
    "print(\"XGBoost: Accuracy on training Data: {:.3f}\".format(acc_train_xgb))\n",
    "print(\"XGBoost : Accuracy on test Data: {:.3f}\".format(acc_test_xgb))"
   ]
  },
  {
   "cell_type": "markdown",
   "metadata": {
    "colab_type": "text",
    "id": "_g2HQNotaxCQ"
   },
   "source": [
    "**Storing the results:**"
   ]
  },
  {
   "cell_type": "code",
   "execution_count": 36,
   "metadata": {
    "colab": {},
    "colab_type": "code",
    "id": "sFNo8jskaxCS"
   },
   "outputs": [],
   "source": [
    "#storing the results. The below mentioned order of parameter passing is important.\n",
    "#Caution: Execute only once to avoid duplications.\n",
    "storeResults('XGBoost', acc_train_xgb, acc_test_xgb)"
   ]
  },
  {
   "cell_type": "markdown",
   "metadata": {
    "colab_type": "text",
    "id": "EwQ8DP4OsmcG"
   },
   "source": [
    "### **7.5. Autoencoder Neural Network**\n",
    "An auto encoder is a neural network that has the same number of input neurons as it does outputs. The hidden layers of the neural network will have fewer neurons than the input/output neurons. Because there are fewer neurons, the auto-encoder must learn to encode the input to the fewer hidden neurons. The predictors (x) and output (y) are exactly the same in an auto encoder."
   ]
  },
  {
   "cell_type": "code",
   "execution_count": 37,
   "metadata": {
    "colab": {
     "base_uri": "https://localhost:8080/",
     "height": 33
    },
    "colab_type": "code",
    "id": "7cy28vy3fDab",
    "outputId": "2947530e-ed77-40b2-bc9e-c3c575ff4faf"
   },
   "outputs": [],
   "source": [
    "#importing required packages\n",
    "import keras\n",
    "from keras.layers import Input, Dense\n",
    "from keras import regularizers\n",
    "import tensorflow as tf\n",
    "from keras.models import Model\n",
    "from sklearn import metrics"
   ]
  },
  {
   "cell_type": "code",
   "execution_count": 38,
   "metadata": {
    "colab": {
     "base_uri": "https://localhost:8080/",
     "height": 350
    },
    "colab_type": "code",
    "id": "8Rca6ZpShnRN",
    "outputId": "1e8f7ecb-bbaa-4bd0-92dc-73a3ccf58fe2"
   },
   "outputs": [
    {
     "name": "stdout",
     "output_type": "stream",
     "text": [
      "Model: \"model\"\n",
      "_________________________________________________________________\n",
      " Layer (type)                Output Shape              Param #   \n",
      "=================================================================\n",
      " input_1 (InputLayer)        [(None, 16)]              0         \n",
      "                                                                 \n",
      " dense (Dense)               (None, 16)                272       \n",
      "                                                                 \n",
      " dense_1 (Dense)             (None, 16)                272       \n",
      "                                                                 \n",
      " dense_2 (Dense)             (None, 14)                238       \n",
      "                                                                 \n",
      " dense_5 (Dense)             (None, 16)                240       \n",
      "                                                                 \n",
      " dense_6 (Dense)             (None, 16)                272       \n",
      "                                                                 \n",
      "=================================================================\n",
      "Total params: 1,294\n",
      "Trainable params: 1,294\n",
      "Non-trainable params: 0\n",
      "_________________________________________________________________\n"
     ]
    }
   ],
   "source": [
    "#building autoencoder model\n",
    "\n",
    "input_dim = X_train.shape[1]\n",
    "encoding_dim = input_dim\n",
    "\n",
    "input_layer = Input(shape=(input_dim, ))\n",
    "encoder = Dense(encoding_dim, activation=\"relu\",\n",
    "                activity_regularizer=regularizers.l1(10e-4))(input_layer)\n",
    "encoder = Dense(int(encoding_dim), activation=\"relu\")(encoder)\n",
    "\n",
    "encoder = Dense(int(encoding_dim-2), activation=\"relu\")(encoder)\n",
    "code = Dense(int(encoding_dim-4), activation='relu')(encoder)\n",
    "decoder = Dense(int(encoding_dim-2), activation='relu')(code)\n",
    "\n",
    "decoder = Dense(int(encoding_dim), activation='relu')(encoder)\n",
    "decoder = Dense(input_dim, activation='relu')(decoder)\n",
    "autoencoder = Model(inputs=input_layer, outputs=decoder)\n",
    "autoencoder.summary()"
   ]
  },
  {
   "cell_type": "code",
   "execution_count": 39,
   "metadata": {
    "colab": {
     "base_uri": "https://localhost:8080/",
     "height": 367
    },
    "colab_type": "code",
    "id": "FFet6_03sBtK",
    "outputId": "bfc5a82f-b08b-453b-cd31-da9ee824480f"
   },
   "outputs": [
    {
     "name": "stdout",
     "output_type": "stream",
     "text": [
      "Epoch 1/50\n",
      "100/100 [==============================] - 1s 2ms/step - loss: 2.4243 - accuracy: 0.5011 - val_loss: 1.3170 - val_accuracy: 0.7375\n",
      "Epoch 2/50\n",
      "100/100 [==============================] - 0s 1ms/step - loss: 0.2626 - accuracy: 0.8031 - val_loss: -1.4582 - val_accuracy: 0.8487\n",
      "Epoch 3/50\n",
      "100/100 [==============================] - 0s 1ms/step - loss: -1.5345 - accuracy: 0.8414 - val_loss: -1.6188 - val_accuracy: 0.8487\n",
      "Epoch 4/50\n",
      "100/100 [==============================] - 0s 3ms/step - loss: -1.6085 - accuracy: 0.8414 - val_loss: -1.6869 - val_accuracy: 0.8487\n",
      "Epoch 5/50\n",
      "100/100 [==============================] - 0s 1ms/step - loss: -1.6581 - accuracy: 0.8311 - val_loss: -1.7078 - val_accuracy: 0.8087\n",
      "Epoch 6/50\n",
      "100/100 [==============================] - 0s 1ms/step - loss: -1.6756 - accuracy: 0.7763 - val_loss: -1.7277 - val_accuracy: 0.7094\n",
      "Epoch 7/50\n",
      "100/100 [==============================] - 0s 1ms/step - loss: -1.7058 - accuracy: 0.6839 - val_loss: -1.7568 - val_accuracy: 0.6944\n",
      "Epoch 8/50\n",
      "100/100 [==============================] - 0s 1ms/step - loss: -1.7200 - accuracy: 0.6448 - val_loss: -1.7657 - val_accuracy: 0.5994\n",
      "Epoch 9/50\n",
      "100/100 [==============================] - 0s 3ms/step - loss: -1.7317 - accuracy: 0.5664 - val_loss: -1.7739 - val_accuracy: 0.5606\n",
      "Epoch 10/50\n",
      "100/100 [==============================] - 0s 2ms/step - loss: -1.7415 - accuracy: 0.5378 - val_loss: -1.7900 - val_accuracy: 0.5325\n",
      "Epoch 11/50\n",
      "100/100 [==============================] - 0s 1ms/step - loss: -1.7408 - accuracy: 0.4606 - val_loss: -1.7920 - val_accuracy: 0.4087\n",
      "Epoch 12/50\n",
      "100/100 [==============================] - 0s 2ms/step - loss: -1.7628 - accuracy: 0.4233 - val_loss: -1.7981 - val_accuracy: 0.4550\n",
      "Epoch 13/50\n",
      "100/100 [==============================] - 0s 1ms/step - loss: -1.7734 - accuracy: 0.4116 - val_loss: -1.8179 - val_accuracy: 0.4544\n",
      "Epoch 14/50\n",
      "100/100 [==============================] - 0s 1ms/step - loss: -1.7871 - accuracy: 0.3767 - val_loss: -1.8286 - val_accuracy: 0.3525\n",
      "Epoch 15/50\n",
      "100/100 [==============================] - 0s 2ms/step - loss: -1.7971 - accuracy: 0.3466 - val_loss: -1.8374 - val_accuracy: 0.3369\n",
      "Epoch 16/50\n",
      "100/100 [==============================] - 0s 2ms/step - loss: -1.7979 - accuracy: 0.3573 - val_loss: -1.8407 - val_accuracy: 0.3162\n",
      "Epoch 17/50\n",
      "100/100 [==============================] - 0s 1ms/step - loss: -1.8065 - accuracy: 0.3070 - val_loss: -1.8489 - val_accuracy: 0.3019\n",
      "Epoch 18/50\n",
      "100/100 [==============================] - 0s 2ms/step - loss: -1.8153 - accuracy: 0.2941 - val_loss: -1.8579 - val_accuracy: 0.2925\n",
      "Epoch 19/50\n",
      "100/100 [==============================] - 0s 2ms/step - loss: -1.8229 - accuracy: 0.2822 - val_loss: -1.8663 - val_accuracy: 0.2956\n",
      "Epoch 20/50\n",
      "100/100 [==============================] - 0s 1ms/step - loss: -1.8323 - accuracy: 0.2864 - val_loss: -1.8759 - val_accuracy: 0.2481\n",
      "Epoch 21/50\n",
      "100/100 [==============================] - 0s 3ms/step - loss: -1.8358 - accuracy: 0.2767 - val_loss: -1.8778 - val_accuracy: 0.3013\n",
      "Epoch 22/50\n",
      "100/100 [==============================] - 0s 1ms/step - loss: -1.8069 - accuracy: 0.3144 - val_loss: -1.8461 - val_accuracy: 0.4238\n",
      "Epoch 23/50\n",
      "100/100 [==============================] - 0s 3ms/step - loss: -1.8097 - accuracy: 0.3755 - val_loss: -1.8528 - val_accuracy: 0.3519\n",
      "Epoch 24/50\n",
      "100/100 [==============================] - 0s 1ms/step - loss: -1.8280 - accuracy: 0.2959 - val_loss: -1.8894 - val_accuracy: 0.2625\n",
      "Epoch 25/50\n",
      "100/100 [==============================] - 0s 1ms/step - loss: -1.8481 - accuracy: 0.2414 - val_loss: -1.8940 - val_accuracy: 0.2294\n",
      "Epoch 26/50\n",
      "100/100 [==============================] - 0s 2ms/step - loss: -1.8533 - accuracy: 0.2163 - val_loss: -1.8988 - val_accuracy: 0.1950\n",
      "Epoch 27/50\n",
      "100/100 [==============================] - 0s 1ms/step - loss: -1.8572 - accuracy: 0.1873 - val_loss: -1.9020 - val_accuracy: 0.1731\n",
      "Epoch 28/50\n",
      "100/100 [==============================] - 0s 1ms/step - loss: -1.8606 - accuracy: 0.1538 - val_loss: -1.9056 - val_accuracy: 0.1488\n",
      "Epoch 29/50\n",
      "100/100 [==============================] - 0s 2ms/step - loss: -1.8636 - accuracy: 0.1355 - val_loss: -1.9086 - val_accuracy: 0.1469\n",
      "Epoch 30/50\n",
      "100/100 [==============================] - 0s 1ms/step - loss: -1.5593 - accuracy: 0.1755 - val_loss: -1.1855 - val_accuracy: 0.2969\n",
      "Epoch 31/50\n",
      "100/100 [==============================] - 0s 2ms/step - loss: -1.6644 - accuracy: 0.1864 - val_loss: -1.8823 - val_accuracy: 0.1238\n",
      "Epoch 32/50\n",
      "100/100 [==============================] - 0s 1ms/step - loss: -1.8436 - accuracy: 0.1181 - val_loss: -1.8675 - val_accuracy: 0.0894\n",
      "Epoch 33/50\n",
      "100/100 [==============================] - 0s 1ms/step - loss: -1.6408 - accuracy: 0.0328 - val_loss: -1.5976 - val_accuracy: 0.0025\n",
      "Epoch 34/50\n",
      "100/100 [==============================] - 0s 2ms/step - loss: -1.6045 - accuracy: 0.0016 - val_loss: -1.6439 - val_accuracy: 0.0025\n",
      "Epoch 35/50\n",
      "100/100 [==============================] - 0s 1ms/step - loss: -1.5524 - accuracy: 0.0016 - val_loss: -1.6302 - val_accuracy: 0.0025\n",
      "Epoch 36/50\n",
      "100/100 [==============================] - 0s 1ms/step - loss: -1.6242 - accuracy: 0.0016 - val_loss: -1.6972 - val_accuracy: 0.0025\n",
      "Epoch 37/50\n",
      "100/100 [==============================] - 0s 2ms/step - loss: -1.6595 - accuracy: 0.0017 - val_loss: -1.7281 - val_accuracy: 0.0025\n",
      "Epoch 38/50\n",
      "100/100 [==============================] - 0s 1ms/step - loss: -1.6816 - accuracy: 0.0020 - val_loss: -1.7413 - val_accuracy: 0.0025\n",
      "Epoch 39/50\n",
      "100/100 [==============================] - 0s 1ms/step - loss: -1.6867 - accuracy: 0.0020 - val_loss: -1.7449 - val_accuracy: 0.0025\n",
      "Epoch 40/50\n",
      "100/100 [==============================] - 0s 1ms/step - loss: -1.6974 - accuracy: 0.0020 - val_loss: -1.7591 - val_accuracy: 0.0025\n",
      "Epoch 41/50\n",
      "100/100 [==============================] - 0s 2ms/step - loss: -1.7056 - accuracy: 0.0019 - val_loss: -1.7415 - val_accuracy: 0.0025\n",
      "Epoch 42/50\n",
      "100/100 [==============================] - 0s 2ms/step - loss: -1.7273 - accuracy: 0.0023 - val_loss: -1.8119 - val_accuracy: 0.0037\n",
      "Epoch 43/50\n",
      "100/100 [==============================] - 0s 1ms/step - loss: -1.7074 - accuracy: 0.0028 - val_loss: -1.8219 - val_accuracy: 0.0025\n",
      "Epoch 44/50\n",
      "100/100 [==============================] - 0s 2ms/step - loss: -1.7785 - accuracy: 0.0033 - val_loss: -1.8368 - val_accuracy: 0.0037\n",
      "Epoch 45/50\n",
      "100/100 [==============================] - 0s 2ms/step - loss: -1.7915 - accuracy: 0.0036 - val_loss: -1.8541 - val_accuracy: 0.0037\n",
      "Epoch 46/50\n",
      "100/100 [==============================] - 0s 2ms/step - loss: -1.8007 - accuracy: 0.0039 - val_loss: -1.8616 - val_accuracy: 0.0037\n",
      "Epoch 47/50\n",
      "100/100 [==============================] - 0s 1ms/step - loss: -1.8089 - accuracy: 0.0036 - val_loss: -1.8832 - val_accuracy: 0.0037\n",
      "Epoch 48/50\n",
      "100/100 [==============================] - 0s 2ms/step - loss: -1.8261 - accuracy: 0.0034 - val_loss: -1.8856 - val_accuracy: 0.0037\n",
      "Epoch 49/50\n",
      "100/100 [==============================] - 0s 2ms/step - loss: -1.8297 - accuracy: 0.0034 - val_loss: -1.8869 - val_accuracy: 0.0037\n",
      "Epoch 50/50\n",
      "100/100 [==============================] - 0s 1ms/step - loss: -1.8333 - accuracy: 0.0030 - val_loss: -1.8966 - val_accuracy: 0.0025\n"
     ]
    }
   ],
   "source": [
    "#compiling the model\n",
    "autoencoder.compile(optimizer='adam',\n",
    "                    loss='binary_crossentropy',\n",
    "                    metrics=['accuracy'])\n",
    "\n",
    "#Training the model\n",
    "history = autoencoder.fit(X_train, X_train, epochs=50, batch_size=64, shuffle=True, validation_split=0.2) "
   ]
  },
  {
   "cell_type": "markdown",
   "metadata": {
    "colab_type": "text",
    "id": "q1ONIVqSsXSP"
   },
   "source": [
    "**Performance Evaluation:**"
   ]
  },
  {
   "cell_type": "code",
   "execution_count": 40,
   "metadata": {
    "colab": {
     "base_uri": "https://localhost:8080/",
     "height": 100
    },
    "colab_type": "code",
    "id": "TQa0u7vyj2Ml",
    "outputId": "73a8713c-683d-4a13-8619-5bd87adec0c8"
   },
   "outputs": [
    {
     "name": "stdout",
     "output_type": "stream",
     "text": [
      "250/250 [==============================] - 0s 715us/step - loss: -1.8498 - accuracy: 0.0018\n",
      "63/63 [==============================] - 0s 670us/step - loss: -1.7809 - accuracy: 5.0000e-04\n",
      "\n",
      "Autoencoder: Accuracy on training Data: 0.002\n",
      "Autoencoder: Accuracy on test Data: 0.001\n"
     ]
    }
   ],
   "source": [
    "acc_train_auto = autoencoder.evaluate(X_train, X_train)[1]\n",
    "acc_test_auto = autoencoder.evaluate(X_test, X_test)[1]\n",
    "\n",
    "print('\\nAutoencoder: Accuracy on training Data: {:.3f}' .format(acc_train_auto))\n",
    "print('Autoencoder: Accuracy on test Data: {:.3f}' .format(acc_test_auto))"
   ]
  },
  {
   "cell_type": "markdown",
   "metadata": {
    "colab_type": "text",
    "id": "YG5oxuvJsflM"
   },
   "source": [
    "**Storing the results:**"
   ]
  },
  {
   "cell_type": "code",
   "execution_count": 41,
   "metadata": {
    "colab": {},
    "colab_type": "code",
    "id": "xqjgA0aCsflO"
   },
   "outputs": [],
   "source": [
    "#storing the results. The below mentioned order of parameter passing is important.\n",
    "#Caution: Execute only once to avoid duplications.\n",
    "storeResults('AutoEncoder', acc_train_auto, acc_test_auto)"
   ]
  },
  {
   "cell_type": "markdown",
   "metadata": {
    "colab_type": "text",
    "id": "plQeFh4fwB3a"
   },
   "source": [
    "### **7.6. Support Vector Machines**\n",
    "\n",
    "In machine learning, support-vector machines (SVMs, also support-vector networks) are supervised learning models with associated learning algorithms that analyze data used for classification and regression analysis. Given a set of training examples, each marked as belonging to one or the other of two categories, an SVM training algorithm builds a model that assigns new examples to one category or the other, making it a non-probabilistic binary linear classifier."
   ]
  },
  {
   "cell_type": "code",
   "execution_count": 42,
   "metadata": {
    "colab": {
     "base_uri": "https://localhost:8080/",
     "height": 83
    },
    "colab_type": "code",
    "id": "VBnV71QowZ07",
    "outputId": "258bc8b4-ba81-4036-c558-11923a7b0b5e"
   },
   "outputs": [
    {
     "data": {
      "text/html": [
       "<style>#sk-container-id-6 {color: black;background-color: white;}#sk-container-id-6 pre{padding: 0;}#sk-container-id-6 div.sk-toggleable {background-color: white;}#sk-container-id-6 label.sk-toggleable__label {cursor: pointer;display: block;width: 100%;margin-bottom: 0;padding: 0.3em;box-sizing: border-box;text-align: center;}#sk-container-id-6 label.sk-toggleable__label-arrow:before {content: \"▸\";float: left;margin-right: 0.25em;color: #696969;}#sk-container-id-6 label.sk-toggleable__label-arrow:hover:before {color: black;}#sk-container-id-6 div.sk-estimator:hover label.sk-toggleable__label-arrow:before {color: black;}#sk-container-id-6 div.sk-toggleable__content {max-height: 0;max-width: 0;overflow: hidden;text-align: left;background-color: #f0f8ff;}#sk-container-id-6 div.sk-toggleable__content pre {margin: 0.2em;color: black;border-radius: 0.25em;background-color: #f0f8ff;}#sk-container-id-6 input.sk-toggleable__control:checked~div.sk-toggleable__content {max-height: 200px;max-width: 100%;overflow: auto;}#sk-container-id-6 input.sk-toggleable__control:checked~label.sk-toggleable__label-arrow:before {content: \"▾\";}#sk-container-id-6 div.sk-estimator input.sk-toggleable__control:checked~label.sk-toggleable__label {background-color: #d4ebff;}#sk-container-id-6 div.sk-label input.sk-toggleable__control:checked~label.sk-toggleable__label {background-color: #d4ebff;}#sk-container-id-6 input.sk-hidden--visually {border: 0;clip: rect(1px 1px 1px 1px);clip: rect(1px, 1px, 1px, 1px);height: 1px;margin: -1px;overflow: hidden;padding: 0;position: absolute;width: 1px;}#sk-container-id-6 div.sk-estimator {font-family: monospace;background-color: #f0f8ff;border: 1px dotted black;border-radius: 0.25em;box-sizing: border-box;margin-bottom: 0.5em;}#sk-container-id-6 div.sk-estimator:hover {background-color: #d4ebff;}#sk-container-id-6 div.sk-parallel-item::after {content: \"\";width: 100%;border-bottom: 1px solid gray;flex-grow: 1;}#sk-container-id-6 div.sk-label:hover label.sk-toggleable__label {background-color: #d4ebff;}#sk-container-id-6 div.sk-serial::before {content: \"\";position: absolute;border-left: 1px solid gray;box-sizing: border-box;top: 0;bottom: 0;left: 50%;z-index: 0;}#sk-container-id-6 div.sk-serial {display: flex;flex-direction: column;align-items: center;background-color: white;padding-right: 0.2em;padding-left: 0.2em;position: relative;}#sk-container-id-6 div.sk-item {position: relative;z-index: 1;}#sk-container-id-6 div.sk-parallel {display: flex;align-items: stretch;justify-content: center;background-color: white;position: relative;}#sk-container-id-6 div.sk-item::before, #sk-container-id-6 div.sk-parallel-item::before {content: \"\";position: absolute;border-left: 1px solid gray;box-sizing: border-box;top: 0;bottom: 0;left: 50%;z-index: -1;}#sk-container-id-6 div.sk-parallel-item {display: flex;flex-direction: column;z-index: 1;position: relative;background-color: white;}#sk-container-id-6 div.sk-parallel-item:first-child::after {align-self: flex-end;width: 50%;}#sk-container-id-6 div.sk-parallel-item:last-child::after {align-self: flex-start;width: 50%;}#sk-container-id-6 div.sk-parallel-item:only-child::after {width: 0;}#sk-container-id-6 div.sk-dashed-wrapped {border: 1px dashed gray;margin: 0 0.4em 0.5em 0.4em;box-sizing: border-box;padding-bottom: 0.4em;background-color: white;}#sk-container-id-6 div.sk-label label {font-family: monospace;font-weight: bold;display: inline-block;line-height: 1.2em;}#sk-container-id-6 div.sk-label-container {text-align: center;}#sk-container-id-6 div.sk-container {/* jupyter's `normalize.less` sets `[hidden] { display: none; }` but bootstrap.min.css set `[hidden] { display: none !important; }` so we also need the `!important` here to be able to override the default hidden behavior on the sphinx rendered scikit-learn.org. See: https://github.com/scikit-learn/scikit-learn/issues/21755 */display: inline-block !important;position: relative;}#sk-container-id-6 div.sk-text-repr-fallback {display: none;}</style><div id=\"sk-container-id-6\" class=\"sk-top-container\"><div class=\"sk-text-repr-fallback\"><pre>SVC(kernel=&#x27;linear&#x27;, random_state=12)</pre><b>In a Jupyter environment, please rerun this cell to show the HTML representation or trust the notebook. <br />On GitHub, the HTML representation is unable to render, please try loading this page with nbviewer.org.</b></div><div class=\"sk-container\" hidden><div class=\"sk-item\"><div class=\"sk-estimator sk-toggleable\"><input class=\"sk-toggleable__control sk-hidden--visually\" id=\"sk-estimator-id-6\" type=\"checkbox\" checked><label for=\"sk-estimator-id-6\" class=\"sk-toggleable__label sk-toggleable__label-arrow\">SVC</label><div class=\"sk-toggleable__content\"><pre>SVC(kernel=&#x27;linear&#x27;, random_state=12)</pre></div></div></div></div></div>"
      ],
      "text/plain": [
       "SVC(kernel='linear', random_state=12)"
      ]
     },
     "execution_count": 42,
     "metadata": {},
     "output_type": "execute_result"
    }
   ],
   "source": [
    "#Support vector machine model\n",
    "from sklearn.svm import SVC\n",
    "\n",
    "# instantiate the model\n",
    "svm = SVC(kernel='linear', C=1.0, random_state=12)\n",
    "#fit the model\n",
    "svm.fit(X_train, y_train)"
   ]
  },
  {
   "cell_type": "code",
   "execution_count": 43,
   "metadata": {
    "colab": {},
    "colab_type": "code",
    "id": "4Nlrfq-pwZ1G"
   },
   "outputs": [],
   "source": [
    "#predicting the target value from the model for the samples\n",
    "y_test_svm = svm.predict(X_test)\n",
    "y_train_svm = svm.predict(X_train)"
   ]
  },
  {
   "cell_type": "markdown",
   "metadata": {
    "colab_type": "text",
    "id": "Qb2FHrUpwZ1P"
   },
   "source": [
    "**Performance Evaluation:**"
   ]
  },
  {
   "cell_type": "code",
   "execution_count": 44,
   "metadata": {
    "colab": {
     "base_uri": "https://localhost:8080/",
     "height": 50
    },
    "colab_type": "code",
    "id": "1ofewcVHwZ1R",
    "outputId": "3f83bfc7-f885-49a7-ed88-816e05097eac"
   },
   "outputs": [
    {
     "name": "stdout",
     "output_type": "stream",
     "text": [
      "SVM: Accuracy on training Data: 0.800\n",
      "SVM : Accuracy on test Data: 0.806\n"
     ]
    }
   ],
   "source": [
    "#computing the accuracy of the model performance\n",
    "acc_train_svm = accuracy_score(y_train,y_train_svm)\n",
    "acc_test_svm = accuracy_score(y_test,y_test_svm)\n",
    "\n",
    "print(\"SVM: Accuracy on training Data: {:.3f}\".format(acc_train_svm))\n",
    "print(\"SVM : Accuracy on test Data: {:.3f}\".format(acc_test_svm))"
   ]
  },
  {
   "cell_type": "markdown",
   "metadata": {
    "colab_type": "text",
    "id": "ToF9fRNSwZ1b"
   },
   "source": [
    "**Storing the results:**"
   ]
  },
  {
   "cell_type": "code",
   "execution_count": 45,
   "metadata": {
    "colab": {},
    "colab_type": "code",
    "id": "4ZAc00sUwZ1d"
   },
   "outputs": [],
   "source": [
    "#storing the results. The below mentioned order of parameter passing is important.\n",
    "#Caution: Execute only once to avoid duplications.\n",
    "storeResults('SVM', acc_train_svm, acc_test_svm)"
   ]
  },
  {
   "cell_type": "markdown",
   "metadata": {
    "colab_type": "text",
    "id": "k3vsRppPv3rs"
   },
   "source": [
    "## **8. Comparision of Models**\n",
    "To compare the models performance, a dataframe is created. The columns of this dataframe are the lists created to store the results of the model."
   ]
  },
  {
   "cell_type": "code",
   "execution_count": 46,
   "metadata": {
    "colab": {
     "base_uri": "https://localhost:8080/",
     "height": 227
    },
    "colab_type": "code",
    "id": "RkOSzcfsv8Xl",
    "outputId": "82b2e437-b210-4b83-c3a0-dc9c5f65f9e0"
   },
   "outputs": [
    {
     "data": {
      "text/html": [
       "<div>\n",
       "<style scoped>\n",
       "    .dataframe tbody tr th:only-of-type {\n",
       "        vertical-align: middle;\n",
       "    }\n",
       "\n",
       "    .dataframe tbody tr th {\n",
       "        vertical-align: top;\n",
       "    }\n",
       "\n",
       "    .dataframe thead th {\n",
       "        text-align: right;\n",
       "    }\n",
       "</style>\n",
       "<table border=\"1\" class=\"dataframe\">\n",
       "  <thead>\n",
       "    <tr style=\"text-align: right;\">\n",
       "      <th></th>\n",
       "      <th>ML Model</th>\n",
       "      <th>Train Accuracy</th>\n",
       "      <th>Test Accuracy</th>\n",
       "    </tr>\n",
       "  </thead>\n",
       "  <tbody>\n",
       "    <tr>\n",
       "      <th>0</th>\n",
       "      <td>Decision Tree</td>\n",
       "      <td>0.812</td>\n",
       "      <td>0.820</td>\n",
       "    </tr>\n",
       "    <tr>\n",
       "      <th>1</th>\n",
       "      <td>Random Forest</td>\n",
       "      <td>0.819</td>\n",
       "      <td>0.824</td>\n",
       "    </tr>\n",
       "    <tr>\n",
       "      <th>2</th>\n",
       "      <td>Multilayer Perceptrons</td>\n",
       "      <td>0.865</td>\n",
       "      <td>0.858</td>\n",
       "    </tr>\n",
       "    <tr>\n",
       "      <th>3</th>\n",
       "      <td>Multilayer Perceptrons</td>\n",
       "      <td>0.865</td>\n",
       "      <td>0.858</td>\n",
       "    </tr>\n",
       "    <tr>\n",
       "      <th>4</th>\n",
       "      <td>XGBoost</td>\n",
       "      <td>0.867</td>\n",
       "      <td>0.858</td>\n",
       "    </tr>\n",
       "    <tr>\n",
       "      <th>5</th>\n",
       "      <td>AutoEncoder</td>\n",
       "      <td>0.002</td>\n",
       "      <td>0.001</td>\n",
       "    </tr>\n",
       "    <tr>\n",
       "      <th>6</th>\n",
       "      <td>SVM</td>\n",
       "      <td>0.800</td>\n",
       "      <td>0.806</td>\n",
       "    </tr>\n",
       "  </tbody>\n",
       "</table>\n",
       "</div>"
      ],
      "text/plain": [
       "                 ML Model  Train Accuracy  Test Accuracy\n",
       "0           Decision Tree           0.812          0.820\n",
       "1           Random Forest           0.819          0.824\n",
       "2  Multilayer Perceptrons           0.865          0.858\n",
       "3  Multilayer Perceptrons           0.865          0.858\n",
       "4                 XGBoost           0.867          0.858\n",
       "5             AutoEncoder           0.002          0.001\n",
       "6                     SVM           0.800          0.806"
      ]
     },
     "execution_count": 46,
     "metadata": {},
     "output_type": "execute_result"
    }
   ],
   "source": [
    "#creating dataframe\n",
    "results = pd.DataFrame({ 'ML Model': ML_Model,    \n",
    "    'Train Accuracy': acc_train,\n",
    "    'Test Accuracy': acc_test})\n",
    "results"
   ]
  },
  {
   "cell_type": "code",
   "execution_count": 47,
   "metadata": {
    "colab": {
     "base_uri": "https://localhost:8080/",
     "height": 227
    },
    "colab_type": "code",
    "id": "eKheGBiHwDfK",
    "outputId": "8ff038a3-9eea-472a-e1e7-ac6be45c9882"
   },
   "outputs": [
    {
     "data": {
      "text/html": [
       "<div>\n",
       "<style scoped>\n",
       "    .dataframe tbody tr th:only-of-type {\n",
       "        vertical-align: middle;\n",
       "    }\n",
       "\n",
       "    .dataframe tbody tr th {\n",
       "        vertical-align: top;\n",
       "    }\n",
       "\n",
       "    .dataframe thead th {\n",
       "        text-align: right;\n",
       "    }\n",
       "</style>\n",
       "<table border=\"1\" class=\"dataframe\">\n",
       "  <thead>\n",
       "    <tr style=\"text-align: right;\">\n",
       "      <th></th>\n",
       "      <th>ML Model</th>\n",
       "      <th>Train Accuracy</th>\n",
       "      <th>Test Accuracy</th>\n",
       "    </tr>\n",
       "  </thead>\n",
       "  <tbody>\n",
       "    <tr>\n",
       "      <th>4</th>\n",
       "      <td>XGBoost</td>\n",
       "      <td>0.867</td>\n",
       "      <td>0.858</td>\n",
       "    </tr>\n",
       "    <tr>\n",
       "      <th>2</th>\n",
       "      <td>Multilayer Perceptrons</td>\n",
       "      <td>0.865</td>\n",
       "      <td>0.858</td>\n",
       "    </tr>\n",
       "    <tr>\n",
       "      <th>3</th>\n",
       "      <td>Multilayer Perceptrons</td>\n",
       "      <td>0.865</td>\n",
       "      <td>0.858</td>\n",
       "    </tr>\n",
       "    <tr>\n",
       "      <th>1</th>\n",
       "      <td>Random Forest</td>\n",
       "      <td>0.819</td>\n",
       "      <td>0.824</td>\n",
       "    </tr>\n",
       "    <tr>\n",
       "      <th>0</th>\n",
       "      <td>Decision Tree</td>\n",
       "      <td>0.812</td>\n",
       "      <td>0.820</td>\n",
       "    </tr>\n",
       "    <tr>\n",
       "      <th>6</th>\n",
       "      <td>SVM</td>\n",
       "      <td>0.800</td>\n",
       "      <td>0.806</td>\n",
       "    </tr>\n",
       "    <tr>\n",
       "      <th>5</th>\n",
       "      <td>AutoEncoder</td>\n",
       "      <td>0.002</td>\n",
       "      <td>0.001</td>\n",
       "    </tr>\n",
       "  </tbody>\n",
       "</table>\n",
       "</div>"
      ],
      "text/plain": [
       "                 ML Model  Train Accuracy  Test Accuracy\n",
       "4                 XGBoost           0.867          0.858\n",
       "2  Multilayer Perceptrons           0.865          0.858\n",
       "3  Multilayer Perceptrons           0.865          0.858\n",
       "1           Random Forest           0.819          0.824\n",
       "0           Decision Tree           0.812          0.820\n",
       "6                     SVM           0.800          0.806\n",
       "5             AutoEncoder           0.002          0.001"
      ]
     },
     "execution_count": 47,
     "metadata": {},
     "output_type": "execute_result"
    }
   ],
   "source": [
    "#Sorting the datafram on accuracy\n",
    "results.sort_values(by=['Test Accuracy', 'Train Accuracy'], ascending=False)"
   ]
  },
  {
   "cell_type": "markdown",
   "metadata": {
    "colab_type": "text",
    "id": "5t9806vn601b"
   },
   "source": [
    "For the above comparision, it is clear that the XGBoost Classifier works well with this dataset.\n",
    "\n",
    "So, saving the model for future use."
   ]
  },
  {
   "cell_type": "code",
   "execution_count": 48,
   "metadata": {
    "colab": {},
    "colab_type": "code",
    "id": "aCIIkZ7V3AFN"
   },
   "outputs": [],
   "source": [
    "# save XGBoost model to file\n",
    "import pickle\n",
    "pickle.dump(xgb, open(\"XGBoostClassifier.pickle.dat\", \"wb\"))"
   ]
  },
  {
   "cell_type": "markdown",
   "metadata": {
    "colab_type": "text",
    "id": "PbrNHP0o3QrD"
   },
   "source": [
    "**Testing the saved model:**"
   ]
  },
  {
   "cell_type": "code",
   "execution_count": 49,
   "metadata": {
    "colab": {
     "base_uri": "https://localhost:8080/",
     "height": 133
    },
    "colab_type": "code",
    "id": "-ZEm_PS33QD-",
    "outputId": "a4195d7f-94ef-4bc7-a165-35ed2ed5493f"
   },
   "outputs": [
    {
     "data": {
      "text/html": [
       "<style>#sk-container-id-7 {color: black;background-color: white;}#sk-container-id-7 pre{padding: 0;}#sk-container-id-7 div.sk-toggleable {background-color: white;}#sk-container-id-7 label.sk-toggleable__label {cursor: pointer;display: block;width: 100%;margin-bottom: 0;padding: 0.3em;box-sizing: border-box;text-align: center;}#sk-container-id-7 label.sk-toggleable__label-arrow:before {content: \"▸\";float: left;margin-right: 0.25em;color: #696969;}#sk-container-id-7 label.sk-toggleable__label-arrow:hover:before {color: black;}#sk-container-id-7 div.sk-estimator:hover label.sk-toggleable__label-arrow:before {color: black;}#sk-container-id-7 div.sk-toggleable__content {max-height: 0;max-width: 0;overflow: hidden;text-align: left;background-color: #f0f8ff;}#sk-container-id-7 div.sk-toggleable__content pre {margin: 0.2em;color: black;border-radius: 0.25em;background-color: #f0f8ff;}#sk-container-id-7 input.sk-toggleable__control:checked~div.sk-toggleable__content {max-height: 200px;max-width: 100%;overflow: auto;}#sk-container-id-7 input.sk-toggleable__control:checked~label.sk-toggleable__label-arrow:before {content: \"▾\";}#sk-container-id-7 div.sk-estimator input.sk-toggleable__control:checked~label.sk-toggleable__label {background-color: #d4ebff;}#sk-container-id-7 div.sk-label input.sk-toggleable__control:checked~label.sk-toggleable__label {background-color: #d4ebff;}#sk-container-id-7 input.sk-hidden--visually {border: 0;clip: rect(1px 1px 1px 1px);clip: rect(1px, 1px, 1px, 1px);height: 1px;margin: -1px;overflow: hidden;padding: 0;position: absolute;width: 1px;}#sk-container-id-7 div.sk-estimator {font-family: monospace;background-color: #f0f8ff;border: 1px dotted black;border-radius: 0.25em;box-sizing: border-box;margin-bottom: 0.5em;}#sk-container-id-7 div.sk-estimator:hover {background-color: #d4ebff;}#sk-container-id-7 div.sk-parallel-item::after {content: \"\";width: 100%;border-bottom: 1px solid gray;flex-grow: 1;}#sk-container-id-7 div.sk-label:hover label.sk-toggleable__label {background-color: #d4ebff;}#sk-container-id-7 div.sk-serial::before {content: \"\";position: absolute;border-left: 1px solid gray;box-sizing: border-box;top: 0;bottom: 0;left: 50%;z-index: 0;}#sk-container-id-7 div.sk-serial {display: flex;flex-direction: column;align-items: center;background-color: white;padding-right: 0.2em;padding-left: 0.2em;position: relative;}#sk-container-id-7 div.sk-item {position: relative;z-index: 1;}#sk-container-id-7 div.sk-parallel {display: flex;align-items: stretch;justify-content: center;background-color: white;position: relative;}#sk-container-id-7 div.sk-item::before, #sk-container-id-7 div.sk-parallel-item::before {content: \"\";position: absolute;border-left: 1px solid gray;box-sizing: border-box;top: 0;bottom: 0;left: 50%;z-index: -1;}#sk-container-id-7 div.sk-parallel-item {display: flex;flex-direction: column;z-index: 1;position: relative;background-color: white;}#sk-container-id-7 div.sk-parallel-item:first-child::after {align-self: flex-end;width: 50%;}#sk-container-id-7 div.sk-parallel-item:last-child::after {align-self: flex-start;width: 50%;}#sk-container-id-7 div.sk-parallel-item:only-child::after {width: 0;}#sk-container-id-7 div.sk-dashed-wrapped {border: 1px dashed gray;margin: 0 0.4em 0.5em 0.4em;box-sizing: border-box;padding-bottom: 0.4em;background-color: white;}#sk-container-id-7 div.sk-label label {font-family: monospace;font-weight: bold;display: inline-block;line-height: 1.2em;}#sk-container-id-7 div.sk-label-container {text-align: center;}#sk-container-id-7 div.sk-container {/* jupyter's `normalize.less` sets `[hidden] { display: none; }` but bootstrap.min.css set `[hidden] { display: none !important; }` so we also need the `!important` here to be able to override the default hidden behavior on the sphinx rendered scikit-learn.org. See: https://github.com/scikit-learn/scikit-learn/issues/21755 */display: inline-block !important;position: relative;}#sk-container-id-7 div.sk-text-repr-fallback {display: none;}</style><div id=\"sk-container-id-7\" class=\"sk-top-container\"><div class=\"sk-text-repr-fallback\"><pre>XGBClassifier(base_score=None, booster=None, callbacks=None,\n",
       "              colsample_bylevel=None, colsample_bynode=None,\n",
       "              colsample_bytree=None, early_stopping_rounds=None,\n",
       "              enable_categorical=False, eval_metric=None, feature_types=None,\n",
       "              gamma=None, gpu_id=None, grow_policy=None, importance_type=None,\n",
       "              interaction_constraints=None, learning_rate=0.4, max_bin=None,\n",
       "              max_cat_threshold=None, max_cat_to_onehot=None,\n",
       "              max_delta_step=None, max_depth=7, max_leaves=None,\n",
       "              min_child_weight=None, missing=nan, monotone_constraints=None,\n",
       "              n_estimators=100, n_jobs=None, num_parallel_tree=None,\n",
       "              predictor=None, random_state=None, ...)</pre><b>In a Jupyter environment, please rerun this cell to show the HTML representation or trust the notebook. <br />On GitHub, the HTML representation is unable to render, please try loading this page with nbviewer.org.</b></div><div class=\"sk-container\" hidden><div class=\"sk-item\"><div class=\"sk-estimator sk-toggleable\"><input class=\"sk-toggleable__control sk-hidden--visually\" id=\"sk-estimator-id-7\" type=\"checkbox\" checked><label for=\"sk-estimator-id-7\" class=\"sk-toggleable__label sk-toggleable__label-arrow\">XGBClassifier</label><div class=\"sk-toggleable__content\"><pre>XGBClassifier(base_score=None, booster=None, callbacks=None,\n",
       "              colsample_bylevel=None, colsample_bynode=None,\n",
       "              colsample_bytree=None, early_stopping_rounds=None,\n",
       "              enable_categorical=False, eval_metric=None, feature_types=None,\n",
       "              gamma=None, gpu_id=None, grow_policy=None, importance_type=None,\n",
       "              interaction_constraints=None, learning_rate=0.4, max_bin=None,\n",
       "              max_cat_threshold=None, max_cat_to_onehot=None,\n",
       "              max_delta_step=None, max_depth=7, max_leaves=None,\n",
       "              min_child_weight=None, missing=nan, monotone_constraints=None,\n",
       "              n_estimators=100, n_jobs=None, num_parallel_tree=None,\n",
       "              predictor=None, random_state=None, ...)</pre></div></div></div></div></div>"
      ],
      "text/plain": [
       "XGBClassifier(base_score=None, booster=None, callbacks=None,\n",
       "              colsample_bylevel=None, colsample_bynode=None,\n",
       "              colsample_bytree=None, early_stopping_rounds=None,\n",
       "              enable_categorical=False, eval_metric=None, feature_types=None,\n",
       "              gamma=None, gpu_id=None, grow_policy=None, importance_type=None,\n",
       "              interaction_constraints=None, learning_rate=0.4, max_bin=None,\n",
       "              max_cat_threshold=None, max_cat_to_onehot=None,\n",
       "              max_delta_step=None, max_depth=7, max_leaves=None,\n",
       "              min_child_weight=None, missing=nan, monotone_constraints=None,\n",
       "              n_estimators=100, n_jobs=None, num_parallel_tree=None,\n",
       "              predictor=None, random_state=None, ...)"
      ]
     },
     "execution_count": 49,
     "metadata": {},
     "output_type": "execute_result"
    }
   ],
   "source": [
    "# load model from file\n",
    "loaded_model = pickle.load(open(\"XGBoostClassifier.pickle.dat\", \"rb\"))\n",
    "loaded_model"
   ]
  },
  {
   "cell_type": "markdown",
   "metadata": {
    "colab_type": "text",
    "id": "3vy2egEdwkqZ"
   },
   "source": [
    "## **9. References**\n",
    "* https://blog.keras.io/building-autoencoders-in-keras.html\n",
    "* https://en.wikipedia.org/wiki/Autoencoder\n",
    "* https://mc.ai/a-beginners-guide-to-build-stacked-autoencoder-and-tying-weights-with-it/\n",
    "* https://github.com/shreyagopal/t81_558_deep_learning/blob/master/t81_558_class_14_03_anomaly.ipynb\n",
    "* https://machinelearningmastery.com/save-gradient-boosting-models-xgboost-python/"
   ]
  },
  {
   "cell_type": "code",
   "execution_count": null,
   "metadata": {},
   "outputs": [],
   "source": []
  },
  {
   "cell_type": "code",
   "execution_count": null,
   "metadata": {},
   "outputs": [],
   "source": []
  },
  {
   "cell_type": "code",
   "execution_count": null,
   "metadata": {},
   "outputs": [],
   "source": []
  },
  {
   "cell_type": "markdown",
   "metadata": {},
   "source": [
    "# attempting to use a transformer model"
   ]
  },
  {
   "cell_type": "code",
   "execution_count": 40,
   "metadata": {},
   "outputs": [],
   "source": [
    "\n",
    "from sklearn.preprocessing import MinMaxScaler\n",
    "from tensorflow.keras.preprocessing.text import Tokenizer"
   ]
  },
  {
   "cell_type": "code",
   "execution_count": 52,
   "metadata": {},
   "outputs": [],
   "source": [
    "tokenizer = Tokenizer()\n",
    "tokenizer.fit_on_texts(data0['Domain'])\n",
    "domain_tokens = tokenizer.texts_to_sequences(data0['Domain'])\n",
    "\n",
    "scaler = MinMaxScaler()\n",
    "scaled_numerical_data = scaler.fit_transform(data0[['URL_Length', 'URL_Depth', 'Domain_Age']])"
   ]
  },
  {
   "cell_type": "code",
   "execution_count": 54,
   "metadata": {},
   "outputs": [
    {
     "name": "stdout",
     "output_type": "stream",
     "text": [
      "[[406, 2], [114, 12], [117, 1], [19, 16], [111, 1], [74, 1], [95, 2, 6], [14, 1], [29, 2], [101, 1], [53, 1], [170, 118], [109, 1], [26, 1], [14, 1], [319, 121, 1], [8, 24], [184, 1], [49, 10], [49, 10], [72, 2], [61, 3, 15], [91, 12], [27, 1], [75, 4], [28, 6], [475, 1], [9, 2], [26, 1], [14, 1], [27, 1], [55, 1], [80, 1], [96, 1], [47, 1], [74, 1], [17, 1], [43, 2], [22, 2], [80, 1], [357, 1], [44, 1], [83, 7], [62, 1], [49, 10], [75, 4], [49, 10], [476, 121], [19, 16], [119, 51], [17, 1], [32, 6], [20, 1], [60, 1], [162, 2], [234, 1], [101, 1], [49, 10], [138, 1], [40, 1], [46, 2, 13], [92, 1], [216, 1], [43, 2], [81, 2], [69, 1], [32, 6], [154, 1], [22, 2], [26, 1], [9, 2], [235, 1], [28, 6], [9, 2], [14, 1], [19, 16], [216, 1], [14, 1], [95, 2, 6], [43, 2], [74, 1], [41, 4], [47, 1], [19, 16], [39, 1, 5], [31, 23], [217, 171, 1, 5], [85, 1], [32, 6], [81, 2], [53, 1], [75, 4], [131, 48], [1478, 12], [91, 12], [44, 1], [839, 1], [22, 2], [320, 7], [9, 2], [9, 2], [83, 7], [125, 7], [125, 7], [17, 1], [139, 1], [33, 1], [20, 1], [9, 2], [14, 1], [294, 1], [53, 1], [93, 1], [102, 1], [60, 1], [235, 1], [9, 2], [61, 3, 15], [46, 2, 13], [55, 1], [14, 1], [115, 97], [53, 1], [198, 1], [19, 16], [40, 1], [65, 2], [46, 2, 13], [41, 4], [101, 1], [43, 2], [96, 1], [88, 1], [62, 1], [56, 15], [27, 1], [85, 1], [31, 23], [19, 16], [9, 2], [20, 1], [106, 1], [31, 70], [47, 1], [31, 23], [8, 3, 25], [40, 1], [22, 2], [33, 1], [17, 1], [96, 1], [61, 3, 15], [95, 2, 6], [31, 23], [14, 1], [56, 15], [8, 13], [8, 10], [22, 2], [39, 1, 5], [155, 1], [47, 1], [31, 23], [8, 24], [321, 1], [322, 13], [17, 1], [53, 1], [14, 1], [9, 2], [17, 1], [19, 16], [126, 1], [144, 1], [163, 1], [235, 1], [62, 1], [17, 1], [14, 1], [111, 1], [145, 1], [42, 1], [122, 1], [295, 1], [55, 1], [259, 1], [27, 1], [116, 1], [82, 1], [19, 16], [92, 1], [14, 1], [17, 1], [91, 12], [81, 2], [54, 1], [407, 1], [57, 1], [9, 2], [39, 1, 5], [8, 10], [17, 1], [20, 1], [17, 1], [55, 1], [54, 1], [236, 12], [119, 51], [185, 1], [98, 1], [296, 1], [172, 6], [75, 4], [65, 2], [14, 1], [156, 107], [19, 16], [40, 1], [75, 4], [22, 2], [132, 1], [14, 1], [22, 2], [83, 7], [110, 1], [35, 10], [82, 1], [20, 1], [8, 34], [186, 56, 5], [85, 1], [27, 1], [76, 1], [26, 1], [8, 34], [140, 1, 112], [110, 1], [9, 2], [62, 1], [133, 48], [14, 1], [199, 1], [17, 1], [116, 1], [63, 1], [71, 2], [83, 7], [19, 16], [69, 1], [80, 1], [17, 1], [20, 1], [55, 1], [114, 12], [274, 1], [323, 1], [40, 1], [71, 2], [116, 1], [47, 1], [187, 1], [125, 7], [31, 23], [77, 1], [173, 1], [80, 1], [96, 1], [20, 1], [44, 1], [19, 16], [125, 7], [47, 1], [57, 1], [297, 1], [408, 51], [62, 1], [20, 1], [409, 1], [33, 1], [65, 2], [20, 1], [8, 3, 25], [19, 16], [27, 1], [237, 1, 6], [133, 48], [91, 12], [27, 1], [274, 1], [27, 1], [27, 1], [72, 2], [99, 1], [144, 1], [146, 64, 1], [31, 23], [43, 2], [39, 1, 5], [102, 1], [199, 1], [26, 1], [20, 1], [26, 1], [98, 1], [72, 2], [22, 2], [54, 1], [157, 1, 13], [46, 2, 13], [17, 1], [69, 1], [110, 1], [238, 1], [115, 97], [111, 1], [47, 1], [126, 1], [17, 1], [28, 6], [33, 1], [595, 2], [35, 10], [144, 1], [31, 23], [46, 2, 13], [126, 1], [62, 1], [218, 1], [275, 12], [31, 23], [20, 1], [8, 10], [9, 2], [35, 10], [200, 1], [54, 1], [9, 2], [14, 1], [131, 48], [9, 2], [27, 1], [218, 1], [102, 1], [39, 1, 5], [19, 16], [28, 6], [276, 56, 5], [158, 1], [49, 10], [186, 56, 5], [85, 1], [60, 1], [29, 2], [147, 4], [164, 70], [31, 23], [47, 1], [238, 1], [17, 1], [35, 10], [93, 1], [26, 1], [140, 1, 112], [8, 3, 25], [65, 2], [43, 2], [35, 10], [22, 2], [840, 1], [22, 2], [139, 1], [39, 1, 5], [81, 2], [8, 3, 25], [114, 12], [9, 2], [42, 1], [40, 1], [8, 34], [46, 2, 13], [47, 1], [33, 1], [324, 4], [29, 2], [144, 1], [71, 2], [29, 2], [66, 2], [66, 2], [60, 1], [83, 7], [102, 1], [54, 1], [55, 1], [146, 64, 1], [60, 1], [145, 1], [19, 16], [95, 2, 6], [170, 118], [319, 121, 1], [91, 12], [216, 1], [75, 4], [114, 12], [170, 118], [14, 1], [19, 16], [88, 1], [41, 4], [165, 1], [69, 1], [216, 1], [72, 2], [54, 1], [188, 1], [407, 1], [8, 3, 25], [43, 2], [148, 1], [239, 1], [111, 1], [19, 16], [53, 1], [91, 12], [275, 12], [123, 1, 11], [33, 1], [26, 1], [138, 1], [19, 16], [410, 1], [20, 1], [46, 2, 13], [72, 2], [32, 6], [47, 1], [28, 6], [237, 1, 6], [42, 1], [14, 1], [20, 1], [14, 1], [9, 2], [154, 1], [219, 120], [82, 1], [240, 1], [140, 1, 112], [49, 10], [75, 4], [42, 1], [41, 4], [172, 6], [20, 1], [14, 1], [26, 1], [841, 1], [26, 1], [56, 15], [57, 1], [174, 12], [114, 12], [54, 1], [43, 2], [63, 1], [40, 1], [55, 1], [9, 2], [189, 1], [186, 56, 5], [219, 120], [39, 1, 5], [157, 1, 13], [158, 1], [9, 2], [40, 1], [14, 1], [42, 1], [60, 1], [40, 1], [19, 16], [236, 12], [8, 13], [165, 1], [277, 15], [139, 1], [96, 1], [53, 1], [49, 10], [43, 2], [71, 2], [75, 4], [76, 1], [74, 1], [117, 1], [39, 1, 5], [119, 51], [184, 1], [476, 121], [19, 16], [358, 1], [110, 1], [27, 1], [56, 15], [42, 1], [201, 1], [98, 1], [27, 1], [145, 1], [44, 1], [8, 10], [33, 1], [477, 171, 1, 5], [28, 6], [298, 1], [325, 64, 1], [8, 13], [74, 1], [8, 3, 25], [127, 12, 1], [184, 1], [63, 1], [57, 1], [57, 1], [201, 1], [85, 1], [19, 16], [39, 1, 5], [26, 1], [95, 2, 6], [35, 10], [109, 1], [406, 2], [157, 1, 13], [41, 4], [155, 1], [91, 12], [9, 2], [55, 1], [39, 1, 5], [202, 45], [20, 1], [19, 16], [61, 3, 15], [138, 1], [324, 4], [17, 1], [72, 2], [117, 1], [14, 1], [31, 70], [99, 1], [8, 24], [85, 1], [32, 6], [27, 1], [297, 1], [42, 1], [65, 2], [8, 3, 25], [106, 1], [102, 1], [53, 1], [8, 13], [260, 1], [35, 10], [44, 1], [14, 1], [162, 2], [88, 1], [76, 1], [32, 6], [9, 2], [35, 10], [14, 1], [147, 4], [106, 1], [144, 1], [95, 2, 6], [95, 2, 6], [81, 2], [145, 1], [88, 1], [54, 1], [115, 97], [66, 2], [139, 1], [40, 1], [138, 1], [20, 1], [156, 107], [596, 7], [32, 6], [98, 1], [159, 1], [65, 2], [102, 1], [44, 1], [19, 16], [91, 12], [49, 10], [234, 1], [22, 2], [109, 1], [75, 4], [9, 2], [99, 1], [238, 1], [92, 1], [81, 2], [138, 1], [188, 1], [76, 1], [69, 1], [95, 2, 6], [159, 1], [47, 1], [174, 12], [22, 2], [357, 1], [234, 1], [14, 1], [31, 23], [55, 1], [72, 2], [8, 34], [29, 2], [9, 2], [42, 1], [57, 1], [93, 1], [41, 4], [29, 2], [299, 51], [101, 1], [42, 1], [14, 1], [217, 171, 1, 5], [359, 1], [31, 23], [41, 4], [8, 13], [42, 1], [39, 1, 5], [40, 1], [14, 1], [274, 1], [14, 1], [172, 6], [216, 1], [47, 1], [20, 1], [17, 1], [14, 1], [186, 56, 5], [14, 1], [8, 13], [198, 1], [20, 1], [14, 1], [99, 1], [40, 1], [26, 1], [9, 2], [146, 64, 1], [98, 1], [114, 12], [22, 2], [410, 1], [20, 1], [597, 134], [125, 7], [83, 7], [62, 1], [44, 1], [17, 1], [91, 12], [19, 16], [14, 1], [99, 1], [186, 56, 5], [62, 1], [8, 24], [8, 34], [116, 1], [22, 2], [53, 1], [47, 1], [76, 1], [241, 7], [173, 1], [1479, 1], [14, 1], [40, 1], [8, 3, 25], [39, 1, 5], [326, 64, 1], [82, 1], [69, 1], [31, 23], [28, 6], [85, 1], [360, 1], [842, 1], [77, 1], [61, 3, 15], [91, 12], [300, 12], [92, 1], [80, 1], [29, 2], [40, 1], [240, 1], [410, 1], [110, 1], [156, 107], [9, 2], [22, 2], [31, 23], [185, 1], [28, 6], [49, 10], [29, 2], [146, 64, 1], [9, 2], [91, 12], [39, 1, 5], [55, 1], [40, 1], [41, 4], [476, 121], [63, 1], [88, 1], [1480, 1], [19, 16], [27, 1], [119, 51], [27, 1], [83, 7], [126, 1], [33, 1], [106, 1], [60, 1], [49, 10], [32, 6], [28, 6], [76, 1], [598, 1], [595, 2], [29, 2], [46, 2, 13], [75, 4], [22, 2], [44, 1], [19, 16], [114, 12], [101, 1], [19, 16], [156, 107], [189, 1], [42, 1], [9, 2], [19, 16], [42, 1], [88, 1], [82, 1], [35, 10], [99, 1], [155, 1], [85, 1], [157, 1, 13], [123, 1, 11], [148, 1], [69, 1], [117, 1], [47, 1], [114, 12], [110, 1], [201, 1], [140, 1, 112], [27, 1], [19, 16], [20, 1], [47, 1], [123, 1, 11], [91, 12], [96, 1], [189, 1], [163, 1], [26, 1], [8, 34], [91, 12], [187, 1], [26, 1], [35, 10], [27, 1], [77, 1], [72, 2], [40, 1], [127, 12, 1], [63, 1], [8, 10], [66, 2], [106, 1], [35, 10], [54, 1], [77, 1], [19, 16], [55, 1], [28, 6], [80, 1], [14, 1], [198, 1], [9, 2], [17, 1], [44, 1], [61, 3, 15], [46, 2, 13], [29, 2], [199, 1], [54, 1], [72, 2], [131, 48], [114, 12], [29, 2], [66, 2], [599, 1], [14, 1], [53, 1], [146, 64, 1], [216, 1], [110, 1], [203, 1], [133, 48], [203, 1], [119, 51], [187, 1], [20, 1], [8, 10], [159, 1], [26, 1], [22, 2], [1481, 478], [140, 1, 112], [9, 2], [66, 2], [172, 6], [126, 1], [357, 1], [80, 1], [277, 15], [31, 23], [17, 1], [82, 1], [83, 7], [14, 1], [61, 3, 15], [44, 1], [20, 1], [106, 1], [14, 1], [127, 12, 1], [165, 1], [41, 4], [9, 2], [96, 1], [843, 844, 1], [65, 2], [72, 2], [60, 1], [33, 1], [188, 1], [139, 1], [42, 1], [123, 1, 11], [82, 1], [57, 1], [27, 1], [101, 1], [49, 10], [93, 1], [260, 1], [324, 4], [845, 2], [261, 1], [8, 3, 25], [40, 1], [203, 1], [57, 1], [26, 1], [33, 1], [324, 4], [115, 97], [117, 1], [597, 134], [9, 2], [14, 1], [96, 1], [46, 2, 13], [162, 2], [185, 1], [47, 1], [172, 6], [42, 1], [60, 1], [14, 1], [17, 1], [77, 1], [85, 1], [116, 1], [321, 1], [92, 1], [22, 2], [106, 1], [9, 2], [44, 1], [93, 1], [98, 1], [43, 2], [26, 1], [35, 10], [111, 1], [53, 1], [31, 23], [14, 1], [479, 2], [35, 10], [96, 1], [846, 1], [154, 1], [106, 1], [19, 16], [20, 1], [39, 1, 5], [1482, 1], [75, 4], [119, 51], [170, 118], [14, 1], [154, 1], [361, 24], [49, 10], [242, 7], [81, 2], [9, 2], [407, 1], [19, 16], [42, 1], [92, 1], [43, 2], [20, 1], [62, 1], [28, 6], [240, 1], [32, 6], [20, 1], [40, 1], [99, 1], [41, 4], [46, 2, 13], [17, 1], [56, 15], [163, 1], [96, 1], [234, 1], [600, 1], [20, 1], [44, 1], [234, 1], [22, 2], [55, 1], [57, 1], [174, 12], [320, 7], [174, 12], [9, 2], [75, 4], [19, 16], [156, 107], [173, 1], [1483, 4], [261, 1], [57, 1], [145, 1], [39, 1, 5], [106, 1], [66, 2], [57, 1], [14, 1], [139, 1], [35, 10], [19, 16], [62, 1], [27, 1], [54, 1], [46, 2, 13], [274, 1], [278, 1], [298, 1], [157, 1, 13], [163, 1], [91, 12], [14, 1], [26, 1], [165, 1], [26, 1], [22, 2], [20, 1], [27, 1], [243, 2], [98, 1], [54, 1], [27, 1], [101, 1], [35, 10], [131, 48], [601, 1], [28, 6], [33, 1], [83, 7], [146, 64, 1], [115, 97], [75, 4], [57, 1], [140, 1, 112], [139, 1], [276, 56, 5], [57, 1], [145, 1], [98, 1], [55, 1], [62, 1], [200, 1], [158, 1], [239, 1], [41, 4], [110, 1], [20, 1], [88, 1], [189, 1], [173, 1], [278, 1], [326, 64, 1], [8, 34], [19, 16], [279, 1], [106, 1], [170, 118], [69, 1], [14, 1], [202, 45], [35, 10], [77, 1], [99, 1], [32, 6], [8, 34], [20, 1], [54, 1], [131, 48], [20, 1], [66, 2], [60, 1], [123, 1, 11], [127, 12, 1], [40, 1], [54, 1], [109, 1], [14, 1], [17, 1], [362, 2], [22, 2], [243, 2], [85, 1], [9, 2], [69, 1], [91, 12], [164, 70], [65, 2], [47, 1], [200, 1], [26, 1], [157, 1, 13], [26, 1], [33, 1], [8, 3, 25], [363, 2], [27, 1], [146, 64, 1], [32, 6], [173, 1], [8, 34], [145, 1], [35, 10], [28, 6], [327, 1], [44, 1], [154, 1], [9, 2], [275, 12], [163, 1], [8, 34], [1484, 70], [132, 1], [27, 1], [40, 1], [75, 4], [14, 1], [297, 1], [83, 7], [102, 1], [1485, 1, 112], [360, 1], [19, 16], [47, 1], [65, 2], [57, 1], [602, 1], [26, 1], [297, 1], [39, 1, 5], [8, 3, 25], [117, 1], [28, 6], [96, 1], [54, 1], [92, 1], [847, 7], [170, 118], [81, 2], [77, 1], [199, 1], [43, 2], [43, 2], [260, 1], [156, 107], [22, 2], [60, 1], [475, 1], [22, 2], [364, 1], [72, 2], [29, 2], [115, 97], [22, 2], [62, 1], [82, 1], [42, 1], [102, 1], [8, 10], [47, 1], [238, 1], [201, 1], [158, 1], [145, 1], [27, 1], [242, 7], [298, 1], [71, 2], [33, 1], [39, 1, 5], [218, 1], [32, 6], [81, 2], [274, 1], [96, 1], [42, 1], [328, 3, 25], [17, 1], [53, 1], [164, 70], [83, 7], [27, 1], [22, 2], [115, 97], [9, 2], [17, 1], [242, 7], [33, 1], [56, 15], [39, 1, 5], [17, 1], [88, 1], [259, 1], [165, 1], [122, 1], [29, 2], [116, 1], [9, 2], [298, 1], [92, 1], [85, 1], [80, 1], [20, 1], [39, 1, 5], [188, 1], [31, 23], [55, 1], [9, 2], [14, 1], [31, 23], [14, 1], [234, 1], [29, 2], [174, 12], [26, 1], [138, 1], [57, 1], [119, 51], [144, 1], [123, 1, 11], [115, 97], [75, 4], [40, 1], [1486, 1], [22, 2], [95, 2, 6], [43, 2], [848, 1], [126, 1], [82, 1], [74, 1], [93, 1], [43, 2], [47, 1], [14, 1], [17, 1], [62, 1], [53, 1], [95, 2, 6], [72, 2], [72, 2], [361, 24], [480, 103], [69, 1], [234, 1], [190, 1], [1487, 1], [53, 1], [243, 2], [243, 2], [22, 2], [158, 1], [44, 1], [147, 4], [29, 2], [54, 1], [66, 2], [481, 1], [22, 2], [49, 10], [76, 1], [236, 12], [133, 48], [9, 2], [31, 23], [146, 64, 1], [43, 2], [32, 6], [116, 1], [28, 6], [33, 1], [76, 1], [66, 2], [148, 1], [22, 2], [17, 1], [27, 1], [117, 1], [22, 2], [122, 1], [144, 1], [109, 1], [102, 1], [82, 1], [60, 1], [119, 51], [155, 1], [22, 2], [123, 1, 11], [61, 3, 15], [41, 4], [126, 1], [77, 1], [202, 45], [92, 1], [71, 2], [20, 1], [203, 1], [363, 2], [41, 4], [8, 34], [29, 2], [39, 1, 5], [116, 1], [8, 13], [43, 2], [55, 1], [114, 12], [26, 1], [26, 1], [235, 1], [301, 50], [9, 2], [92, 1], [148, 1], [53, 1], [22, 2], [42, 1], [482, 1], [164, 70], [481, 1], [44, 1], [57, 1], [65, 2], [9, 2], [199, 1], [299, 51], [8, 3, 25], [40, 1], [26, 1], [127, 12, 1], [9, 2], [20, 1], [19, 16], [65, 2], [29, 2], [8, 10], [17, 1], [173, 1], [47, 1], [28, 6], [19, 16], [40, 1], [132, 1], [9, 2], [132, 1], [42, 1], [14, 1], [188, 1], [41, 4], [27, 1], [53, 1], [234, 1], [17, 1], [49, 10], [44, 1], [96, 1], [49, 10], [32, 6], [598, 1], [26, 1], [31, 23], [22, 2], [81, 2], [39, 1, 5], [185, 1], [28, 6], [8, 34], [31, 23], [33, 1], [28, 6], [186, 56, 5], [8, 3, 25], [603, 1], [190, 1], [63, 1], [72, 2], [69, 1], [109, 1], [88, 1], [22, 2], [101, 1], [146, 64, 1], [60, 1], [165, 1], [32, 6], [92, 1], [39, 1, 5], [22, 2], [61, 3, 15], [238, 1], [237, 1, 6], [32, 6], [198, 1], [1488, 1489], [17, 1], [259, 1], [114, 12], [32, 6], [148, 1], [102, 1], [32, 6], [138, 1], [27, 1], [172, 6], [75, 4], [147, 4], [8, 34], [66, 2], [41, 4], [17, 1], [35, 10], [82, 1], [190, 1], [189, 1], [198, 1], [93, 1], [116, 1], [156, 107], [9, 2], [276, 56, 5], [74, 1], [98, 1], [17, 1], [80, 1], [239, 1], [132, 1], [99, 1], [294, 1], [54, 1], [126, 1], [328, 3, 25], [117, 1], [62, 1], [22, 2], [119, 51], [26, 1], [66, 2], [156, 107], [35, 10], [102, 1], [362, 2], [88, 1], [159, 1], [71, 2], [99, 1], [110, 1], [358, 1], [82, 1], [117, 1], [319, 121, 1], [125, 7], [9, 2], [122, 1], [42, 1], [72, 2], [74, 1], [849, 1], [26, 1], [131, 48], [131, 48], [125, 7], [17, 1], [47, 1], [241, 7], [119, 51], [83, 7], [9, 2], [27, 1], [55, 1], [9, 2], [185, 1], [203, 1], [8, 3, 25], [187, 1], [93, 1], [17, 1], [32, 6], [14, 1], [71, 2], [144, 1], [117, 1], [66, 2], [63, 1], [275, 12], [20, 1], [8, 13], [165, 1], [65, 2], [157, 1, 13], [14, 1], [8, 13], [44, 1], [240, 1], [92, 1], [8, 34], [72, 2], [140, 1, 112], [47, 1], [22, 2], [109, 1], [74, 1], [326, 64, 1], [43, 2], [8, 13], [74, 1], [111, 1], [66, 2], [14, 1], [31, 23], [27, 1], [96, 1], [31, 23], [101, 1], [604, 48], [198, 1], [154, 1], [9, 2], [22, 2], [139, 1], [81, 2], [33, 1], [17, 1], [125, 7], [63, 1], [599, 1], [17, 1], [35, 10], [69, 1], [42, 1], [35, 10], [148, 1], [82, 1], [39, 1, 5], [9, 2], [33, 1], [202, 45], [850, 1], [33, 1], [28, 6], [132, 1], [95, 2, 6], [66, 2], [236, 12], [19, 16], [44, 1], [9, 2], [22, 2], [19, 16], [53, 1], [93, 1], [29, 2], [76, 1], [69, 1], [362, 2], [96, 1], [81, 2], [85, 1], [320, 7], [35, 10], [327, 1], [116, 1], [22, 2], [29, 2], [31, 23], [9, 2], [14, 1], [9, 2], [53, 1], [66, 2], [19, 16], [174, 12], [846, 1], [158, 1], [140, 1, 112], [17, 1], [14, 1], [95, 2, 6], [99, 1], [57, 1], [92, 1], [43, 2], [33, 1], [9, 2], [63, 1], [479, 2], [49, 10], [81, 2], [93, 1], [72, 2], [41, 4], [8, 13], [74, 1], [110, 1], [8, 24], [46, 2, 13], [202, 45], [102, 1], [17, 1], [35, 10], [22, 2], [35, 10], [75, 4], [101, 1], [77, 1], [98, 1], [26, 1], [14, 1], [140, 1, 112], [319, 121, 1], [28, 6], [111, 1], [20, 1], [164, 70], [140, 1, 112], [155, 1], [39, 1, 5], [43, 2], [9, 2], [106, 1], [14, 1], [9, 2], [29, 2], [46, 2, 13], [32, 6], [26, 1], [32, 6], [147, 4], [57, 1], [46, 2, 13], [88, 1], [47, 1], [408, 51], [1490, 1], [74, 1], [8, 34], [27, 1], [1491, 851, 2], [14, 1], [202, 45], [27, 1], [85, 1], [31, 23], [198, 1], [242, 7], [43, 2], [43, 2], [19, 16], [76, 1], [200, 1], [8, 13], [44, 1], [72, 2], [198, 1], [39, 1, 5], [275, 12], [127, 12, 1], [88, 1], [126, 1], [126, 1], [300, 12], [131, 48], [14, 1], [32, 6], [53, 1], [8, 34], [66, 2], [26, 1], [75, 4], [184, 1], [19, 16], [279, 1], [46, 2, 13], [83, 7], [27, 1], [115, 97], [329, 1], [98, 1], [61, 3, 15], [109, 1], [61, 3, 15], [279, 1], [358, 1], [53, 1], [106, 1], [144, 1], [159, 1], [54, 1], [261, 1], [8, 13], [69, 1], [76, 1], [475, 1], [165, 1], [88, 1], [47, 1], [17, 1], [65, 2], [19, 16], [165, 1], [133, 48], [8, 34], [125, 7], [101, 1], [22, 2], [190, 1], [190, 1], [17, 1], [198, 1], [323, 1], [219, 120], [35, 10], [43, 2], [125, 7], [127, 12, 1], [8, 34], [9, 2], [8, 34], [14, 1], [8, 3, 25], [116, 1], [278, 1], [72, 2], [28, 6], [44, 1], [203, 1], [17, 1], [80, 1], [72, 2], [76, 1], [110, 1], [26, 1], [1492, 1], [8, 13], [259, 1], [17, 1], [186, 56, 5], [27, 1], [33, 1], [33, 1], [57, 1], [365, 1], [32, 6], [53, 1], [326, 64, 1], [43, 2], [61, 3, 15], [365, 1], [29, 2], [32, 6], [101, 1], [119, 51], [106, 1], [9, 2], [22, 2], [39, 1, 5], [19, 16], [198, 1], [40, 1], [201, 1], [20, 1], [162, 2], [74, 1], [74, 1], [32, 6], [111, 1], [54, 1], [19, 16], [202, 45], [162, 2], [27, 1], [14, 1], [47, 1], [47, 1], [106, 1], [133, 48], [328, 3, 25], [125, 7], [157, 1, 13], [77, 1], [93, 1], [60, 1], [184, 1], [8, 24], [29, 2], [236, 12], [330, 1], [239, 1], [198, 1], [77, 1], [131, 48], [14, 1], [132, 1], [132, 1], [96, 1], [41, 4], [54, 1], [8, 13], [22, 2], [162, 2], [44, 1], [32, 6], [69, 1], [8, 13], [9, 2], [96, 1], [19, 16], [40, 1], [35, 10], [55, 1], [35, 10], [9, 2], [101, 1], [60, 1], [147, 4], [101, 1], [22, 2], [76, 1], [109, 1], [98, 1], [122, 1], [20, 1], [330, 1], [42, 1], [331, 70], [122, 1], [409, 1], [91, 12], [46, 2, 13], [33, 1], [9, 2], [17, 1], [117, 1], [54, 1], [74, 1], [324, 4], [8, 24], [14, 1], [131, 48], [8, 13], [852, 1], [76, 1], [9, 2], [56, 15], [98, 1], [330, 1], [185, 1], [40, 1], [80, 1], [26, 1], [185, 1], [29, 2], [92, 1], [31, 23], [44, 1], [57, 1], [326, 64, 1], [279, 1], [28, 6], [88, 1], [274, 1], [362, 2], [9, 2], [33, 1], [88, 1], [85, 1], [201, 1], [109, 1], [14, 1], [218, 1], [27, 1], [27, 1], [146, 64, 1], [19, 16], [29, 2], [139, 1], [9, 2], [122, 1], [17, 1], [14, 1], [216, 1], [158, 1], [8, 34], [19, 16], [14, 1], [132, 1], [82, 1], [189, 1], [109, 1], [9, 2], [43, 2], [106, 1], [8, 13], [278, 1], [35, 10], [116, 1], [77, 1], [74, 1], [9, 2], [44, 1], [9, 2], [276, 56, 5], [278, 1], [32, 6], [26, 1], [71, 2], [147, 4], [41, 4], [185, 1], [26, 1], [839, 1], [14, 1], [326, 64, 1], [19, 16], [20, 1], [122, 1], [14, 1], [406, 2], [9, 2], [127, 12, 1], [199, 1], [101, 1], [14, 1], [123, 1, 11], [116, 1], [39, 1, 5], [32, 6], [279, 1], [19, 16], [101, 1], [119, 51], [20, 1], [35, 10], [28, 6], [8, 3, 25], [173, 1], [123, 1, 11], [19, 16], [39, 1, 5], [144, 1], [61, 3, 15], [55, 1], [29, 2], [133, 48], [19, 16], [66, 2], [42, 1], [33, 1], [33, 1], [65, 2], [172, 6], [133, 48], [92, 1], [57, 1], [20, 1], [42, 1], [189, 1], [29, 2], [19, 16], [53, 1], [71, 2], [17, 1], [61, 3, 15], [9, 2], [125, 7], [60, 1], [8, 3, 25], [66, 2], [72, 2], [9, 2], [241, 7], [29, 2], [42, 1], [22, 2], [17, 1], [8, 13], [9, 2], [29, 2], [66, 2], [122, 1], [27, 1], [85, 1], [8, 34], [28, 6], [155, 1], [17, 1], [65, 2], [96, 1], [126, 1], [27, 1], [76, 1], [62, 1], [99, 1], [260, 1], [219, 120], [31, 23], [69, 1], [40, 1], [14, 1], [9, 2], [17, 1], [110, 1], [133, 48], [9, 2], [46, 2, 13], [27, 1], [119, 51], [22, 2], [92, 1], [43, 2], [8, 13], [19, 16], [57, 1], [9, 2], [164, 70], [8, 3, 25], [75, 4], [80, 1], [147, 4], [54, 1], [9, 2], [202, 45], [20, 1], [140, 1, 112], [17, 1], [54, 1], [57, 1], [278, 1], [88, 1], [117, 1], [9, 2], [8, 10], [96, 1], [65, 2], [63, 1], [174, 12], [74, 1], [28, 6], [9, 2], [329, 1], [44, 1], [26, 1], [9, 2], [29, 2], [14, 1], [54, 1], [43, 2], [20, 1], [22, 2], [1493, 280, 70, 48], [8, 13], [65, 2], [28, 6], [156, 107], [66, 2], [88, 1], [22, 2], [62, 1], [187, 1], [43, 2], [101, 1], [39, 1, 5], [62, 1], [20, 1], [154, 1], [301, 50], [32, 6], [17, 1], [102, 1], [35, 10], [9, 2], [19, 16], [17, 1], [54, 1], [32, 6], [77, 1], [19, 16], [261, 1], [9, 2], [321, 1], [19, 16], [53, 1], [605, 4], [298, 1], [96, 1], [158, 1], [88, 1], [243, 2], [123, 1, 11], [71, 2], [14, 1], [39, 1, 5], [9, 2], [75, 4], [96, 1], [145, 1], [46, 2, 13], [35, 10], [8, 34], [133, 48], [218, 1], [14, 1], [14, 1], [77, 1], [295, 1], [365, 1], [60, 1], [154, 1], [277, 15], [22, 2], [29, 2], [28, 6], [39, 1, 5], [92, 1], [275, 12], [85, 1], [9, 2], [43, 2], [60, 1], [54, 1], [301, 50], [236, 12], [8, 3, 25], [19, 16], [32, 6], [19, 16], [409, 1], [44, 1], [14, 1], [9, 2], [9, 2], [155, 1], [49, 10], [26, 1], [170, 118], [57, 1], [203, 1], [133, 48], [80, 1], [9, 2], [106, 1], [8, 13], [26, 1], [81, 2], [42, 1], [29, 2], [17, 1], [235, 1], [133, 48], [83, 7], [99, 1], [14, 1], [63, 1], [31, 70], [29, 2], [40, 1], [102, 1], [26, 1], [277, 15], [26, 1], [31, 23], [61, 3, 15], [602, 1], [55, 1], [22, 2], [109, 1], [28, 6], [132, 1], [85, 1], [22, 2], [60, 1], [8, 10], [22, 2], [241, 7], [20, 1], [19, 16], [148, 1], [47, 1], [40, 1], [9, 2], [156, 107], [74, 1], [131, 48], [172, 6], [17, 1], [99, 1], [14, 1], [32, 6], [111, 1], [187, 1], [80, 1], [203, 1], [19, 16], [92, 1], [184, 1], [63, 1], [14, 1], [190, 1], [83, 7], [185, 1], [43, 2], [55, 1], [123, 1, 11], [148, 1], [328, 3, 25], [8, 24], [85, 1], [99, 1], [140, 1, 112], [42, 1], [155, 1], [55, 1], [274, 1], [482, 1], [27, 1], [33, 1], [43, 2], [99, 1], [47, 1], [9, 2], [74, 1], [29, 2], [357, 1], [327, 1], [93, 1], [238, 1], [29, 2], [95, 2, 6], [53, 1], [98, 1], [483, 1], [119, 51], [29, 2], [19, 16], [110, 1], [33, 1], [159, 1], [17, 1], [44, 1], [69, 1], [9, 2], [101, 1], [60, 1], [81, 2], [71, 2], [49, 10], [44, 1], [8, 10], [85, 1], [202, 45], [35, 10], [40, 1], [35, 10], [81, 2], [20, 1], [55, 1], [132, 1], [75, 4], [17, 1], [29, 2], [322, 13], [20, 1], [9, 2], [187, 1], [33, 1], [321, 1], [853, 1], [294, 1], [595, 2], [81, 2], [53, 1], [14, 1], [19, 16], [8, 3, 25], [69, 1], [17, 1], [31, 23], [330, 1], [138, 1], [53, 1], [19, 16], [598, 1], [101, 1], [19, 16], [14, 1], [42, 1], [218, 1], [845, 2], [53, 1], [74, 1], [26, 1], [20, 1], [32, 6], [22, 2], [240, 1], [28, 6], [44, 1], [237, 1, 6], [65, 2], [26, 1], [9, 2], [80, 1], [1494, 12], [126, 1], [241, 7], [41, 4], [22, 2], [19, 16], [20, 1], [33, 1], [29, 2], [201, 1], [66, 2], [198, 1], [32, 6], [93, 1], [14, 1], [28, 6], [329, 1], [95, 2, 6], [61, 3, 15], [133, 48], [127, 12, 1], [77, 1], [601, 1], [9, 2], [81, 2], [47, 1], [19, 16], [80, 1], [43, 2], [9, 2], [243, 2], [240, 1], [28, 6], [172, 6], [26, 1], [56, 15], [123, 1, 11], [39, 1, 5], [35, 10], [200, 1], [328, 3, 25], [14, 1], [119, 51], [44, 1], [40, 1], [66, 2], [47, 1], [17, 1], [174, 12], [147, 4], [106, 1], [32, 6], [72, 2], [359, 1], [57, 1], [145, 1], [9, 2], [43, 2], [39, 1, 5], [49, 10], [240, 1], [14, 1], [80, 1], [9, 2], [62, 1], [53, 1], [17, 1], [241, 7], [61, 3, 15], [81, 2], [85, 1], [8, 10], [125, 7], [62, 1], [32, 6], [96, 1], [8, 3, 25], [42, 1], [44, 1], [54, 1], [276, 56, 5], [163, 1], [20, 1], [131, 48], [144, 1], [93, 1], [144, 1], [61, 3, 15], [35, 10], [76, 1], [80, 1], [62, 1], [109, 1], [409, 1], [20, 1], [359, 1], [41, 4], [243, 2], [41, 4], [19, 16], [66, 2], [28, 6], [8, 13], [187, 1], [49, 10], [17, 1], [44, 1], [82, 1], [9, 2], [19, 16], [76, 1], [854, 1], [14, 1], [41, 4], [28, 6], [49, 10], [32, 6], [323, 1], [96, 1], [279, 1], [187, 1], [95, 2, 6], [27, 1], [144, 1], [606, 1], [46, 2, 13], [83, 7], [279, 1], [9, 2], [93, 1], [238, 1], [22, 2], [19, 16], [91, 12], [9, 2], [27, 1], [14, 1], [96, 1], [93, 1], [123, 1, 11], [328, 3, 25], [14, 1], [93, 1], [242, 7], [9, 2], [14, 1], [43, 2], [28, 6], [14, 1], [138, 1], [362, 2], [9, 2], [75, 4], [22, 2], [14, 1], [55, 1], [53, 1], [147, 4], [278, 1], [65, 2], [14, 1], [33, 1], [95, 2, 6], [83, 7], [114, 12], [44, 1], [188, 1], [27, 1], [17, 1], [173, 1], [114, 12], [66, 2], [75, 4], [9, 2], [77, 1], [28, 6], [32, 6], [119, 51], [44, 1], [57, 1], [159, 1], [32, 6], [138, 1], [31, 23], [27, 1], [42, 1], [40, 1], [301, 50], [8, 13], [164, 70], [159, 1], [77, 1], [363, 2], [74, 1], [76, 1], [42, 1], [364, 1], [132, 1], [39, 1, 5], [126, 1], [32, 6], [29, 2], [19, 16], [54, 1], [9, 2], [80, 1], [72, 2], [114, 12], [53, 1], [66, 2], [127, 12, 1], [145, 1], [216, 1], [61, 3, 15], [157, 1, 13], [91, 12], [72, 2], [106, 1], [172, 6], [41, 4], [98, 1], [127, 12, 1], [75, 4], [17, 1], [85, 1], [49, 10], [61, 3, 15], [57, 1], [27, 1], [74, 1], [14, 1], [101, 1], [28, 6], [9, 2], [71, 2], [9, 2], [63, 1], [17, 1], [17, 1], [28, 6], [33, 1], [361, 24], [241, 7], [63, 1], [80, 1], [31, 23], [57, 1], [63, 1], [163, 1], [17, 1], [480, 103], [20, 1], [131, 48], [74, 1], [109, 1], [144, 1], [17, 1], [9, 2], [33, 1], [40, 1], [77, 1], [32, 6], [27, 1], [53, 1], [22, 2], [110, 1], [53, 1], [81, 2], [33, 1], [219, 120], [22, 2], [28, 6], [17, 1], [27, 1], [122, 1], [202, 45], [33, 1], [148, 1], [44, 1], [22, 2], [607, 1], [66, 2], [42, 1], [9, 2], [17, 1], [99, 1], [174, 12], [301, 50], [32, 6], [33, 1], [138, 1], [42, 1], [1495, 1], [22, 2], [360, 1], [1496, 1], [8, 34], [8, 13], [101, 1], [85, 1], [8, 13], [66, 2], [46, 2, 13], [235, 1], [9, 2], [47, 1], [9, 2], [98, 1], [74, 1], [28, 6], [54, 1], [95, 2, 6], [239, 1], [66, 2], [148, 1], [61, 3, 15], [106, 1], [8, 34], [162, 2], [1497, 1], [8, 13], [119, 51], [173, 1], [138, 1], [74, 1], [74, 1], [46, 2, 13], [83, 7], [77, 1], [117, 1], [41, 4], [17, 1], [117, 1], [131, 48], [31, 23], [144, 1], [72, 2], [96, 1], [62, 1], [47, 1], [117, 1], [31, 70], [60, 1], [44, 1], [96, 1], [27, 1], [109, 1], [9, 2], [40, 1], [163, 1], [188, 1], [17, 1], [96, 1], [186, 56, 5], [22, 2], [41, 4], [605, 4], [40, 1], [241, 7], [9, 2], [298, 1], [147, 4], [158, 1], [476, 121], [106, 1], [299, 51], [65, 2], [20, 1], [114, 12], [19, 16], [27, 1], [159, 1], [173, 1], [88, 1], [408, 51], [604, 48], [98, 1], [53, 1], [9, 2], [14, 1], [47, 1], [27, 1], [57, 1], [27, 1], [54, 1], [163, 1], [55, 1], [35, 10], [41, 4], [98, 1], [29, 2], [69, 1], [71, 2], [95, 2, 6], [154, 1], [32, 6], [88, 1], [165, 1], [56, 15], [71, 2], [17, 1], [35, 10], [101, 1], [98, 1], [199, 1], [8, 3, 25], [138, 1], [95, 2, 6], [63, 1], [322, 13], [22, 2], [20, 1], [35, 10], [31, 23], [43, 2], [54, 1], [116, 1], [71, 2], [261, 1], [155, 1], [42, 1], [242, 7], [127, 12, 1], [55, 1], [19, 16], [9, 2], [62, 1], [40, 1], [39, 1, 5], [72, 2], [170, 118], [146, 64, 1], [216, 1], [39, 1, 5], [77, 1], [17, 1], [27, 1], [158, 1], [847, 7], [63, 1], [145, 1], [41, 4], [32, 6], [32, 6], [184, 1], [19, 16], [20, 1], [82, 1], [20, 1], [173, 1], [325, 64, 1], [80, 1], [55, 1], [46, 2, 13], [218, 1], [477, 171, 1, 5], [363, 2], [102, 1], [8, 3, 25], [29, 2], [148, 1], [43, 2], [325, 64, 1], [65, 2], [27, 1], [102, 1], [40, 1], [32, 6], [27, 1], [26, 1], [101, 1], [22, 2], [28, 6], [17, 1], [133, 48], [157, 1, 13], [85, 1], [55, 1], [27, 1], [27, 1], [32, 6], [69, 1], [123, 1, 11], [117, 1], [19, 16], [299, 51], [8, 3, 25], [35, 10], [320, 7], [63, 1], [117, 1], [109, 1], [66, 2], [71, 2], [840, 1], [300, 12], [240, 1], [276, 56, 5], [138, 1], [29, 2], [56, 15], [35, 10], [9, 2], [46, 2, 13], [164, 70], [93, 1], [126, 1], [237, 1, 6], [83, 7], [53, 1], [186, 56, 5], [62, 1], [40, 1], [35, 10], [165, 1], [239, 1], [44, 1], [20, 1], [19, 16], [85, 1], [125, 7], [1498, 3, 220], [88, 1], [74, 1], [406, 2], [75, 4], [110, 1], [127, 12, 1], [83, 7], [65, 2], [17, 1], [600, 1], [22, 2], [22, 2], [8, 34], [46, 2, 13], [71, 2], [62, 1], [39, 1, 5], [8, 10], [116, 1], [19, 16], [147, 4], [27, 1], [145, 1], [99, 1], [14, 1], [41, 4], [43, 2], [47, 1], [102, 1], [608, 4], [319, 121, 1], [17, 1], [296, 1], [324, 4], [40, 1], [26, 1], [131, 48], [17, 1], [139, 1], [26, 1], [8, 10], [22, 2], [236, 12], [217, 171, 1, 5], [14, 1], [174, 12], [122, 1], [217, 171, 1, 5], [33, 1], [20, 1], [46, 2, 13], [101, 1], [92, 1], [42, 1], [22, 2], [236, 12], [173, 1], [61, 3, 15], [140, 1, 112], [17, 1], [47, 1], [55, 1], [60, 1], [110, 1], [189, 1], [69, 1], [157, 1, 13], [55, 1], [80, 1], [119, 51], [163, 1], [327, 1], [82, 1], [44, 1], [46, 2, 13], [20, 1], [217, 171, 1, 5], [53, 1], [29, 2], [29, 2], [127, 12, 1], [188, 1], [8, 3, 25], [8, 34], [20, 1], [77, 1], [409, 1], [236, 12], [46, 2, 13], [17, 1], [20, 1], [35, 10], [82, 1], [324, 4], [602, 1], [35, 10], [187, 1], [49, 10], [39, 1, 5], [173, 1], [217, 171, 1, 5], [27, 1], [297, 1], [358, 1], [39, 1, 5], [28, 6], [35, 10], [33, 1], [190, 1], [19, 16], [115, 97], [44, 1], [8, 34], [109, 1], [55, 1], [42, 1], [85, 1], [93, 1], [109, 1], [19, 16], [32, 6], [47, 1], [9, 2], [32, 6], [93, 1], [74, 1], [132, 1], [63, 1], [17, 1], [80, 1], [275, 12], [365, 1], [14, 1], [31, 23], [35, 10], [29, 2], [159, 1], [42, 1], [88, 1], [295, 1], [131, 48], [102, 1], [33, 1], [115, 97], [49, 10], [31, 23], [35, 10], [242, 7], [8, 3, 25], [57, 1], [43, 2], [218, 1], [14, 1], [1499, 12], [40, 1], [144, 1], [9, 2], [65, 2], [66, 2], [28, 6], [360, 1], [69, 1], [39, 1, 5], [8, 3, 25], [156, 107], [46, 2, 13], [26, 1], [855, 1], [74, 1], [42, 1], [91, 12], [41, 4], [53, 1], [154, 1], [243, 2], [14, 1], [28, 6], [122, 1], [9, 2], [110, 1], [8, 34], [261, 1], [200, 1], [33, 1], [323, 1], [83, 7], [81, 2], [28, 6], [20, 1], [328, 3, 25], [126, 1], [278, 1], [53, 1], [65, 2], [14, 1], [72, 2], [62, 1], [17, 1], [9, 2], [325, 64, 1], [274, 1], [57, 1], [74, 1], [54, 1], [44, 1], [88, 1], [62, 1], [42, 1], [72, 2], [91, 12], [35, 10], [110, 1], [164, 70], [44, 1], [163, 1], [93, 1], [62, 1], [32, 6], [111, 1], [608, 4], [20, 1], [154, 1], [20, 1], [165, 1], [44, 1], [174, 12], [606, 1], [39, 1, 5], [162, 2], [102, 1], [40, 1], [138, 1], [17, 1], [33, 1], [9, 2], [69, 1], [33, 1], [145, 1], [29, 2], [39, 1, 5], [44, 1], [8, 3, 25], [66, 2], [17, 1], [47, 1], [93, 1], [9, 2], [27, 1], [116, 1], [44, 1], [28, 6], [49, 10], [201, 1], [49, 10], [14, 1], [98, 1], [83, 7], [235, 1], [72, 2], [49, 10], [20, 1], [71, 2], [132, 1], [80, 1], [408, 51], [9, 2], [49, 10], [20, 1], [33, 1], [9, 2], [93, 1], [95, 2, 6], [26, 1], [26, 1], [74, 1], [322, 13], [92, 1], [109, 1], [91, 12], [65, 2], [44, 1], [243, 2], [9, 2], [32, 6], [61, 3, 15], [49, 10], [77, 1], [93, 1], [186, 56, 5], [20, 1], [407, 1], [27, 1], [31, 23], [20, 1], [261, 1], [83, 7], [63, 1], [33, 1], [190, 1], [77, 1], [9, 2], [8, 34], [319, 121, 1], [9, 2], [32, 6], [26, 1], [146, 64, 1], [47, 1], [35, 10], [22, 2], [61, 3, 15], [44, 1], [41, 4], [9, 2], [9, 2], [76, 1], [133, 48], [26, 1], [259, 1], [856, 1], [114, 12], [200, 1], [1500, 191], [26, 1], [29, 2], [56, 15], [76, 1], [325, 64, 1], [33, 1], [65, 2], [9, 2], [26, 1], [43, 2], [77, 1], [33, 1], [27, 1], [41, 4], [240, 1], [26, 1], [28, 6], [27, 1], [53, 1], [329, 1], [145, 1], [41, 4], [55, 1], [325, 64, 1], [43, 2], [218, 1], [185, 1], [607, 1], [32, 6], [99, 1], [19, 16], [117, 1], [19, 16], [43, 2], [301, 50], [76, 1], [359, 1], [8, 10], [54, 1], [33, 1], [14, 1], [8, 24], [125, 7], [28, 6], [111, 1], [329, 1], [29, 2], [201, 1], [71, 2], [119, 51], [20, 1], [81, 2], [300, 12], [122, 1], [33, 1], [8, 13], [480, 103], [42, 1], [43, 2], [63, 1], [26, 1], [19, 16], [156, 107], [75, 4], [75, 4], [55, 1], [114, 12], [17, 1], [28, 6], [1501, 1], [66, 2], [237, 1, 6], [331, 70], [154, 1], [115, 97], [29, 2], [8, 24], [17, 1], [39, 1, 5], [47, 1], [144, 1], [95, 2, 6], [300, 12], [20, 1], [20, 1], [17, 1], [31, 23], [127, 12, 1], [236, 12], [477, 171, 1, 5], [22, 2], [35, 10], [26, 1], [29, 2], [154, 1], [66, 2], [28, 6], [33, 1], [33, 1], [8, 24], [114, 12], [35, 10], [157, 1, 13], [57, 1], [28, 6], [19, 16], [8, 3, 25], [8, 13], [184, 1], [22, 2], [14, 1], [53, 1], [139, 1], [8, 34], [19, 16], [172, 6], [854, 1], [9, 2], [69, 1], [44, 1], [119, 51], [80, 1], [71, 2], [146, 64, 1], [29, 2], [9, 2], [40, 1], [96, 1], [98, 1], [42, 1], [29, 2], [235, 1], [22, 2], [53, 1], [8, 13], [133, 48], [28, 6], [14, 1], [53, 1], [28, 6], [69, 1], [9, 2], [164, 70], [146, 64, 1], [140, 1, 112], [77, 1], [54, 1], [76, 1], [102, 1], [98, 1], [185, 1], [28, 6], [188, 1], [19, 16], [8, 13], [14, 1], [145, 1], [77, 1], [320, 7], [66, 2], [19, 16], [240, 1], [92, 1], [261, 1], [297, 1], [479, 2], [42, 1], [41, 4], [92, 1], [19, 16], [219, 120], [17, 1], [609, 1], [20, 1], [42, 1], [26, 1], [55, 1], [22, 2], [109, 1], [300, 12], [20, 1], [40, 1], [20, 1], [407, 1], [28, 6], [54, 1], [31, 23], [320, 7], [14, 1], [8, 13], [190, 1], [28, 6], [41, 4], [20, 1], [47, 1], [40, 1], [69, 1], [155, 1], [148, 1], [69, 1], [32, 6], [22, 2], [28, 6], [111, 1], [131, 48], [9, 2], [605, 4], [8, 34], [295, 1], [44, 1], [46, 2, 13], [17, 1], [9, 2], [43, 2], [47, 1], [57, 1], [9, 2], [357, 1], [19, 16], [8, 34], [60, 1], [189, 1], [14, 1], [56, 15], [8, 3, 25], [237, 1, 6], [92, 1], [72, 2], [20, 1], [83, 7], [216, 1], [295, 1], [82, 1], [298, 1], [91, 12], [20, 1], [19, 16], [27, 1], [322, 13], [63, 1], [19, 16], [114, 12], [17, 1], [57, 1], [55, 1], [295, 1], [17, 1], [91, 12], [235, 1], [164, 70], [26, 1], [200, 1], [482, 1], [28, 6], [65, 2], [114, 12], [8, 24], [170, 118], [241, 7], [122, 1], [115, 97], [17, 1], [26, 1], [31, 70], [481, 1], [53, 1], [9, 2], [61, 3, 15], [114, 12], [35, 10], [131, 48], [241, 7], [17, 1], [22, 2], [154, 1], [39, 1, 5], [20, 1], [71, 2], [109, 1], [20, 1], [14, 1], [80, 1], [22, 2], [31, 23], [321, 1], [60, 1], [27, 1], [26, 1], [35, 10], [184, 1], [9, 2], [81, 2], [296, 1], [9, 2], [92, 1], [85, 1], [71, 2], [14, 1], [188, 1], [186, 56, 5], [14, 1], [132, 1], [44, 1], [8, 34], [82, 1], [43, 2], [41, 4], [99, 1], [35, 10], [33, 1], [46, 2, 13], [81, 2], [71, 2], [65, 2], [60, 1], [9, 2], [60, 1], [330, 1], [172, 6], [26, 1], [41, 4], [28, 6], [60, 1], [55, 1], [29, 2], [20, 1], [218, 1], [44, 1], [26, 1], [9, 2], [19, 16], [199, 1], [9, 2], [111, 1], [82, 1], [9, 2], [260, 1], [76, 1], [164, 70], [95, 2, 6], [76, 1], [22, 2], [33, 1], [8, 3, 25], [77, 1], [42, 1], [115, 97], [55, 1], [46, 2, 13], [80, 1], [17, 1], [8, 34], [43, 2], [77, 1], [49, 10], [22, 2], [200, 1], [14, 1], [8, 13], [125, 7], [76, 1], [35, 10], [63, 1], [39, 1, 5], [39, 1, 5], [14, 1], [33, 1], [41, 4], [165, 1], [27, 1], [157, 1, 13], [8, 13], [155, 1], [28, 6], [114, 12], [125, 7], [201, 1], [19, 16], [115, 97], [277, 15], [31, 23], [20, 1], [57, 1], [406, 2], [155, 1], [106, 1], [184, 1], [364, 1], [41, 4], [163, 1], [9, 2], [57, 1], [148, 1], [80, 1], [22, 2], [219, 120], [114, 12], [110, 1], [19, 16], [62, 1], [55, 1], [184, 1], [479, 2], [33, 1], [95, 2, 6], [60, 1], [8, 34], [364, 1], [19, 16], [14, 1], [49, 10], [80, 1], [20, 1], [71, 2], [29, 2], [9, 2], [49, 10], [42, 1], [131, 48], [163, 1], [61, 3, 15], [80, 1], [320, 7], [31, 23], [8, 3, 25], [601, 1], [115, 97], [125, 7], [17, 1], [22, 2], [47, 1], [19, 16], [61, 3, 15], [29, 2], [123, 1, 11], [9, 2], [190, 1], [74, 1], [19, 16], [110, 1], [9, 2], [242, 7], [33, 1], [260, 1], [53, 1], [148, 1], [17, 1], [155, 1], [17, 1], [22, 2], [122, 1], [49, 10], [22, 2], [20, 1], [119, 51], [76, 1], [96, 1], [259, 1], [261, 1], [85, 1], [88, 1], [47, 1], [93, 1], [157, 1, 13], [76, 1], [8, 3, 25], [146, 64, 1], [163, 1], [91, 12], [61, 3, 15], [42, 1], [410, 1], [174, 12], [82, 1], [365, 1], [29, 2], [110, 1], [74, 1], [65, 2], [159, 1], [8, 3, 25], [93, 1], [17, 1], [63, 1], [26, 1], [145, 1], [81, 2], [17, 1], [106, 1], [155, 1], [162, 2], [14, 1], [43, 2], [77, 1], [55, 1], [217, 171, 1, 5], [20, 1], [43, 2], [54, 1], [261, 1], [82, 1], [19, 16], [39, 1, 5], [77, 1], [75, 4], [364, 1], [53, 1], [609, 1], [44, 1], [42, 1], [22, 2], [46, 2, 13], [241, 7], [31, 23], [199, 1], [61, 3, 15], [299, 51], [174, 12], [39, 1, 5], [22, 2], [43, 2], [159, 1], [190, 1], [42, 1], [9, 2], [9, 2], [43, 2], [855, 1], [49, 10], [26, 1], [41, 4], [26, 1], [46, 2, 13], [219, 120], [99, 1], [32, 6], [46, 2, 13], [9, 2], [27, 1], [63, 1], [77, 1], [9, 2], [65, 2], [8, 34], [82, 1], [41, 4], [8, 3, 25], [35, 10], [40, 1], [106, 1], [106, 1], [75, 4], [71, 2], [20, 1], [122, 1], [165, 1], [9, 2], [481, 1], [126, 1], [40, 1], [81, 2], [33, 1], [49, 10], [218, 1], [277, 15], [126, 1], [75, 4], [14, 1], [29, 2], [42, 1], [20, 1], [158, 1], [54, 1], [201, 1], [20, 1], [170, 118], [115, 97], [8, 13], [22, 2], [49, 10], [9, 2], [8, 3, 25], [80, 1], [33, 1], [43, 2], [217, 171, 1, 5], [8, 10], [102, 1], [19, 16], [61, 3, 15], [26, 1], [29, 2], [186, 56, 5], [19, 16], [28, 6], [327, 1], [31, 23], [125, 7], [22, 2], [27, 1], [71, 2], [102, 1], [329, 1], [140, 1, 112], [123, 1, 11], [188, 1], [74, 1], [20, 1], [20, 1], [72, 2], [71, 2], [26, 1], [9, 2], [9, 2], [63, 1], [133, 48], [77, 1], [22, 2], [9, 2], [63, 1], [239, 1], [29, 2], [42, 1], [148, 1], [115, 97], [35, 10], [111, 1], [203, 1], [88, 1], [190, 1], [66, 2], [29, 2], [42, 1], [63, 1], [22, 2], [184, 1], [20, 1], [279, 1], [43, 2], [26, 1], [109, 1], [22, 2], [22, 2], [88, 1], [46, 2, 13], [9, 2], [110, 1], [162, 2], [81, 2], [123, 1, 11], [203, 1], [8, 3, 25], [17, 1], [60, 1], [140, 1, 112], [14, 1], [596, 7], [123, 1, 11], [14, 1], [140, 1, 112], [8, 24], [330, 1], [358, 1], [14, 1], [116, 1], [55, 1], [20, 1], [17, 1], [331, 70], [327, 1], [127, 12, 1], [139, 1], [17, 1], [122, 1], [115, 97], [162, 2], [14, 1], [60, 1], [190, 1], [27, 1], [301, 50], [33, 1], [8, 34], [154, 1], [279, 1], [159, 1], [91, 12], [132, 1], [33, 1], [8, 13], [41, 4], [81, 2], [31, 23], [147, 4], [98, 1], [63, 1], [46, 2, 13], [39, 1, 5], [8, 13], [170, 118], [203, 1], [600, 1], [139, 1], [301, 50], [217, 171, 1, 5], [57, 1], [47, 1], [35, 10], [93, 1], [65, 2], [19, 16], [77, 1], [69, 1], [189, 1], [98, 1], [20, 1], [74, 1], [9, 2], [295, 1], [20, 1], [237, 1, 6], [14, 1], [164, 70], [358, 1], [46, 2, 13], [47, 1], [8, 34], [53, 1], [9, 2], [14, 1], [55, 1], [8, 13], [28, 6], [31, 23], [856, 1], [98, 1], [82, 1], [202, 45], [66, 2], [138, 1], [65, 2], [127, 12, 1], [159, 1], [158, 1], [47, 1], [163, 1], [189, 1], [140, 1, 112], [28, 6], [26, 1], [91, 12], [122, 1], [156, 107], [156, 107], [55, 1], [63, 1], [331, 70], [139, 1], [75, 4], [35, 10], [98, 1], [17, 1], [162, 2], [32, 6], [46, 2, 13], [22, 2], [123, 1, 11], [8, 34], [9, 2], [33, 1], [299, 51], [99, 1], [277, 15], [44, 1], [117, 1], [131, 48], [325, 64, 1], [76, 1], [106, 1], [62, 1], [259, 1], [126, 1], [125, 7], [88, 1], [159, 1], [8, 24], [60, 1], [60, 1], [296, 1], [8, 3, 25], [8, 3, 25], [139, 1], [95, 2, 6], [102, 1], [71, 2], [26, 1], [63, 1], [40, 1], [85, 1], [22, 2], [239, 1], [35, 10], [483, 1], [40, 1], [49, 10], [410, 1], [148, 1], [42, 1], [115, 97], [238, 1], [22, 2], [54, 1], [17, 1], [139, 1], [96, 1], [31, 23], [117, 1], [46, 2, 13], [46, 2, 13], [20, 1], [295, 1], [98, 1], [40, 1], [85, 1], [187, 1], [188, 1], [9, 2], [28, 6], [93, 1], [298, 1], [43, 2], [63, 1], [46, 2, 13], [115, 97], [99, 1], [61, 3, 15], [98, 1], [22, 2], [26, 1], [61, 3, 15], [27, 1], [62, 1], [158, 1], [49, 10], [29, 2], [42, 1], [40, 1], [82, 1], [76, 1], [40, 1], [28, 6], [65, 2], [17, 1], [326, 64, 1], [39, 1, 5], [1502, 7], [27, 1], [9, 2], [41, 4], [27, 1], [20, 1], [35, 10], [170, 118], [39, 1, 5], [101, 1], [9, 2], [54, 1], [41, 4], [203, 1], [8, 13], [19, 16], [29, 2], [139, 1], [173, 1], [69, 1], [19, 16], [32, 6], [33, 1], [1503, 1], [33, 1], [19, 16], [47, 1], [132, 1], [9, 2], [42, 1], [157, 1, 13], [9, 2], [9, 2], [53, 1], [40, 1], [8, 24], [62, 1], [83, 7], [8, 10], [199, 1], [147, 4], [99, 1], [75, 4], [95, 2, 6], [199, 1], [20, 1], [240, 1], [8, 24], [28, 6], [72, 2], [26, 1], [8, 34], [72, 2], [42, 1], [46, 2, 13], [9, 2], [188, 1], [74, 1], [95, 2, 6], [259, 1], [83, 7], [72, 2], [187, 1], [47, 1], [82, 1], [46, 2, 13], [27, 1], [61, 3, 15], [8, 3, 25], [81, 2], [165, 1], [111, 1], [76, 1], [54, 1], [238, 1], [65, 2], [607, 1], [114, 12], [17, 1], [109, 1], [109, 1], [54, 1], [35, 10], [20, 1], [41, 4], [39, 1, 5], [8, 3, 25], [77, 1], [46, 2, 13], [260, 1], [98, 1], [47, 1], [8, 3, 25], [28, 6], [147, 4], [39, 1, 5], [63, 1], [111, 1], [99, 1], [155, 1], [20, 1], [8, 13], [29, 2], [184, 1], [482, 1], [69, 1], [853, 1], [162, 2], [61, 3, 15], [297, 1], [156, 107], [80, 1], [184, 1], [54, 1], [62, 1], [146, 64, 1], [55, 1], [85, 1], [39, 1, 5], [62, 1], [146, 64, 1], [319, 121, 1], [91, 12], [9, 2], [22, 2], [234, 1], [189, 1], [43, 2], [237, 1, 6], [164, 70], [62, 1], [26, 1], [14, 1], [111, 1], [8, 3, 25], [146, 64, 1], [275, 12], [189, 1], [174, 12], [1504, 1], [92, 1], [126, 1], [39, 1, 5], [99, 1], [133, 48], [47, 1], [33, 1], [202, 45], [276, 56, 5], [28, 6], [46, 2, 13], [9, 2], [156, 107], [14, 1], [110, 1], [60, 1], [74, 1], [27, 1], [22, 2], [55, 1], [61, 3, 15], [28, 6], [17, 1], [95, 2, 6], [843, 844, 1], [72, 2], [35, 10], [9, 2], [20, 1], [115, 97], [122, 1], [114, 12], [242, 7], [91, 12], [22, 2], [22, 2], [41, 4], [43, 2], [849, 1], [60, 1], [27, 1], [363, 2], [20, 1], [14, 1], [17, 1], [53, 1], [77, 1], [72, 2], [122, 1], [20, 1], [363, 2], [172, 6], [116, 1], [17, 1], [32, 6], [321, 1], [85, 1], [44, 1], [111, 1], [260, 1], [22, 2], [53, 1], [20, 1], [81, 2], [14, 1], [22, 2], [71, 2], [359, 1], [46, 2, 13], [31, 23], [69, 1], [44, 1], [8, 10], [1505, 12], [65, 2], [132, 1], [41, 4], [8, 34], [44, 1], [9, 2], [236, 12], [39, 1, 5], [28, 6], [17, 1], [9, 2], [17, 1], [32, 6], [62, 1], [61, 3, 15], [606, 1], [66, 2], [41, 4], [159, 1], [300, 12], [75, 4], [9, 2], [17, 1], [29, 2], [17, 1], [27, 1], [9, 2], [9, 2], [63, 1], [47, 1], [9, 2], [243, 2], [62, 1], [17, 1], [200, 1], [9, 2], [841, 1], [26, 1], [47, 1], [162, 2], [69, 1], [296, 1], [31, 23], [32, 6], [69, 1], [14, 1], [29, 2], [14, 1], [41, 4], [60, 1], [111, 1], [39, 1, 5], [172, 6], [19, 16], [29, 2], [31, 23], [14, 1], [65, 2], [92, 1], [44, 1], [44, 1], [65, 2], [122, 1], [115, 97], [8, 34], [20, 1], [26, 1], [62, 1], [39, 1, 5], [138, 1], [203, 1], [22, 2], [54, 1], [75, 4], [26, 1], [148, 1], [40, 1], [322, 13], [19, 16], [9, 2], [127, 12, 1], [357, 1], [14, 1], [27, 1], [300, 12], [17, 1], [20, 1], [259, 1], [61, 3, 15], [9, 2], [31, 70], [62, 1], [9, 2], [329, 1], [101, 1], [69, 1], [116, 1], [83, 7], [14, 1], [49, 10], [62, 1], [75, 4], [19, 16], [83, 7], [43, 2], [26, 1], [165, 1], [26, 1], [19, 16], [41, 4], [157, 1, 13], [123, 1, 11], [117, 1], [185, 1], [102, 1], [44, 1], [360, 1], [42, 1], [27, 1], [235, 1], [46, 2, 13], [61, 3, 15], [102, 1], [852, 1], [22, 2], [46, 2, 13], [46, 2, 13], [80, 1], [603, 1], [17, 1], [19, 16], [40, 1], [29, 2], [294, 1], [69, 1], [8, 13], [28, 6], [33, 1], [186, 56, 5], [28, 6], [81, 2], [42, 1], [63, 1], [71, 2], [102, 1], [9, 2], [239, 1], [29, 2], [172, 6], [17, 1], [126, 1], [92, 1], [22, 2], [9, 2], [60, 1], [33, 1], [28, 6], [22, 2], [61, 3, 15], [596, 7], [60, 1], [54, 1], [22, 2], [44, 1], [41, 4], [81, 2], [119, 51], [22, 2], [57, 1], [17, 1], [76, 1], [88, 1], [9, 2], [360, 1], [40, 1], [111, 1], [41, 4], [49, 10], [32, 6], [81, 2], [69, 1], [278, 1], [26, 1], [158, 1], [82, 1], [8, 13], [8, 3, 25], [170, 118], [32, 6], [33, 1], [362, 2], [60, 1], [154, 1], [83, 7], [26, 1], [32, 6], [20, 1], [32, 6], [63, 1], [26, 1], [76, 1], [139, 1], [9, 2], [162, 2], [29, 2], [14, 1], [40, 1], [842, 1], [9, 2], [31, 23], [848, 1], [9, 2], [165, 1], [17, 1], [29, 2], [8, 34], [42, 1], [102, 1], [53, 1], [47, 1], [116, 1], [17, 1], [61, 3, 15], [39, 1, 5], [61, 3, 15], [71, 2], [35, 10], [20, 1], [71, 2], [9, 2], [43, 2], [69, 1], [608, 4], [119, 51], [20, 1], [26, 1], [125, 7], [1506, 1], [76, 1], [47, 1], [14, 1], [259, 1], [20, 1], [8, 24], [32, 6], [83, 7], [72, 2], [82, 1], [159, 1], [62, 1], [31, 23], [63, 1], [92, 1], [9, 2], [35, 10], [41, 4], [88, 1], [19, 16], [299, 51], [28, 6], [604, 48], [174, 12], [117, 1], [98, 1], [66, 2], [74, 1], [19, 16], [188, 1], [148, 1], [201, 1], [40, 1], [14, 1], [20, 1], [133, 48], [32, 6], [66, 2], [19, 16], [40, 1], [217, 171, 1, 5], [190, 1], [35, 10], [49, 10], [29, 2], [91, 12], [46, 2, 13], [54, 1], [26, 1], [116, 1], [20, 1], [1507, 12], [28, 6], [41, 4], [127, 12, 1], [321, 1], [198, 1], [20, 1], [8, 3, 25], [95, 2, 6], [41, 4], [26, 1], [41, 4], [39, 1, 5], [28, 6], [106, 1], [83, 7], [57, 1], [243, 2], [47, 1], [26, 1], [72, 2], [43, 2], [29, 2], [20, 1], [46, 2, 13], [164, 70], [8, 24], [126, 1], [17, 1], [8, 34], [71, 2], [234, 1], [156, 107], [200, 1], [33, 1], [60, 1], [33, 1], [22, 2], [296, 1], [99, 1], [217, 171, 1, 5], [218, 1], [57, 1], [60, 1], [65, 2], [40, 1], [850, 1], [158, 1], [28, 6], [185, 1], [173, 1], [9, 2], [163, 1], [238, 1], [857, 51], [361, 24], [110, 1], [8, 3, 25], [359, 1], [93, 1], [14, 1], [47, 1], [147, 4], [361, 24], [31, 23], [60, 1], [28, 6], [9, 2], [44, 1], [158, 1], [162, 2], [365, 1], [234, 1], [20, 1], [93, 1], [46, 2, 13], [185, 1], [154, 1], [17, 1], [14, 1], [219, 120], [33, 1], [101, 1], [19, 16], [127, 12, 1], [77, 1], [31, 23], [145, 1], [49, 10], [80, 1], [217, 171, 1, 5], [131, 48], [19, 16], [323, 1], [69, 1], [122, 1], [55, 1], [32, 6], [102, 1], [39, 1, 5], [19, 16], [8, 10], [9, 2], [44, 1], [60, 1], [323, 1], [57, 1], [17, 1], [19, 16], [91, 12], [71, 2], [72, 2], [116, 1], [111, 1], [14, 1], [163, 1], [32, 6], [60, 1], [63, 1], [8, 10], [29, 2], [599, 1], [47, 1], [54, 1], [20, 1], [164, 70], [35, 10], [75, 4], [40, 1], [8, 24], [19, 16], [101, 1], [158, 1], [32, 6], [1508, 1], [133, 48], [8, 3, 25], [83, 7], [46, 2, 13], [26, 1], [111, 1], [17, 1], [147, 4], [82, 1], [603, 1], [71, 2], [8, 34], [20, 1], [8, 13], [1509, 1], [116, 1], [147, 4], [219, 120], [857, 51], [14, 1], [119, 51], [200, 1], [71, 2], [35, 10], [297, 1], [29, 2], [132, 1], [88, 1], [35, 10], [187, 1], [202, 45], [63, 1], [132, 1], [66, 2], [117, 1], [69, 1], [146, 64, 1], [19, 16], [49, 10], [8, 3, 25], [54, 1], [27, 1], [46, 2, 13], [28, 6], [109, 1], [364, 1], [144, 1], [63, 1], [173, 1], [140, 1, 112], [8, 34], [475, 1], [8, 10], [19, 16], [109, 1], [22, 2], [14, 1], [8, 24], [9, 2], [55, 1], [170, 118], [62, 1], [111, 1], [17, 1], [53, 1], [71, 2], [14, 1], [56, 15], [82, 1], [95, 2, 6], [115, 97], [138, 1], [41, 4], [43, 2], [27, 1], [296, 1], [29, 2], [92, 1], [22, 2], [8, 3, 25], [239, 1], [8, 13], [101, 1], [170, 118], [26, 1], [331, 70], [81, 2], [9, 2], [33, 1], [62, 1], [157, 1, 13], [76, 1], [296, 1], [1510, 1], [22, 2], [8, 3, 25], [20, 1], [123, 1, 11], [99, 1], [8, 3, 25], [26, 1], [8, 34], [9, 2], [29, 2], [219, 120], [26, 1], [26, 1], [20, 1], [33, 1], [28, 6], [54, 1], [17, 1], [63, 1], [139, 1], [26, 1], [200, 1], [174, 12], [111, 1], [109, 1], [61, 3, 15], [277, 15], [138, 1], [95, 2, 6], [201, 1], [294, 1], [275, 12], [80, 1], [14, 1], [331, 70], [92, 1], [110, 1], [154, 1], [57, 1], [9, 2], [294, 1], [116, 1], [127, 12, 1], [27, 1], [49, 10], [140, 1, 112], [102, 1], [19, 16], [609, 1], [75, 4], [91, 12], [83, 7], [54, 1], [14, 1], [31, 23], [57, 1], [9, 2], [35, 10], [22, 2], [277, 15], [35, 10], [126, 1], [22, 2], [480, 103], [75, 4], [172, 6], [82, 1], [235, 1], [32, 6], [29, 2], [238, 1], [106, 1], [117, 1], [17, 1], [49, 10], [361, 24], [76, 1], [323, 1], [41, 4], [69, 1], [162, 2], [69, 1], [28, 6], [125, 7], [65, 2], [99, 1], [274, 1], [20, 1], [43, 2], [239, 1], [88, 1], [9, 2], [106, 1], [115, 97], [22, 2], [155, 1], [322, 13], [54, 1], [22, 2], [53, 1], [14, 1], [54, 1], [33, 1], [46, 2, 13], [276, 56, 5], [216, 1], [327, 1], [76, 1], [55, 1], [40, 1], [39, 1, 5], [39, 1, 5], [1511, 1], [14, 1], [127, 12, 1], [189, 1], [8, 34], [19, 16], [41, 4], [8, 34], [76, 1], [110, 1], [47, 1], [63, 1], [1512, 12], [17, 1], [29, 2], [164, 70], [65, 2], [28, 6], [65, 2], [83, 7], [28, 6], [88, 1], [82, 1], [31, 23], [61, 3, 15], [62, 1], [32, 6], [8, 13], [111, 1], [93, 1], [155, 1], [133, 48], [145, 1], [46, 2, 13], [299, 51], [9, 2], [56, 15], [47, 1], [33, 1], [19, 16], [29, 2], [8, 3, 25], [116, 1], [17, 1], [66, 2], [147, 4], [216, 1], [19, 16], [99, 1], [57, 1], [85, 1], [199, 1], [294, 1], [27, 1], [8, 24], [27, 1], [41, 4], [40, 1], [46, 2, 13], [43, 2], [156, 107], [55, 1], [77, 1], [8, 13], [43, 2], [82, 1], [20, 1], [9, 2], [71, 2], [40, 1], [8, 34], [57, 1], [28, 6], [46, 2, 13], [27, 1], [14, 1], [44, 1], [8, 24], [9, 2], [27, 1], [81, 2], [49, 10], [219, 120], [43, 2], [42, 1], [111, 1], [8, 34], [110, 1], [65, 2], [294, 1], [170, 118], [155, 1], [20, 1], [71, 2], [8, 13], [60, 1], [82, 1], [92, 1], [331, 70], [55, 1], [42, 1], [41, 4], [237, 1, 6], [148, 1], [46, 2, 13], [31, 70], [63, 1], [42, 1], [39, 1, 5], [27, 1], [32, 6], [77, 1], [8, 34], [408, 51], [42, 1], [17, 1], [26, 1], [49, 10], [22, 2], [144, 1], [32, 6], [9, 2], [49, 10], [31, 23], [122, 1], [20, 1], [17, 1], [32, 6], [157, 1, 13], [158, 1], [85, 1], [8, 34], [44, 1], [76, 1], [31, 23], [22, 2], [237, 1, 6], [46, 2, 13], [17, 1], [139, 1], [123, 1, 11], [72, 2], [71, 2], [186, 56, 5], [199, 1], [242, 7], [123, 1, 11], [27, 1], [330, 1], [8, 24], [9, 2], [74, 1], [477, 171, 1, 5], [242, 7], [26, 1], [17, 1], [42, 1], [132, 1], [138, 1], [8, 34], [57, 1], [14, 1], [187, 1], [858, 70], [332, 180, 1, 859, 860], [1513, 89], [1514, 1515, 1], [1516, 2], [244, 861, 411, 862], [1517, 1], [863, 1], [100, 36, 1], [67, 1], [864, 1, 5], [865, 1], [484, 485], [412, 48], [866, 245], [867, 149], [1518, 1519, 610, 1520, 1], [332, 180, 1, 859, 860], [1521, 1522, 221, 25], [262, 486, 1], [1523, 1], [868, 1], [1524, 1], [84, 1525, 5, 1526, 1], [1527, 1], [869, 1528, 160], [281, 2], [1529, 37, 1], [1530, 282, 1531, 870, 611, 1532, 1533, 103], [1534, 246], [1535, 333], [192, 1, 180, 871, 612], [1536, 1537, 1], [1538, 413, 2], [366, 1], [104, 1], [613, 872, 2], [1539, 1], [873, 175, 1], [1540, 181], [874, 1], [414, 1], [1541, 1], [1542, 1], [334, 1], [1543, 1], [30, 21, 1], [1544, 1], [1545, 1546, 263, 38], [1547, 1], [86, 108, 1], [193, 21, 1], [1548, 1], [1549, 141], [875, 1], [1550, 23], [367, 50, 10], [193, 21, 1], [487, 1], [1551, 1], [1552, 1], [30, 21, 1], [30, 21, 1], [1553, 1554, 1555, 335, 2], [876, 1], [488, 1], [222, 223, 1], [368, 489, 2], [182, 142, 1, 877, 247, 108, 1556, 490, 877, 1557, 2], [491, 878, 1], [1558, 492], [614, 1], [264, 1], [1559, 3, 15], [283, 73], [879, 265, 266], [1560, 1, 5], [488, 1], [1561, 2], [880, 1, 5], [1562, 11, 18, 1], [1563, 1], [1564, 1], [881, 1], [1565, 1], [882, 1], [883, 1], [284, 1], [1566, 1567, 615, 1], [884, 4], [1568, 1, 128], [222, 223, 1], [30, 21, 1], [885, 886, 37, 1], [11, 58, 248, 1], [1569, 1], [1570, 887], [616, 1, 5], [617, 1], [1571, 1, 10], [1572, 415], [1573, 129], [1574, 1], [1575, 1], [1576, 1577, 1578, 1579], [1580, 1581, 105], [94, 3], [888, 1], [1582, 1], [1583, 1584, 1], [1585, 1], [1586, 302, 2], [143, 1], [1587, 1], [1588, 52, 1], [30, 21, 1], [58, 3, 15, 1589, 369, 1], [1590, 3, 15], [1591, 1592, 1], [1593, 1], [1594, 1595, 10], [889, 1], [890, 24], [891, 1], [1596, 1597, 78, 1], [892, 194], [1598, 3, 150], [1599, 1600, 1], [1601, 1], [412, 893], [336, 1], [894, 103], [267, 1], [204, 337, 338, 303, 339, 23], [895, 896, 897, 129, 898, 1], [283, 73], [416, 1], [899, 900, 493], [1602, 3, 15], [1603, 1, 128], [67, 1], [417, 1604, 1], [1605, 11, 18, 1], [901, 902, 2], [86, 108, 1], [135, 73], [11, 1606, 1], [30, 21, 1], [903, 1], [904, 1], [618, 248, 905, 1], [86, 285], [1607, 1608, 2], [619, 1], [1609, 620, 1], [1610, 1], [370, 1], [30, 21, 1], [1611, 1], [1612, 1], [863, 1], [1613, 1, 5], [1614, 1, 128], [371, 340], [143, 1], [30, 21, 1], [906, 1], [414, 1], [135, 73], [90, 304], [621, 1], [1615, 1616, 372, 1], [305, 1], [907, 1, 5], [622, 1], [908, 1], [909, 45], [910, 494], [911, 1617, 1, 623], [495, 1], [205, 1], [418, 419, 420, 249], [1618, 1, 118], [195, 12], [1619, 2], [1620, 11, 18, 1], [1621, 1], [1622, 1623, 176], [912, 1], [1624, 191], [496, 1], [1625, 250], [1626, 1627, 183, 175, 1], [1628, 149], [913, 1], [373, 25], [914, 1], [497, 1], [1629, 1, 5], [1630, 1631, 1632], [1633, 1], [915, 3, 24], [498, 1], [421, 1], [1634, 1], [1635, 1, 128], [1636, 11, 18, 1], [1637, 1], [916, 1], [104, 1], [1638, 1639, 1], [1640, 18, 1], [30, 21, 1], [1641, 1], [1642, 1], [917, 918, 64, 220], [1643, 919, 176], [920, 129], [921, 84, 90], [1644, 1], [67, 1], [1645, 1646, 1647, 1648, 1649, 422, 1], [624, 1], [625, 1], [58, 374, 1, 1650, 107], [423, 1], [1651, 1], [56, 417, 922, 923, 15], [306, 1], [192, 1, 124, 375, 1], [1652, 1], [924, 224, 1], [424, 2], [1653, 1654, 1, 5], [1655, 52, 1], [1656, 4], [1657, 268, 103], [1658, 1], [100, 36, 1], [925, 1, 251], [626, 4], [499, 3, 15], [1659, 1660, 1], [1661, 1], [627, 628, 2], [1662, 84, 90], [425, 4], [1663, 1], [926, 1], [1664, 1], [927, 1], [341, 2], [928, 929, 1], [1665, 1], [1666, 183, 166], [1667, 1], [1668, 1], [1669, 1], [930, 931, 1], [629, 1], [376, 1], [1670, 1671, 23, 149, 1672, 1], [1673, 4], [1674, 1675, 161, 113, 2], [1676, 50], [932, 1], [1677, 4], [1678, 1679, 1], [933, 1], [1680, 265, 266], [934, 151], [630, 307], [631, 1], [1681, 1682], [1683, 11, 18, 1], [1684, 166], [1685, 1, 5], [1686, 52, 1], [1687, 935, 936, 183, 23, 632, 7], [1688, 500, 1], [1689, 1, 5], [1690, 1], [264, 1], [501, 2], [937, 1], [1691, 4], [1692, 1], [1693, 1], [633, 1], [634, 1, 118], [870, 1694, 1695, 1696], [1697, 4], [1698, 1699, 52, 1], [1700, 4], [1701, 1702, 1], [1703, 1], [135, 73], [635, 2], [104, 1], [938, 939, 940, 502, 2], [1704, 1], [941, 1705, 1706, 942], [1707, 1], [1708, 1], [1709, 1], [1710, 3, 15], [68, 36, 1], [1711, 84, 90], [636, 1], [1712, 1], [1713, 24], [1714, 1], [943, 1, 5], [1715, 1], [1716, 1717, 1], [1718, 1719, 1], [1720, 377], [1721, 1], [206, 94, 207], [1722, 1723, 415], [30, 21, 1], [503, 11, 18, 1], [636, 1], [944, 504], [1724, 4], [1725, 1726, 1], [1727, 1728, 1], [914, 1], [1729, 1, 426], [505, 1], [945, 4], [488, 1], [1730, 1, 5], [1731, 45], [946, 506, 1], [1732, 1], [947, 1, 623], [1733, 10], [948, 252, 1], [1734, 1], [1735, 24], [637, 638, 1], [488, 1], [1736, 1], [1737, 1], [1738, 1], [949, 1, 5], [1739, 1], [30, 21, 1], [639, 10], [1740, 4], [1741, 1], [104, 1], [368, 489, 2], [341, 2], [1742, 2], [1743, 1], [308, 1], [950, 1], [427, 1, 5], [858, 70], [1744, 1], [951, 24, 220], [1745, 2], [342, 1], [952, 1], [1746, 1, 5], [1747, 1], [949, 1, 5], [1748, 1], [640, 641, 52, 1], [30, 21, 1], [619, 1], [1749, 1], [1750, 953, 507], [1751, 3, 208], [642, 1752, 167], [79, 87, 1, 209, 7], [371, 340], [954, 1], [1753, 508], [428, 73], [1754, 31, 52, 1], [309, 142, 1], [1755, 1], [643, 1], [509, 510, 24], [332, 180, 1, 511, 182, 955, 25, 612], [1756, 129], [644, 1], [645, 646, 1], [512, 4], [647, 1], [191, 1757, 2], [1758, 1], [1759, 1], [956, 1760, 151], [1761, 1], [957, 1], [925, 1, 251], [958, 3, 245], [1762, 1763, 1, 13], [1764, 1765, 1], [513, 1], [1766, 1], [1767, 1], [1768, 1], [429, 1769, 493], [648, 649, 141], [1770, 333], [1771, 1772, 37, 1], [253, 514, 515, 1], [650, 1], [286, 45], [959, 1], [1773, 70], [58, 1774, 651], [652, 516, 343, 653], [654, 90], [196, 11, 18, 1], [1775, 2], [1776, 1], [225, 23, 1777, 6], [1778, 655, 206], [960, 177], [1779, 1], [505, 1], [1780, 1781, 656, 1782, 1], [1783, 1, 287], [1784, 2], [1785, 517, 183, 175, 1], [1786, 1787, 10], [1788, 1], [1789, 1], [1790, 52, 1], [254, 124, 961, 226, 94, 227, 7], [518, 1], [310, 657, 1, 3], [228, 210, 1, 1791, 120], [1792, 1], [658, 1], [211, 212], [1793, 3, 15], [519, 1, 659, 520, 2], [1794, 11, 18, 1], [378, 1], [1795, 1], [962, 2], [211, 212], [1796, 1], [94, 3], [168, 229, 38], [288, 3, 150], [1797, 1], [67, 1], [1798, 1799, 1800, 1], [1801, 1802, 1], [1803, 1], [104, 1], [1804, 7], [521, 224, 1], [1805, 7], [67, 1], [1806, 2], [1807, 1], [963, 3, 15], [1808, 1], [169, 7], [964, 1], [1809, 1], [264, 1], [660, 1], [965, 24], [1810, 1], [1811, 851, 1], [966, 1], [661, 23, 967, 968, 662, 1], [969, 142], [1812, 1813, 3, 15], [30, 21, 1], [970, 1, 5], [1814, 1], [1815, 4], [68, 36, 1], [971, 1, 5], [1816, 37, 1], [972, 1], [430, 3, 15, 973, 25, 1817, 1818, 1819], [67, 1], [1820, 181], [1821, 1], [169, 7], [1822, 1], [1823, 1], [1824, 12], [974, 1], [1825, 3, 15], [379, 1826, 1], [522, 1], [523, 1], [308, 1], [1827, 1, 5], [58, 431, 1], [1828, 1], [524, 1], [1829, 1], [865, 1], [1830, 3, 220], [1831, 213, 120], [525, 1832, 1], [1833, 663, 1], [373, 25], [1834, 2, 5], [975, 1], [344, 1], [526, 4], [1835, 1836, 1], [1837, 1], [976, 977, 1], [1838, 3, 15], [1839, 73], [978, 50], [30, 21, 1], [1840, 1], [432, 1], [104, 1], [1841, 1], [527, 1842, 141], [1843, 1844, 1], [1845, 2], [1846, 253, 528, 1847, 1, 255], [979, 1], [884, 4], [143, 1], [1848, 517, 183, 175, 1], [1849, 1], [311, 87, 1, 152, 7], [980, 142], [312, 1, 5], [433, 1], [981, 226, 94, 227, 7], [1850, 176, 1], [1851, 1852, 3, 24], [1853, 415], [1854, 1], [982, 246], [983, 984, 1], [1855, 78, 1], [1856, 380, 1], [529, 168, 5], [30, 21, 1], [664, 1], [530, 11, 18, 1], [531, 1857, 1858, 1859, 1860, 1861, 1862, 287], [1863, 1864, 1], [532, 1], [1865, 197], [1866, 3, 25], [665, 1867, 1], [176, 1868, 161, 1869], [1870, 1871, 1872, 1, 128], [1873, 1874, 1875], [1876, 181], [1877, 265, 266], [1878, 1], [1879, 1, 5], [30, 21, 1], [1880, 985, 1], [986, 7], [1881, 1882, 11, 25], [1883, 1], [666, 1884, 1885, 1886, 141], [1887, 434, 7], [1888, 1889], [1890, 1], [1891, 1], [1892, 24], [1893, 1894, 24], [435, 1], [987, 37, 1], [1895, 1], [1896, 1], [1897, 1], [30, 21, 1], [917, 918, 64, 220], [533, 262, 1], [30, 21, 1], [509, 510, 24], [1898, 1], [1899, 436, 1], [988, 1900, 1901, 1902], [67, 1], [244, 381, 382, 269], [1903, 1], [1904, 490], [345, 346, 380, 1], [989, 11, 18, 1], [1905, 1], [264, 1], [667, 990, 1906, 1907, 347], [1908, 1909, 2], [1910, 1], [100, 36, 1], [68, 36, 1], [437, 304], [1911, 1], [276, 56, 1912, 668], [1913, 89], [534, 1, 112], [1914, 4], [643, 1], [1915, 1], [423, 1], [669, 1], [1916, 1], [1917, 197], [670, 1, 5], [986, 7, 255], [991, 1], [992, 1], [1918, 1919, 1], [993, 1], [206, 94, 207], [1920, 1, 178], [87, 1, 1921, 89], [994, 1], [995, 1], [527, 1922, 141], [526, 4], [1923, 1], [438, 439, 161, 113, 2], [100, 36, 1], [671, 48], [1924, 1, 5], [1925, 1], [1926, 1], [1927, 383], [996, 1], [100, 36, 1], [1928, 97], [997, 1], [1929, 1], [1930, 1], [1931, 1], [998, 672, 1], [1932, 1], [168, 229, 38], [1933, 999, 535, 176, 113, 1934, 1935, 103], [1936, 1], [637, 638, 1], [1937, 1938, 1], [1939, 1], [286, 45], [1940, 7], [1941, 1], [104, 1], [621, 1], [673, 674, 675, 230], [676, 160, 1942, 160, 1943, 1], [1944, 1000, 3, 15, 1001, 1945, 1946, 1], [231, 1], [1002, 153], [677, 348], [1947, 1], [1948, 151], [1949, 1950, 1], [1951, 1], [313, 1, 1952, 1953, 1954, 3], [1003, 384, 310, 1], [1955, 1], [1956, 1], [1957, 383], [678, 1958, 1], [1959, 2], [244, 1960, 1961, 1962], [1963, 536, 10], [284, 1], [1964, 52, 1], [1004, 1], [1965, 1966, 1], [30, 21, 1], [100, 36, 1], [1967, 1005, 41, 1006, 343, 1007, 1], [1968, 380, 1], [1969, 1], [1970, 4], [1971, 94, 1972, 1], [1008, 3], [204, 1009, 1], [621, 1], [1973, 1974, 1], [639, 10], [869, 1975, 52, 1], [1010, 11, 18, 1], [262, 1, 1976, 1977, 1], [1978, 11, 18, 1], [1979, 1], [1980, 1], [1011, 1], [1981, 37, 1], [1982, 107], [1983, 1984, 4], [1985, 1, 5], [281, 2], [679, 167, 3], [1012, 134], [1986, 1987, 1988, 84], [1989, 1], [30, 21, 1], [1990, 1], [1013, 1], [1991, 1], [59, 634, 1, 118], [30, 21, 1], [104, 1], [231, 1], [1992, 440, 1], [416, 1], [308, 1], [1993, 1994, 1, 134], [1995, 1], [1996, 1], [1997, 52, 1], [1998, 1], [1999, 1], [67, 1], [680, 681, 5], [2000, 333], [617, 1], [537, 1], [2001, 1014, 2], [2002, 2003, 10], [2004, 1, 682, 538, 1], [1015, 1016], [999, 2005, 1017, 1], [1018, 1], [2006, 441, 442, 7], [289, 2007, 290, 1], [1019, 1], [2008, 4], [2009, 2010, 2011, 539, 2], [251, 2012], [540, 2013, 611, 2014], [2015, 1], [2016, 1], [2017, 2018, 129], [443, 444, 1], [2019, 1], [1020, 113], [683, 1], [305, 1], [1021, 1], [385, 1], [231, 1], [30, 21, 1], [541, 1], [2020, 2021, 2022, 2023, 107], [2024, 153], [2025, 45], [179, 21, 1], [542, 24], [543, 1, 5], [2026, 2], [1022, 177], [1023, 1], [2027, 445, 1], [2028, 2029, 23], [270, 2030, 1], [2031, 2], [2032, 37, 1], [179, 21, 1], [2033, 4], [503, 11, 18, 1], [2034, 2035, 684, 685, 2], [222, 223, 1], [446, 2036, 1, 5], [892, 194], [2037, 2038, 1], [677, 348], [2039, 45], [2040, 1], [2041, 2042, 1], [2043, 2], [2044, 1], [1024, 1], [2045, 447, 1], [684, 1017, 2046, 1], [2047, 2048, 1], [222, 223, 1], [2049, 1], [2050, 1], [1025, 1], [104, 1], [2051, 2052, 2], [136, 280, 137, 78, 1], [1026, 1, 5], [970, 1, 5], [686, 134], [2053, 1], [370, 1], [2054, 153], [687, 225, 23, 1027, 2055, 1028, 1029, 105], [432, 1], [58, 3, 15, 2056, 369, 1], [2057, 1], [2058, 500, 1], [526, 4], [2059, 149], [2060, 1], [271, 657, 1], [2061, 1], [168, 229, 38], [30, 21, 1], [544, 4], [2062, 1], [225, 1030, 2063, 3, 15], [386, 268, 103], [2064, 1], [58, 124, 256, 349, 37, 177], [289, 2065, 290, 1], [286, 45], [168, 229, 38], [104, 1], [1031, 441, 442, 7], [424, 2], [545, 73], [2066, 167], [2067, 1], [1032, 50], [1033, 1034, 2], [546, 1, 13], [2068, 24, 220], [2069, 160, 448, 1], [1035, 2070, 1], [350, 351, 4], [232, 1], [2071, 688, 689], [205, 1], [2072, 11, 18, 1], [59, 2073, 10], [2074, 1], [59, 1036, 1], [1037, 11, 18, 1], [228, 210, 1, 120, 1038, 1039, 1040, 1041, 1], [1042, 1], [2075, 1], [1043, 1], [2076, 1044], [135, 73], [2077, 1], [2078, 2079, 197, 2080, 153], [1045, 10], [192, 1, 124, 375, 1], [2081, 37, 1], [2082, 191], [2083, 89], [416, 1], [449, 1], [21, 1], [2084, 1], [2085, 1], [2086, 1], [437, 304], [2087, 1], [1046, 1047, 1048, 1049, 1], [262, 2088], [680, 681, 5], [2089, 4], [2090, 1], [541, 1], [2091, 1], [30, 21, 1], [2092, 191], [2093, 89], [387, 1050, 1], [2094, 2095], [59, 2096, 2097, 141], [228, 210, 1, 1051, 1], [2098, 2099, 38], [2100, 1, 13], [2101, 244, 2102, 1052], [30, 21, 1], [544, 4], [2103, 1], [1053, 1054, 5], [2104, 2105, 1], [67, 1], [30, 21, 1], [2106, 7], [124, 58, 1, 2107, 2108, 441, 442, 7], [1055, 6], [2109, 52, 1], [2110, 7], [1056, 690, 4], [2111, 547, 84, 90], [25, 84, 445, 1], [2112, 1057, 348], [2113, 990, 691, 1], [2114, 2115, 191], [548, 121], [2116, 549], [1058, 2117, 3, 15], [1059, 129], [289, 692, 290, 105], [254, 124, 961, 226, 94, 227, 7], [2118, 1], [288, 3, 150], [270, 345, 1060, 167], [2119, 2], [1061, 3, 15], [2120, 1], [2121, 1], [2122, 2123, 1], [1062, 1063, 1], [67, 1], [2124, 1], [2125, 52, 1], [244, 381, 382, 269], [450, 451, 38], [693, 25], [2126, 1], [1064, 1], [100, 36, 1], [2127, 1], [2128, 1], [882, 1], [2129, 23, 2130, 1], [38, 694, 1], [2131, 245], [2132, 1], [2133, 3, 24], [59, 2134, 1], [2135, 695, 37, 1], [2136, 1], [1065, 1], [696, 3, 15], [2137, 89], [2138, 310, 2139, 129], [521, 224, 1], [2140, 1], [2141, 4], [100, 36, 1], [1066, 1067, 194], [214, 1], [314, 1], [2142, 2143, 2144, 7], [1068, 134], [2145, 121, 2146, 1], [305, 1], [2147, 697, 1], [2148, 2149, 651], [2150, 1], [2151, 1], [2152, 1, 5], [498, 1], [2153, 11, 18, 1, 255], [2154, 1], [982, 246], [2155, 1], [947, 1, 623], [2156, 2157, 2158, 2159, 347], [2160, 142, 2161, 2162, 3, 15], [2163, 430, 1], [1069, 1], [698, 699, 213], [1070, 208], [1071, 1], [2164, 11, 18, 1], [2165, 160, 1], [499, 3, 15], [2166, 1], [2167, 1], [427, 1, 5], [196, 11, 18, 1], [452, 453, 23], [2168, 2169, 2170, 352, 105], [1072, 1], [135, 2171, 7], [618, 248, 905, 1], [899, 900, 493], [2172, 1], [2173, 121], [264, 1], [2174, 700, 2175], [124, 2176, 1], [257, 38], [2177, 194], [104, 1], [168, 229, 38], [2178, 1], [2179, 1], [204, 337, 338, 303, 339, 23], [308, 1], [1053, 1054, 5], [2180, 1], [1073, 167], [388, 224, 1], [701, 1], [143, 1], [2181, 2182, 50], [214, 1], [2183, 1], [2184, 2185], [272, 247], [215, 1], [2186, 2187, 1], [168, 229, 38], [2188, 52, 1], [270, 2189, 1], [389, 253, 390, 353], [2190, 550], [551, 1], [2191, 1], [2192, 21, 1074, 2193, 1], [2194, 702], [2195, 1], [267, 1], [703, 704, 705, 7], [2196, 302, 2], [2197, 161, 113, 2], [706, 1], [2198, 1], [915, 3, 24], [2199, 51], [2200, 1], [100, 36, 1], [707, 1], [1075, 2201, 2202, 352, 105], [2203, 37, 1], [2204, 1], [938, 939, 940, 502, 2], [90, 2205, 708, 2206, 2207, 1076, 52, 1], [879, 265, 266], [195, 12], [2208, 1], [2209, 103], [2210, 1], [709, 1], [2211, 34], [710, 50, 10], [2212, 129], [79, 374, 50, 2213, 315], [2214, 1], [68, 36, 1], [711, 70], [2215, 118], [30, 21, 1], [454, 4], [2216, 2217, 2218, 2], [59, 2219, 141], [204, 428, 2220, 1, 2221], [551, 1], [2222, 24], [169, 7], [1077, 18, 1], [1078, 1], [2223, 3, 150], [1079, 1], [2224, 11, 18, 1], [2225, 11, 18, 1], [1080, 25], [2226, 2227, 1], [2228, 78, 1], [2229, 1], [2230, 1], [67, 1], [316, 1, 7], [306, 1], [2231, 89], [2232, 1, 712], [2233, 1], [2234, 2235, 346, 2236, 11, 25], [1081, 1], [2237, 486, 52, 1], [2238, 1], [312, 1, 5], [1082, 713, 1, 5], [2239, 1083, 691, 1084, 1], [270, 1085, 1], [552, 90], [2240, 1], [2241, 1], [714, 1], [715, 1], [414, 1], [449, 1], [2242, 1], [2243, 2244, 2245, 1], [2246, 1], [30, 21, 1], [2247, 440, 1], [2248, 11, 18, 1], [2249, 70], [2250, 50], [2251, 1], [79, 2252, 1], [1086, 1087, 1], [2253, 1], [308, 1], [196, 11, 18, 1], [30, 21, 1], [2254, 16], [2255, 1], [2256, 1], [2257, 1, 5], [1088, 1], [2258, 1], [2259, 1], [345, 716, 2260, 89], [58, 3, 15, 2261, 369, 1], [717, 718, 23], [2262, 1], [2263, 1], [429, 1089, 2264, 1], [2265, 160, 448, 1], [2266, 1], [2267, 197], [2268, 167], [2269, 2270, 1], [354, 1], [2271, 2272, 31, 719, 720, 2], [2273, 2274, 1], [370, 1], [2275, 1], [1090, 1, 5], [452, 453, 23], [2276, 1091, 1], [2277, 1], [721, 1], [722, 1], [553, 2], [1092, 1093, 3, 15], [1094, 723, 724, 335, 2], [168, 229, 38], [2278, 1095, 246], [270, 345, 1060, 167], [2279, 149], [2280, 7], [554, 1], [2281, 194], [725, 1], [2282, 1], [355, 1], [2283, 207], [726, 727], [728, 729, 1], [1096, 730], [59, 1097, 1, 128], [79, 2284, 1], [2285, 555, 2286, 2287, 2288, 2, 178, 2289], [2290, 25], [1098, 2291, 556, 1099], [2292, 2293, 7], [425, 4], [2294, 702], [557, 1100, 3, 15], [354, 1], [2295, 1], [625, 1], [2296, 1], [368, 489, 2], [1101, 1], [2297, 2298, 52, 1], [312, 1, 5], [1102, 11, 18, 1], [86, 108, 1], [373, 2299, 97], [2300, 1], [664, 1], [391, 392, 10], [67, 1], [2301, 263, 38], [548, 121], [2302, 2303, 161, 558], [1103, 1], [2304, 37, 1], [731, 1], [1104, 377], [880, 1, 5], [2305, 2306, 1], [2307, 356, 1], [2308, 1105, 1], [945, 4], [952, 1], [2309, 1], [919, 2310, 455, 1], [2311, 194], [559, 221, 24], [2312, 1, 5], [273, 1], [1106, 11, 18, 1], [2313, 1], [687, 225, 23, 1027, 2314, 1028, 1029, 105], [67, 1], [1107, 1], [2315, 1], [370, 1], [135, 73], [2316, 7], [135, 73], [2317, 1], [1108, 1], [1109, 1, 5], [1110, 1111, 38], [2318, 1], [2319, 1], [2320, 2], [314, 1], [2321, 141], [2322, 11, 18, 1], [1112, 1], [1109, 1, 5], [2323, 436, 1], [2324, 2325, 105], [2326, 11, 18, 1], [393, 233, 394, 5], [732, 1], [1113, 557], [1114, 1], [2327, 1], [2328, 436, 1], [2329, 7], [193, 21, 1], [21, 1], [2330, 2331, 230], [1115, 10], [2332, 1], [2333, 1], [1116, 11, 18, 1], [1117, 2334, 2], [1118, 3, 24], [2335, 1], [2336, 2337, 456, 1], [2338, 1], [2339, 2340, 383], [2341, 1], [733, 1, 120], [1119, 1], [679, 7, 3], [457, 458, 105], [2342, 50], [2343, 734, 2344, 1], [1120, 1], [264, 1], [2345, 1], [2346, 307], [2347, 38], [391, 392, 10], [2348, 1], [2349, 1, 128], [438, 439, 161, 113, 2], [560, 59, 459, 1, 561, 130], [2350, 1], [2351, 1], [2352, 1], [2353, 1, 251], [387, 735, 151], [1121, 31, 1122, 50, 1], [669, 1], [2354, 149], [2355, 1], [1123, 1], [100, 36, 1], [2356, 1], [909, 45], [1102, 11, 18, 1], [31, 2, 136, 78, 1], [2357, 1, 5], [334, 1, 334, 1124, 1125, 1], [630, 307], [137, 291, 136, 78, 1], [2358, 21, 1], [2359, 1], [2360, 4], [2361, 1, 5], [2362, 2363, 105], [1059, 129], [1126, 531, 181], [2364, 1], [2365, 1], [2366, 2367, 1], [1127, 1128, 3], [2368, 1], [652, 516, 343, 653], [58, 1, 79, 562, 736, 1], [2369, 2], [2370, 265, 266], [2371, 1], [1129, 1], [2372, 68, 36, 1], [232, 1], [346, 270, 1130, 2373, 2374, 2375, 1], [2376, 1], [1131, 1], [267, 1], [2377, 737, 2], [2378, 1], [373, 2379, 1], [385, 1], [2380, 1], [100, 36, 1], [738, 739, 1], [2381, 315], [2382, 4], [269, 563, 740, 343], [79, 87, 1, 741, 7], [2383, 1, 5], [135, 73], [2384, 380, 1], [2385, 1], [68, 36, 1], [2386, 2387, 7], [505, 1], [182, 1132, 1, 2388, 182, 2389, 2390, 2391, 160], [2392, 11, 25], [244, 381, 382, 269], [2393, 1, 5], [1133, 1], [2394, 176, 564], [195, 12], [525, 2395, 1], [2396, 1, 5], [2397, 16], [2398, 2399, 1134], [2400, 52, 1], [636, 1], [313, 2401, 84, 340, 37, 1], [1135, 1], [2402, 1], [59, 2403, 141], [2404, 3, 208], [192, 1, 2405, 1], [525, 460, 1], [2406, 1], [228, 210, 1, 2407, 1], [1097, 1, 128], [2408, 149], [317, 384, 565, 566, 395, 1], [1112, 1], [706, 1], [2409, 302, 2], [732, 1], [1136, 2410, 3], [2411, 11, 18, 1], [143, 1], [567, 1], [2412, 2413], [393, 233, 394, 5], [58, 124, 256, 349, 37, 177], [1137, 130], [271, 48, 16], [2414, 2415, 1, 13], [954, 1], [2416, 11, 18, 1], [418, 419, 420, 249], [1138, 1], [742, 1], [283, 73], [2417, 1], [1139, 1], [2418, 2419, 134], [2420, 177], [2421, 45], [743, 1], [568, 23], [2422, 1140, 2423, 244], [21, 1, 152], [2424, 45], [744, 2425, 1], [94, 3], [388, 224, 1], [355, 1], [305, 1], [205, 1], [640, 641, 52, 1], [1032, 50], [2426, 3, 24], [2427, 166], [2428, 52, 1], [179, 21, 1], [745, 1], [726, 727], [746, 249], [2429, 89], [2430, 23], [180, 25, 2431, 478, 2432, 2433, 4, 128], [569, 1], [273, 1], [2434, 1], [671, 48], [747, 25, 1141, 2], [2435, 549], [748, 1], [749, 45], [195, 12], [1126, 4], [2436, 1142, 1143, 2437, 1], [2438, 1], [2439, 24], [1144, 137, 78, 1], [281, 2], [137, 136, 280, 78, 1], [214, 1], [1056, 690, 4], [1145, 461], [2440, 1146], [1147, 1148, 2441, 2442, 347], [545, 73], [67, 1], [169, 7], [2443, 2444, 1], [660, 1], [1149, 1, 251], [391, 392, 10], [59, 2445, 141], [2446, 1], [30, 21, 1], [462, 1], [2447, 2448, 1], [2449, 167], [2450, 1], [2451, 2452, 34], [1150, 1], [750, 1], [2453, 52, 1], [2454, 1151, 1], [1152, 45], [2455, 1], [463, 464, 1], [350, 351, 4], [1153, 1], [388, 224, 1], [2456, 1], [2457, 1], [971, 1, 5], [1154, 1], [2458, 3, 24], [992, 1], [660, 1], [2459, 1], [344, 1], [313, 1, 2460, 1], [332, 180, 1, 511, 182, 955, 25, 612], [2461, 2462, 2463, 352, 105], [94, 3], [2464, 1], [2465, 2466, 2467, 2468], [2469, 1, 5], [1155, 23], [2470, 2471, 2472, 2473, 1], [143, 1], [2474, 1, 178], [143, 1], [2475, 1], [58, 431, 1], [1156, 34], [180, 1, 25, 180, 3], [1157, 1, 5], [568, 23], [282, 751, 752, 753, 570, 282, 335, 2], [312, 1, 5], [68, 113, 21, 1], [2476, 11, 18, 1], [2477, 1], [2478, 1], [2479, 2], [169, 7], [193, 21, 1], [2480, 3], [79, 50, 3, 15], [2481, 1], [2482, 1, 5], [1158, 38], [1159, 1159, 935, 936, 183, 23, 632, 7], [143, 1], [1160, 754, 610, 1161, 1], [2483, 130], [2484, 1], [58, 2485, 2486, 2487, 248, 2488, 2489, 1], [134, 2490, 1], [2491, 1162, 1], [1163, 197], [755, 21, 1], [2492, 2493, 2494, 221, 25], [722, 1], [756, 1, 5], [2495, 263, 38], [2496, 6], [2497, 34], [2498, 757, 208], [2499, 1], [2500, 197], [1164, 1], [1154, 1], [541, 1], [2501, 1], [523, 1], [926, 1], [2502, 2503, 465, 1165], [2504, 303, 1], [2505, 1], [30, 21, 1], [1061, 3, 15], [318, 3, 258], [2506, 1], [890, 24], [1166, 226, 94, 227, 7], [344, 1], [2507, 1], [86, 285], [497, 1], [920, 129], [995, 1], [2508, 2509, 2], [2510, 356, 1], [1167, 1], [512, 4], [2511, 1], [2512, 207], [2513, 1], [2514, 1], [2515, 1], [79, 87, 1, 741, 7], [58, 2516, 2517, 2], [228, 2518, 89], [2519, 2520, 52, 1], [2521, 141], [2522, 4], [2523, 11, 18, 1], [214, 1], [1168, 52, 1], [135, 73], [2524, 11, 18, 1], [2525, 2526, 84], [104, 1], [2527, 1], [2528, 702], [2529, 2530, 90], [983, 984, 1], [509, 510, 24], [715, 1], [1169, 1170, 1171, 1], [658, 1], [211, 212], [79, 87, 1, 209, 7], [635, 2], [371, 340], [59, 2531, 429, 1], [696, 3, 15], [2532, 1], [758, 1], [196, 11, 18, 1], [2533, 45], [2534, 1], [1108, 1], [2535, 1], [972, 1], [137, 291, 136, 78, 1], [354, 1], [1172, 3, 15], [903, 1], [2536, 302, 2], [2537, 1], [438, 439, 161, 113, 2], [904, 1], [192, 1, 744, 2538, 1], [2539, 20, 50], [2540, 11, 18, 1], [1173, 1], [2541, 1], [2542, 2543, 7], [79, 87, 1, 2544, 89], [2545, 2546, 121, 985, 343, 2547, 1], [2548, 1], [522, 1], [2549, 1146, 13], [466, 4, 1], [2550, 1], [2551, 84, 90], [68, 36, 1], [283, 73], [499, 3, 15], [1174, 11, 18, 1], [2552, 1], [513, 1], [2553, 562, 161, 113, 2], [637, 638, 1], [669, 1], [2554, 2555, 1], [2556, 11, 18, 1], [1175, 1176, 1], [673, 674, 675, 230], [396, 397, 398, 1], [2557, 1], [2558, 1], [2559, 1], [2560, 1162, 1], [2561, 1], [759, 34], [2562, 191], [760, 1], [1177, 1], [2563, 1], [2564, 2565, 4], [2566, 1], [386, 268, 103], [2567, 1, 5], [2568, 1], [2569, 37, 1], [2570, 175, 1], [450, 451, 38], [2571, 3, 150], [2572, 11, 2573, 1], [1178, 2574, 130], [2575, 1], [496, 1], [30, 21, 1], [1031, 441, 442, 7], [2576, 37, 1], [2577, 1, 128], [169, 7], [2578, 1], [30, 21, 1], [2579, 1], [2580, 536, 10], [284, 1], [143, 1], [2581, 250], [728, 729, 1], [2582, 11, 18, 1], [2583, 1179, 1180, 45], [385, 1], [2584, 34], [2585, 16], [260, 1], [2586, 3, 24], [1025, 1], [2587, 1], [1181, 1182, 183, 175, 1], [67, 1], [2588, 2], [288, 3, 150], [2589, 34], [1183, 221], [2590, 399, 252], [2591, 4], [2592, 2593, 492], [543, 1, 5], [1184, 129], [2594, 11, 18, 1], [292, 3, 12, 2595, 1], [2596, 1], [2597, 1], [2598, 2599, 2600, 2601], [195, 12], [2602, 1], [135, 73], [761, 38], [1135, 1], [143, 1], [1185, 1], [648, 649, 141], [1186, 2603, 181], [193, 21, 1], [23, 1187, 50], [2604, 1], [283, 73], [1096, 730], [571, 1], [168, 229, 38], [1174, 11, 18, 1], [2605, 2606, 3], [496, 1], [873, 175, 1], [2607, 1], [11, 2608, 113], [312, 1, 5], [334, 1, 334, 1124, 1125, 1], [2609, 356, 1], [67, 1], [2610, 2611, 1], [30, 21, 1], [572, 58, 1], [762, 1], [763, 1, 5], [511, 764, 2612, 1188, 1], [765, 3, 150], [414, 1], [2613, 1], [86, 108, 1], [2614, 1], [2615, 11, 18, 1], [766, 1], [1189, 1190, 1], [1191, 149], [910, 494], [525, 460, 1], [68, 36, 1], [2616, 1, 5], [169, 7], [2617, 2618, 1], [2619, 1], [2620, 1], [573, 1], [508, 2621, 21, 767, 23], [768, 769, 1], [2622, 1], [2623, 10], [2624, 38], [1192, 1], [2625, 3, 574], [137, 136, 280, 78, 1], [214, 1], [2626, 11, 18, 1], [86, 108, 1], [770, 4], [2627, 771, 7], [2628, 2629, 2630, 1193], [222, 223, 1], [86, 108, 1], [2631, 1], [232, 1], [2632, 4], [1194, 24], [342, 1], [2633, 2634, 1195, 1], [68, 36, 1], [2635, 2636, 2], [389, 253, 390, 353], [2637, 1], [1196, 2638, 1], [257, 38], [575, 1197, 1, 1198, 1], [354, 1], [2639, 1], [2640, 1], [271, 400, 152], [569, 1], [2641, 151], [2642, 1], [206, 94, 207], [2643, 11, 18, 1], [424, 2], [717, 718, 23], [2644, 1], [1103, 1], [2645, 1], [193, 21, 1], [391, 392, 10], [2646, 755, 2647, 1], [772, 2648, 1199, 1], [1200, 737, 2], [1201, 1202, 1, 5], [68, 36, 1], [182, 317, 4], [2649, 1], [2650, 73], [310, 2651, 2652, 1, 251], [1158, 38], [2653, 1, 128], [418, 419, 420, 249], [215, 1], [2654, 1], [341, 2], [2655, 141], [2656, 4], [2657, 213, 6], [762, 1], [1119, 1], [1203, 52, 1], [524, 1], [206, 94, 207], [2658, 1, 5], [2659, 1], [498, 1], [711, 70], [2660, 2661], [1204, 12, 166], [355, 1], [2662, 206], [2663, 89], [68, 36, 1], [773, 1], [1205, 1], [2664, 23], [282, 1206, 1], [2665, 2666, 121], [1207, 3, 15], [314, 1], [2667, 1, 5], [1208, 1], [1209, 1], [2668, 1, 128], [524, 1], [169, 7], [211, 212], [866, 245], [84, 654, 445, 1], [2669, 1], [2670, 84, 90], [1210, 1], [289, 1211, 290, 4], [467, 254, 2671, 45, 130], [505, 1], [1212, 2672, 1], [30, 21, 1], [2673, 1], [1213, 1], [1214, 1], [318, 3, 258], [332, 180, 1, 84, 149], [90, 304], [2674, 413, 2, 774], [1215, 1], [1216, 1], [2675, 78, 1], [1194, 24], [2676, 377], [2677, 45], [2678, 1], [273, 1], [1217, 1218, 23], [222, 223, 1], [745, 1], [228, 210, 1, 2679, 2680], [2681, 107], [2682, 1], [2683, 166], [924, 224, 1], [2684, 1], [2685, 250], [2686, 1], [284, 1], [169, 7], [2687, 2688, 744, 536, 4], [2689, 11, 18, 1], [650, 1], [2690, 1], [2691, 1], [912, 1], [769, 768, 45, 1219, 2692, 2693, 50], [2694, 24], [2695, 1, 5, 2696, 771, 7], [30, 21, 1], [2697, 1], [2698, 121], [2699, 1], [2700, 197], [2701, 1, 5], [709, 1], [696, 3, 15], [2702, 2703, 2704, 7], [1220, 1], [1221, 1222, 4], [2705, 440, 1], [68, 36, 1], [1223, 1], [68, 36, 1], [969, 142], [2706, 1], [1224, 368, 500, 1], [2707, 447, 1], [2708, 1, 128], [67, 1], [314, 1], [2709, 461], [2710, 1], [2711, 1], [79, 2712, 2713, 1], [2714, 250], [68, 113, 21, 1], [2715, 695, 37, 1], [1189, 1190, 1], [288, 3, 150], [1225, 1], [467, 254, 2716, 45, 130], [59, 2717, 2], [1226, 1], [2718, 246], [2719, 2720, 3, 15], [2721, 1], [1227, 1], [225, 3, 15, 2722, 2723], [2724, 1], [571, 1], [537, 1], [2725, 2726, 2727, 48, 1], [491, 654, 2728, 576, 161, 113, 2], [2729, 1], [30, 21, 1], [1169, 1170, 1171, 1], [519, 1, 659, 520, 2], [2730, 1], [67, 1], [2731, 1], [2732, 1, 727], [775, 577, 10], [578, 37, 1], [1115, 10], [2733, 2734, 160], [396, 397, 398, 1], [30, 21, 1], [386, 268, 103], [86, 108, 1], [2735, 2736, 2], [2737, 2738, 2], [58, 2739, 23], [293, 4], [2740, 24], [273, 1], [2741, 1], [2742, 1], [2743, 1], [2744, 2745, 2746, 64, 25], [2747, 37, 1], [889, 1], [2748, 1, 5], [435, 1], [179, 21, 1], [2749, 1], [772, 2750, 134], [2751, 1, 5], [1228, 1], [2752, 1], [1229, 134], [534, 1, 112], [2753, 268, 103], [743, 1], [401, 402, 56, 178], [2754, 1, 1035], [1230, 250], [2755, 1], [180, 1, 2756, 379, 134], [2757, 2758, 776], [777, 24], [2759, 2760, 2761, 352, 105], [2762, 3], [2763, 1], [176, 764, 1231, 1232, 1], [711, 70], [1233, 380, 1], [1168, 52, 1], [2764, 2765, 1], [193, 21, 1], [1234, 564], [543, 1, 5], [2766, 37, 1], [647, 1], [778, 1], [2767, 89], [2768, 456, 1], [2769, 1], [293, 4], [2770, 3, 15], [2771, 129], [958, 3, 245], [2772, 84, 90], [976, 977, 1], [2773, 1], [1235, 130], [1236, 1], [2774, 1014, 1, 152], [2775, 1, 1237], [2776, 4, 15], [309, 142, 1], [336, 1], [2777, 1], [1188, 2778, 2779, 1238, 1], [231, 1], [192, 1, 124, 375, 1], [467, 254, 2780, 45, 130], [1239, 430, 1], [775, 577, 10], [2781, 2782, 149], [2783, 2784, 167], [67, 1], [192, 1, 2785, 871, 25, 1], [100, 36, 1], [211, 212], [1055, 6], [68, 36, 1], [2786, 230], [1240, 531, 3], [2787, 1], [209, 1241, 1242, 221, 25], [1243, 73], [2788, 1], [2789, 1], [731, 1], [267, 1], [2790, 1], [779, 1], [1144, 137, 78, 1], [270, 345, 1244, 1], [58, 124, 256, 349, 37, 1], [31, 2791, 538, 23], [182, 1132, 1, 255], [79, 87, 1, 209, 7], [780, 11, 18, 1], [433, 1], [2792, 460, 1], [2793, 1, 178], [2794, 1], [2795, 16], [2796, 167], [2797, 153], [551, 1], [760, 1], [2798, 1], [2799, 1], [2800, 1], [761, 38], [781, 2801, 130], [2802, 2803, 52, 1], [627, 628, 2], [2804, 2805, 3, 15], [2806, 2807, 2808], [1245, 1246, 1247, 1248, 1, 287], [2809, 2810, 1, 134], [11, 2811, 1], [2812, 1, 726, 1], [725, 1], [2813, 1], [2814, 11, 18, 1], [509, 510, 24], [391, 392, 10], [782, 1], [2815, 1], [68, 36, 1], [579, 597, 2816, 783], [2817, 1, 152], [281, 2], [2818, 230], [272, 247], [2819, 4], [542, 24], [2820, 1], [2821, 161, 113, 2], [2822, 3, 15], [86, 285], [2823, 64, 2824], [2825, 49, 580, 581, 2], [1153, 1], [355, 1], [257, 38], [891, 1], [1172, 3, 15], [1058, 248, 784, 2826, 785, 37, 1], [449, 1], [2827, 2828, 1], [1249, 1], [143, 1], [775, 577, 10], [2829, 197], [462, 1], [2830, 1], [2831, 2832, 90], [2833, 1], [316, 1, 7], [951, 24, 220], [2834, 1], [548, 121], [2835, 1], [1250, 226, 94, 227, 7], [462, 1], [665, 1251, 2], [2836, 89], [79, 87, 1, 2837, 245, 786], [2838, 1], [2839, 1], [2840, 103], [2841, 1], [2842, 1252, 1], [1024, 1], [1253, 250], [2843, 2, 1], [2844, 377, 13], [2845, 1, 5], [499, 3, 15], [1081, 1], [104, 1], [1254, 4, 118], [2846, 89], [1255, 105], [2847, 455, 1], [256, 767, 550, 2848, 52, 1], [79, 403, 1, 182, 582, 24, 575, 64, 1256, 1, 6], [766, 1], [1137, 130], [1160, 754, 610, 1161, 1], [313, 182, 2849, 3], [559, 221, 24], [495, 1], [2850, 1], [667, 460, 1], [1257, 1], [2851, 1], [2852, 583, 1], [30, 21, 1], [779, 1], [1258, 1], [994, 1], [1139, 1], [2853, 517, 183, 175, 1], [512, 4], [1259, 1], [59, 1260, 2], [656, 2854, 1], [553, 2], [2855, 153], [2856, 11, 18, 1], [354, 1], [68, 36, 1], [979, 1], [195, 12], [2857, 2858], [86, 108, 1], [2859, 2860, 161, 113, 2], [2861, 1, 5], [2862, 181], [2863, 2864, 120, 176], [86, 108, 1], [387, 735, 151], [2865, 2866, 1], [518, 1], [693, 25], [2867, 2868, 2], [104, 1], [2869, 194], [2870, 1], [2871, 11, 18, 1], [286, 45], [2872, 1, 5], [2873, 1], [79, 87, 1, 2874, 89], [342, 1], [2875, 6], [2876, 11, 18, 1], [1261, 1262, 1], [2877, 34], [787, 788], [404, 1], [1065, 1], [79, 87, 1, 209, 7], [2878, 4], [2879, 2880, 2], [405, 1], [393, 233, 394, 5], [1263, 2881, 2882, 774, 1], [678, 2883, 1], [1264, 1], [1129, 1], [389, 253, 390, 353], [1265, 2884, 45], [2885, 58, 2886, 37, 1], [531, 2887, 2888, 2889, 1], [789, 1, 5], [1185, 1], [2890, 1], [312, 1, 5], [205, 1], [1106, 11, 18, 1], [318, 3, 258], [100, 36, 1], [777, 24], [673, 674, 675, 230], [257, 38], [59, 2891, 141], [67, 1], [701, 1], [2892, 1], [1204, 12, 166], [94, 3], [2893, 37, 1], [2894, 2895, 1], [622, 1], [2896, 1], [2897, 2898], [2899, 107], [1015, 1016], [906, 1], [468, 153], [429, 1099, 2900, 1238, 1], [30, 21, 1], [2901, 447, 1], [100, 36, 1], [100, 36, 1], [2902, 37, 1], [2903, 1], [790, 791, 177], [59, 2904, 38], [2905, 7, 1066, 1067, 194], [388, 224, 1], [2906, 24], [2907, 48], [1266, 2908, 1], [989, 11, 18, 1], [232, 2909, 1], [782, 1], [1267, 792, 793], [1268, 250], [67, 1], [68, 36, 1], [2910, 197], [1269, 108, 413, 2], [497, 1], [435, 1], [30, 21, 1], [336, 1], [68, 36, 1], [2911, 1], [1270, 1], [1271, 1, 11], [414, 1], [1272, 1273, 1], [104, 1], [2912, 129], [1207, 3, 15], [136, 280, 137, 78, 1], [2913, 2914, 1044], [346, 2915, 1244, 1], [2916, 1], [794, 1274, 1275, 783, 1276], [2917, 2918, 1], [943, 1, 5], [1277, 2], [1278, 1], [2919, 1], [683, 1], [2920, 564], [2921, 1], [30, 21, 1], [647, 1], [2922, 1], [2923, 663, 1], [468, 153], [67, 1], [2924, 7], [1279, 1], [2925, 3, 25], [59, 2926, 2], [1156, 34], [1280, 1], [2927, 24], [1281, 2928, 2], [1205, 1], [1269, 2929, 1], [135, 73], [2930, 105], [30, 21, 1], [1282, 45], [2931, 2], [2932, 1], [169, 7], [58, 3, 15, 2933, 369, 1], [253, 514, 515, 1], [2934, 1], [2935, 690, 4], [2936, 1], [2937, 1], [273, 1], [2938, 149], [2939, 1], [389, 253, 390, 353], [2940, 1], [2941, 1283, 4], [31, 2942, 429, 52, 1], [1284, 502], [2943, 2944, 64, 25], [94, 3], [425, 4], [2945, 539, 2], [215, 1], [2946, 24], [30, 21, 1], [272, 247], [942, 563, 2947, 2948], [293, 4], [2949, 1285, 2950, 2951, 2952, 2953, 1], [2954, 2955, 1], [733, 1, 120], [1166, 226, 94, 227, 7], [387, 735, 151], [2956, 399, 252], [2957, 124, 508, 356, 1], [2958, 1], [695, 774, 445, 1], [469, 1], [391, 392, 10], [956, 2959, 151], [2960, 1], [1271, 1, 11], [292, 23, 584, 248, 795, 796, 2961, 315], [1286, 78, 1], [2962, 130], [2963, 1], [2964, 1], [670, 1, 5], [371, 340], [1287, 797, 1288, 1289], [2965, 37, 1], [68, 36, 1], [244, 861, 411, 862], [228, 210, 1, 1051, 1], [1163, 197], [2966, 1], [86, 108, 1], [366, 1], [779, 1], [1253, 2967], [1280, 1], [196, 11, 18, 1], [59, 367, 50, 10], [2968, 2969, 2970, 1], [773, 1], [168, 229, 38], [1208, 1], [2971, 307], [2972, 1, 5], [2973, 1], [2974, 2975, 90], [2976, 1290, 719, 720, 2], [2977, 1], [21, 1], [798, 50], [585, 1], [195, 12], [2978, 1], [2979, 4], [2980, 11, 18, 1], [1210, 1], [2981, 1], [746, 249], [998, 672, 1], [2982, 1281], [2983, 11, 18, 1, 255], [342, 1], [450, 451, 38], [79, 87, 1, 799, 7], [136, 280, 137, 78, 1], [2984, 1], [1201, 1202, 1, 5], [1291, 1], [2985, 2986, 1, 5], [289, 1292, 290, 1], [2987, 4], [192, 1, 1293, 181], [2988, 2], [30, 21, 1], [257, 38], [1294, 1295, 1], [79, 87, 245, 576, 89], [289, 1292, 290, 1], [2989, 455, 1], [2990, 3], [2991, 1], [470, 59, 800, 801, 50], [2992, 1], [997, 1], [318, 3, 258], [271, 400, 152], [2993, 1], [100, 36, 1], [2994, 11, 18, 1], [400, 2995, 1], [1296, 246], [452, 453, 23], [2996, 1], [2997, 6], [1191, 149], [693, 25], [749, 45], [341, 2], [214, 1], [344, 1], [1297, 1298, 64, 220], [2998, 1], [2999, 1, 10], [67, 1], [3000, 1], [1299, 1], [3001, 105], [3002, 1], [313, 1, 3003, 1, 1300], [3004, 1], [104, 1], [1301, 1], [371, 340], [3005, 1], [3006, 3007, 2], [3008, 1], [1236, 1], [267, 1], [3009, 56, 5, 302, 2], [3010, 1], [3011, 1], [11, 1302, 1303, 1], [3012, 3013, 687, 3014, 3015, 3016, 1], [1304, 1], [67, 1], [1305, 129], [3017, 3018, 3019, 25], [3020, 1], [3021, 1], [449, 1], [135, 73], [401, 402, 56, 178], [58, 3, 15, 3022, 369, 1], [3023, 1179, 1180, 45], [3024, 2], [354, 1], [3025, 1, 5], [3026, 1], [3027, 1], [1306, 1], [1307, 1], [179, 21, 1], [3028, 1], [3029, 1], [3030, 1, 5], [3031, 3032, 1], [211, 212], [367, 50, 10], [3033, 1], [405, 1], [1183, 221], [1305, 129], [1308, 1], [228, 210, 1, 3034, 3035, 1], [3036, 1], [1309, 24], [3037, 1], [3038, 3, 25], [3039, 1], [3040, 3041, 3, 15], [586, 38], [666, 1091], [350, 351, 4], [3042, 1], [3043, 37, 1], [1310, 149], [1004, 1], [3044, 1], [3045, 2], [58, 1311, 166], [262, 1, 3046, 1], [1312, 113, 1313, 1314, 51], [3047, 2], [3048, 1], [802, 803, 1], [68, 36, 1], [228, 210, 1, 3049, 1], [1315, 3050, 3051, 103], [104, 1], [179, 21, 1], [804, 11, 18, 1], [569, 1], [1316, 1], [3052, 3, 24], [3053, 7], [680, 681, 5], [457, 458, 105], [3054, 1], [3055, 107, 3056, 1], [376, 1], [745, 1], [135, 73], [104, 1], [3057, 422, 1], [1317, 1], [30, 21, 1], [332, 180, 1, 209, 3058, 1], [3059, 1318], [466, 4, 1], [3060, 197], [805, 2], [3061, 51], [3062, 3063, 3064, 1, 3065, 153], [1319, 806, 1], [3066, 3067, 1], [30, 21, 1], [934, 151], [67, 1], [3068, 1083, 691, 1084, 1], [3069, 347, 38], [3070, 177], [1074, 3071, 1], [1250, 226, 94, 227, 7], [181, 3072, 1], [463, 464, 1], [624, 1], [438, 439, 161, 113, 2], [195, 12], [1225, 1], [3073, 3074, 1], [3075, 3076, 2], [3077, 1], [3078, 52, 1], [79, 87, 1, 209, 7], [1075, 3079, 3080, 352, 105], [3081, 84, 90], [273, 1], [3082, 1], [3083, 11, 18, 1], [195, 12], [670, 1, 5], [3084, 1, 448, 1], [3085, 246], [471, 1], [30, 21, 1], [30, 21, 1], [974, 1], [3086, 1], [3087, 1], [3088, 1], [656, 3089, 1320, 1], [3090, 1187], [205, 1], [396, 397, 398, 1], [3091, 1321, 1], [3092, 1], [30, 21, 1], [38, 3093, 2], [901, 902, 38], [215, 1], [179, 21, 1], [471, 1], [311, 87, 1, 807, 7], [3094, 3095, 1], [808, 225, 23, 3096, 25], [3097, 250], [1322, 6], [3098, 3099, 1], [1230, 250], [3100, 252, 1], [3101, 1], [1323, 213, 426], [3102, 1], [3103, 1], [3104, 3105, 1], [809, 78, 1], [3106, 1], [3107, 1, 5], [552, 90], [59, 3108, 1], [3109, 1], [3110, 3111, 3112, 38, 255], [137, 291, 136, 78, 1], [3113, 3114, 3115, 3, 24], [3116, 3117, 3118, 1], [1324, 3, 258], [1325, 1, 5], [3119, 3120, 1], [264, 1], [272, 247], [3121, 456, 1], [3122, 1], [205, 1], [350, 351, 4], [810, 271, 3123, 10], [288, 3, 150], [1326, 1327, 1], [3124, 1283, 4], [811, 11, 18, 1], [1026, 1, 5], [778, 1], [244, 381, 382, 269], [1046, 1047, 1048, 1049, 1], [3125, 1], [619, 1], [215, 1], [1328, 1], [3126, 1, 152, 3127, 1329, 1], [3128, 3129, 1, 5], [3130, 1], [490, 3131, 1], [3132, 1, 5], [3133, 265, 266], [3134, 1], [3135, 1, 287], [3136, 70], [3137, 1, 5], [196, 11, 18, 1], [3138, 1], [58, 3139, 3140, 730], [1330, 1331, 1], [3141, 1], [3142, 431, 45], [3143, 1], [3144, 45], [661, 23, 967, 968, 662, 1], [3145, 1], [3146, 1], [3147, 1], [1175, 1176, 1], [3148, 1], [495, 1], [483, 1], [67, 1], [435, 1], [385, 1], [58, 3, 15, 3149, 3150, 3151, 181], [3152, 1], [3153, 37, 1], [3154, 1], [555, 812, 465, 556], [30, 21, 1], [3155, 3156, 813, 1076, 3157, 3158, 183, 23, 632, 7], [169, 7], [248, 3159, 456, 1], [814, 1, 5], [231, 1], [768, 769, 1], [454, 4], [1332, 1, 316, 1, 7], [308, 1], [3160, 1], [3161, 1], [3162, 2], [68, 36, 1], [624, 1], [3163, 3164, 3165, 415], [1333, 59, 7, 255], [3166, 1329, 3167, 1], [3168, 130], [67, 1], [805, 2], [318, 3, 258], [3169, 51], [3170, 3171, 4], [192, 1, 1293, 181], [3172, 1, 178], [3173, 1], [518, 1], [179, 21, 1], [3174, 697, 1], [3175, 1], [393, 233, 394, 5], [3176, 1], [815, 3, 12, 3177, 472], [281, 2], [567, 1], [613, 872, 2], [313, 1, 3178, 3, 15], [1334, 2], [3179, 3180, 1], [215, 1], [3181, 3182, 4], [3183, 1], [3184, 1], [1335, 374, 3185, 587, 124, 292, 1], [193, 21, 1], [3186, 1], [3187, 517, 183, 175, 1], [1336, 1], [471, 1], [545, 73], [3188, 1], [3189, 3, 15], [3190, 1], [3191, 3192, 7], [3193, 3194, 23], [463, 464, 1], [1264, 1], [3195, 1, 5], [211, 212], [1239, 430, 1], [3196, 1, 128], [626, 4], [344, 1], [3197, 11, 18, 1], [3198, 3199, 1], [588, 1], [3200, 1], [388, 224, 1], [1284, 502], [3201, 1], [3202, 1], [3203, 3204, 45], [3205, 230], [750, 1], [3206, 51], [1181, 1182, 183, 175, 1], [1337, 472], [3207, 89], [3208, 2], [3209, 1], [513, 1], [270, 1085, 1], [1338, 1], [3210, 37, 1], [3211, 1], [787, 788], [815, 3, 12, 3212, 3213, 89], [1299, 1], [3214, 3215, 1], [3216, 23], [84, 3217, 1], [79, 87, 1, 209, 7], [3218, 1, 6], [3219, 37, 1], [257, 38], [432, 1], [271, 400, 152], [3220, 11, 18, 1], [1086, 1087, 1], [3221, 1], [913, 1], [816, 1, 5], [1339, 1], [501, 2], [3222, 1], [3223, 1], [616, 1, 5], [311, 87, 1, 400, 16], [3224, 1], [1052, 3225, 941, 1165], [1340, 37, 1], [3226, 4], [811, 11, 18, 1], [67, 1], [3227, 1, 3228, 2], [416, 1], [759, 34], [763, 1, 5], [389, 253, 390, 353], [1341, 38], [20, 1], [179, 21, 1], [253, 514, 515, 1], [3229, 3230, 3231, 3232, 3233, 422, 1], [306, 1], [3234, 3, 574], [30, 21, 1], [3235, 1], [104, 1], [470, 59, 800, 801, 50], [3236, 1], [662, 1147, 1148, 1], [3237, 3238, 7], [3239, 10], [79, 87, 245, 87, 776], [3240, 3241, 1], [3242, 1], [519, 1, 3243, 520, 2], [215, 1], [1342, 1343, 1], [3244, 3245, 1], [3246, 23], [1344, 307], [3247, 1], [433, 1], [1341, 38], [49, 10, 1263, 151], [3248, 507], [3249, 1], [1123, 1], [3250, 1], [3251, 3252, 7], [3253, 713, 1, 5], [86, 285], [135, 73], [523, 1], [1345, 1], [30, 21, 1], [3254, 539, 2], [3255, 302, 2], [3256, 3257], [640, 641, 52, 1], [3258, 356, 1], [3259, 1], [3260, 118], [45, 311, 11, 263, 233], [1346, 4], [1127, 1128, 3], [1167, 1], [3261, 4], [30, 21, 1], [231, 1], [288, 3, 150], [3262, 153], [3263, 37, 177], [79, 87, 1, 549, 89], [418, 419, 420, 249], [3264, 1], [1322, 6], [3265, 51], [3266, 1], [421, 1], [1347, 3, 15], [1033, 1034, 2], [366, 1], [572, 58, 1], [3267, 84, 90], [160, 3268, 38], [403, 182, 583, 1], [68, 36, 1], [503, 11, 18, 1], [1325, 1, 5], [3269, 1], [3270, 37, 1], [3271, 3, 25], [683, 1], [3272, 3273, 207], [67, 1], [782, 1], [435, 1], [232, 1], [169, 7], [244, 381, 382, 269], [284, 1], [471, 1], [586, 38], [1348, 249], [946, 506, 1], [30, 21, 1], [3274, 472], [3275, 447, 1], [3276, 2], [3277, 3278, 1], [3279, 16], [317, 1349, 1], [3280, 589, 3281, 3282, 3283, 175, 1], [3284, 1], [469, 1], [817, 3285, 3, 15], [3286, 3, 24], [341, 2], [527, 3287, 434, 7], [3288, 52, 1], [1268, 250], [467, 254, 3289, 45, 130], [104, 1], [3290, 1], [267, 1], [1212, 3291, 1], [932, 1], [762, 1], [272, 247], [86, 108, 1], [79, 87, 245, 1350, 89], [1351, 45], [1301, 1], [314, 1], [3292, 1], [3293, 3, 24], [810, 1045, 10], [3294, 1], [1347, 3, 15], [211, 212], [1352, 254, 124, 142, 11, 25], [3295, 1], [1353, 1354, 1355, 287], [631, 1], [168, 229, 38], [3296, 1], [3297, 265, 266], [3298, 723, 724, 335, 2], [3299, 23], [491, 3300, 1], [3301, 620, 1], [3302, 1], [3303, 10], [222, 223, 1], [3304, 1], [3305, 167], [3306, 1], [204, 1009, 1], [86, 108, 1], [3307, 4], [818, 226, 94, 227, 7], [590, 191, 591, 473, 152], [3308, 3309, 248, 3310, 1], [666, 3311, 12], [3312, 3, 15], [1155, 23], [3313, 1], [412, 893], [3314, 333], [819, 579, 820, 821], [1356, 583, 1], [3315, 160, 448, 1], [421, 1], [3316, 175, 1], [1021, 1], [3317, 1], [3318, 1], [3319, 1], [273, 1], [257, 38], [3320, 7], [430, 1357, 3321, 1], [30, 21, 1], [371, 340], [59, 3322, 1, 128], [530, 11, 18, 1], [3323, 2], [3324, 1358, 1], [3325, 1], [412, 48], [3326, 7], [3327, 3328, 1], [3329, 1358, 1], [3330, 3331, 3332, 3333, 1], [3334, 4], [3335, 1], [1359, 1360, 7], [68, 36, 1], [3336, 1], [3337, 197], [370, 1], [3338, 191], [373, 25], [215, 1], [766, 1], [3339, 152], [3340, 377], [3341, 182, 332, 180, 1, 1361, 3342, 1], [511, 584, 1000, 23, 353, 3343, 817, 1030, 3344, 3345, 3346, 1], [1118, 3, 24], [1362, 1, 5], [3347, 1], [497, 1], [3348, 265, 266], [1363, 1], [3349, 3350, 263, 38], [3351, 11, 18, 1], [3352, 1], [588, 1], [714, 1], [3353, 1], [907, 1, 5], [1082, 713, 1, 5], [272, 247], [3354, 3, 15], [1107, 1], [3355, 1], [1364, 1], [86, 108, 1], [1077, 18, 1], [3356, 38], [3357, 1], [526, 4], [100, 36, 1], [3358, 37, 1], [3359, 3360, 1], [3361, 52, 1], [3362, 10], [3363, 11, 18, 1], [3364, 672, 1], [312, 1, 5], [418, 419, 420, 249], [286, 45], [964, 1], [881, 1], [3365, 1], [3366, 1], [3367, 11, 18, 1], [3368, 3369, 3, 24], [424, 2], [644, 1], [3370, 3371, 372, 1], [3372, 11, 18, 1], [3373, 4], [309, 142, 1], [1365, 1, 120], [192, 3374, 11, 25], [3375, 3376, 1366, 3377, 3378, 3379, 1], [548, 121], [3380, 1], [86, 108, 1], [3381, 1], [396, 397, 398, 1], [524, 1], [789, 1, 5], [1367, 3, 15], [3382, 49, 580, 581, 2], [3383, 3, 15], [3384, 23, 3385, 3386, 3387, 52, 1], [1215, 1], [546, 1, 13], [818, 226, 94, 227, 7], [3388, 3389, 757, 258], [3390, 107], [818, 226, 94, 227, 7], [59, 708, 3391, 3392, 11, 25], [1368, 1], [1291, 1], [3393, 3, 24], [58, 124, 256, 349, 37, 1], [3394, 1, 1], [3395, 1], [104, 1], [1369, 3, 15], [3396, 37, 1], [3397, 1], [3398, 177], [3399, 1], [749, 45], [569, 1], [980, 142], [3400, 3401, 3402, 1], [559, 221, 24], [3403, 1], [937, 1], [3404, 3405, 3406, 1095, 1], [3407, 37, 1], [3408, 1370, 700, 668], [3409, 3, 24], [3410, 592], [1110, 1111, 38], [3411, 1371, 1], [84, 615, 1], [3412, 1], [1259, 1], [1152, 45], [137, 1372, 5], [404, 1], [104, 1], [1223, 1], [3413, 1], [1373, 24], [366, 1], [3414, 107], [3415, 1237], [3416, 3417, 372, 1], [67, 1], [1374, 1], [3418, 1], [3419, 3420, 1], [3421, 52, 1], [3422, 11, 18, 1], [573, 1], [3423, 176, 1], [3424, 1], [376, 1], [3425, 1], [86, 108, 1], [3426, 84, 90], [264, 1], [389, 253, 390, 353], [3427, 1], [30, 21, 1], [466, 4, 1], [1375, 1], [3428, 1], [457, 458, 105], [3429, 1], [555, 812, 465, 556], [3430, 78, 1], [1376, 176, 38], [3431, 3432, 1], [676, 160, 3433, 448, 1], [3434, 399, 252], [100, 36, 1], [3435, 1], [1133, 1], [3436, 1], [3437, 346, 506, 1], [68, 36, 1], [313, 3438, 129], [3439, 3440, 1], [1037, 11, 18, 1], [3441, 1], [3442, 2], [282, 1206, 1], [3443, 535, 3444, 3], [3445, 1], [474, 3446, 379, 576, 576, 3447, 3448, 1, 1377, 52, 1], [3449, 1], [3450, 1], [100, 36, 1], [3451, 1], [639, 10], [169, 7], [306, 1], [3452, 3453, 1], [1378, 11, 18, 1], [3454, 3, 574], [3455, 38], [3456, 52, 1], [1164, 1], [3457, 166], [3458, 4], [443, 444, 1], [1368, 1], [228, 210, 1, 3459, 1], [462, 1], [317, 384, 565, 566, 395, 1], [405, 1], [1379, 1], [228, 210, 1, 3460, 1], [256, 254, 822, 11, 25], [3461, 3462, 1], [231, 1], [3463, 24], [3464, 1], [179, 21, 1], [3465, 1], [100, 36, 1], [3466, 3, 15], [3467, 1], [468, 153], [404, 1], [3468, 589, 3469, 3470, 183, 175, 1], [135, 73], [3471, 1], [521, 224, 1], [3472, 1], [3473, 1], [366, 1], [3474, 3475, 1], [3476, 1], [205, 1], [3477, 1], [293, 4], [1380, 1381, 1, 5], [1382, 1], [495, 1], [3478, 3, 220], [921, 84, 90], [3479, 1], [733, 1, 120], [3480, 3481, 12], [1078, 1], [1173, 1], [67, 1], [957, 1], [747, 25, 1141, 2], [143, 1], [3482, 3483, 3484, 1], [3485, 11, 18, 1, 255], [3486, 1], [3487, 1], [3488, 3489, 103], [530, 11, 18, 1], [425, 4], [3490, 11, 263, 233], [454, 4], [3491, 1], [780, 11, 18, 1], [3492, 1], [443, 444, 1], [3493, 7], [316, 1, 7], [701, 1], [3494, 1], [68, 36, 1], [100, 36, 1], [911, 3495, 757, 25], [3496, 3497, 1], [1070, 208], [3498, 1, 5], [3499, 1], [928, 929, 1], [756, 1, 5], [3500, 1], [423, 1], [823, 1], [59, 3501, 1], [211, 212], [3502, 504], [232, 1, 620, 1], [3503, 207], [1380, 1381, 1, 5], [3504, 16], [3505, 1], [625, 1], [3506, 1], [824, 1], [306, 1], [225, 3, 15, 1], [571, 1], [260, 1], [1383, 3507, 1], [3508, 655, 206], [3509, 1], [3510, 121], [3511, 1], [1351, 45], [3512, 678, 3513, 1], [1203, 52, 1], [256, 254, 822, 11, 25], [3514, 250], [1384, 37, 1], [528, 3515, 3516, 89], [204, 337, 338, 303, 339, 23], [59, 367, 50, 10], [3517, 1, 5], [484, 485], [3518, 1], [3519, 1], [3520, 1], [1089, 3521, 3522, 1], [3523, 3524, 1], [1209, 1], [214, 1], [3525, 1], [271, 657, 1], [3526, 24], [432, 1], [552, 90], [3527, 3528, 1], [1385, 2], [759, 34], [1386, 1], [3529, 1], [137, 291, 136, 78, 1], [79, 87, 245, 310, 89], [3530, 3531, 1], [588, 1], [211, 212], [1150, 1], [3532, 333], [137, 291, 136, 78, 1], [3533, 107], [1387, 1], [30, 21, 1], [3534, 52, 1], [3535, 1], [790, 791, 177], [1200, 737, 2], [617, 1], [469, 1], [3536, 3537, 149], [3538, 1], [3539, 1], [3540, 1], [3541, 3542, 1], [3543, 1388, 1389, 2], [3544, 3545, 23], [316, 1, 7], [629, 1], [1390, 1391], [3546, 1], [3547, 24], [311, 87, 1, 1392, 105], [3548, 1], [532, 1], [541, 1], [3549, 383], [3550, 2], [67, 1], [3551, 1393, 493], [417, 922, 923, 15], [3552, 1361, 1], [30, 21, 1], [68, 36, 1], [3553, 1], [1394, 166], [529, 168, 5], [725, 1], [3554, 478], [1279, 1], [404, 1], [417, 56, 3555, 15, 4], [1350, 3556], [3557, 1], [1094, 723, 724, 335, 2], [3558, 3559, 415], [94, 3560, 1], [316, 1, 7], [180, 1, 5, 349, 786], [3561, 1, 712], [470, 59, 1395, 413, 50], [1193, 570, 1396, 1396], [1240, 3562, 825, 1], [3563, 1], [316, 1, 7], [3564, 3565, 1], [1326, 1327, 1], [412, 48], [179, 21, 1], [3566, 1], [3567, 1], [826, 1], [376, 1], [3568, 51], [45, 311, 11, 263, 233], [635, 2], [950, 1], [3569, 52, 1], [293, 4], [981, 226, 94, 227, 7], [317, 1349, 1], [3570, 11, 263, 233], [794, 1274, 1275, 783, 1276], [68, 36, 1], [3571, 1], [3572, 3573, 4], [104, 1], [3574, 1], [3575, 1], [205, 1], [3576, 84, 90], [38, 694, 1], [3577, 1], [3578, 434, 7], [3579, 1], [3580, 1], [3581, 1, 251], [3582, 3583, 372, 1], [3584, 6], [3585, 3586, 1], [1317, 1], [3587, 3588, 2], [1397, 4], [314, 1], [1398, 1399, 3, 208], [336, 1], [350, 351, 4], [179, 21, 1], [3589, 1], [3590, 1], [3591, 1, 5], [3592, 1], [1270, 1], [613, 59, 1], [3593, 1], [1400, 168, 34], [3594, 1], [3595, 3596, 121], [1234, 564], [68, 36, 1], [3597, 1], [3598, 1, 246], [396, 397, 398, 1], [3599, 37, 1], [379, 379, 3600, 3601, 3602, 3603, 3604, 3605, 3606, 3607, 3608, 3609, 1], [308, 1], [1304, 1], [135, 73], [3610, 307], [225, 1, 1001, 3611, 3612, 3613, 3614, 3615, 3616, 166], [462, 1], [3617, 37, 1], [3618, 3, 15], [272, 247], [1353, 1354, 1355, 287], [288, 3, 150], [58, 3, 15, 3619, 369, 1], [518, 1], [714, 1], [1401, 1], [3620, 52, 1], [3621, 7], [3622, 1], [770, 4], [437, 304], [58, 1, 79, 562, 736, 1], [1402, 1], [309, 142, 1], [3623, 128, 1178, 3624, 113, 3625], [802, 803, 1], [765, 3, 150], [3626, 153], [3627, 1], [293, 4], [3628, 11], [3629, 161, 113, 2], [469, 1], [3630, 23], [3631, 10], [3632, 3633, 2], [3634, 399, 252], [3635, 1], [289, 1211, 290, 2], [3636, 50], [1403, 411, 1404, 785], [3637, 84, 3638, 347], [944, 504], [318, 3, 258], [3639, 3640, 160], [3641, 1], [3642, 1], [3643, 1], [827, 1, 5], [193, 21, 1], [1365, 1, 120], [3644, 1], [3645, 1], [273, 1], [686, 134], [222, 223, 1], [3646, 11, 18, 1], [3647, 3], [828, 3648, 1], [3649, 1], [86, 108, 1], [3650, 1], [3651, 1], [3652, 1, 426], [3653, 1], [215, 1], [3654, 1], [137, 1372, 5], [534, 1, 112], [3655, 1], [1400, 168, 34], [284, 1], [551, 1], [3656, 1], [58, 431, 1], [3657, 3658, 1], [341, 2], [305, 1], [1116, 11, 18, 1], [417, 3659, 1], [257, 38], [289, 692, 290, 105], [554, 1], [3660, 3, 25], [819, 579, 820, 821], [1405, 1], [3661, 84, 3662, 3663, 1406, 1], [1294, 1295, 1], [3664, 399, 252], [1011, 1], [3665, 23], [3666, 1], [3667, 3668, 813, 1195], [269, 563, 740, 343], [3669, 1], [573, 1], [1407, 1408, 1], [97, 348], [3670, 3671], [79, 87, 1, 209, 7], [1023, 1], [3672, 953, 507], [1272, 1273, 1], [205, 1], [1409, 1410], [79, 87, 1, 807, 7], [143, 1], [1157, 1, 5], [401, 402, 56, 178], [193, 21, 1], [3673, 1], [3674, 3675, 213, 120], [3676, 45], [1072, 1], [3677, 1, 5], [3678, 3, 1411], [933, 1], [1412, 1], [1224, 368, 500, 1], [1413, 1], [2, 3679, 38], [100, 36, 1], [3680, 1], [169, 7], [3681, 1], [521, 224, 1], [3682, 3, 3683], [1414, 1], [728, 729, 1], [698, 699, 213], [168, 229, 38], [3684, 105], [387, 1050, 1], [137, 291, 136, 78, 1], [3685, 24], [3686, 3687, 1], [215, 1], [3688, 1, 5], [3689, 18, 1], [3690, 167], [3691, 11, 18, 1], [267, 1], [1402, 1], [469, 1], [618, 3692, 3693, 1], [342, 1], [1415, 1416, 1], [3694, 1], [214, 1], [31, 2, 136, 78, 1], [1069, 1], [3695, 1], [3696, 3697, 31, 84], [532, 1], [3698, 4], [334, 1], [3699, 1], [3700, 1, 5], [195, 12], [829, 830, 1], [3701, 3702, 160, 3703, 1], [3704, 4], [196, 11, 18, 1], [3705, 592], [1149, 1, 251], [770, 4], [3706, 1417], [829, 830, 1], [3707, 10], [1386, 1], [271, 3708, 16], [427, 1, 5], [3709, 1], [3710, 593, 504], [3711, 78, 1], [3712, 1], [204, 337, 338, 303, 339, 23], [3713, 3714, 3715, 181], [58, 181, 1418, 831, 103], [67, 1], [86, 108, 1], [1310, 149], [30, 21, 1], [1344, 307], [3716, 1], [183, 3717, 3718, 1], [267, 1], [3719, 3], [3720, 2], [355, 1], [293, 4], [3721, 1], [3722, 589, 3723, 3724, 183, 175, 1], [1419, 1, 832], [196, 11, 18, 1], [1420, 1, 3], [3725, 3726, 1], [3727, 3, 208], [222, 223, 1], [3728, 315], [58, 1311, 166], [215, 1], [3729, 3730], [3731, 11, 18, 1], [3732, 208], [195, 12], [3733, 1], [3734, 37, 1], [3735, 697, 1], [3736, 3737, 1], [3738, 3739, 445, 1], [3740, 49, 580, 581, 2], [1136, 3741, 16], [267, 1], [3742, 2], [180, 1, 124, 256, 142], [3743, 213, 5], [58, 3744, 3745, 225, 831, 103], [130, 3746, 4], [215, 1], [1043, 1], [3747, 37, 1], [3748, 160], [707, 1], [3749, 129], [546, 1, 13], [3750, 3751, 2], [1340, 37, 1], [3752, 268, 103], [1120, 1], [1421, 1], [3753, 1, 682, 538, 1], [1422, 1, 5], [3754, 31, 52, 1], [355, 1], [3755, 1], [573, 1], [143, 1], [3756, 1], [86, 108, 1], [3757, 784, 3758, 3], [1423, 1423], [501, 2], [1217, 1218, 23], [3759, 3, 1411], [3760, 1], [3761, 1], [3762, 38], [231, 1], [3763, 1], [100, 36, 1], [676, 160, 3764, 45], [3765, 45], [3766, 1], [3767, 3, 24], [3768, 3], [1296, 246], [3769, 3, 150], [3770, 3, 15], [1258, 1], [3771, 1315, 3772, 1], [1424, 1], [1364, 1], [214, 1], [1425, 11, 18, 1], [1413, 1], [614, 1], [3773, 34], [916, 1], [341, 2], [3774, 1], [522, 1], [703, 704, 705, 7], [3775, 1], [3776, 51], [309, 142, 1], [3777, 1], [79, 87, 1, 209, 7], [778, 1], [30, 21, 1], [206, 94, 207], [3778, 51], [686, 134], [205, 1], [3779, 4], [3780, 176, 1], [3781, 1, 128], [1426, 1], [1254, 4, 118], [3782, 2], [833, 4], [3783, 24], [1308, 1], [1427, 455, 1], [1403, 411, 1404, 785], [3784, 1], [3785, 3786, 1], [1282, 45], [3787, 1], [281, 2], [273, 1], [876, 1], [703, 704, 705, 7], [3788, 3789, 97, 379, 3790, 1], [3791, 1], [1428, 1429, 1430, 3, 15], [3792, 1], [585, 1], [206, 94, 207], [160, 3793, 50], [446, 3794, 1], [568, 23], [159, 3795, 3796, 1], [38, 694, 1], [3797, 56, 251], [3798, 11, 18, 1], [1431, 1], [823, 1], [1319, 806, 1], [231, 1], [267, 1], [3799, 1], [1414, 1], [3800, 383], [3801, 1], [3802, 37, 1], [3803, 10], [679, 3804, 166], [143, 1], [3805, 1, 5], [3806, 1], [1363, 1], [1278, 1], [864, 1, 5], [284, 1], [204, 3807, 3808, 1], [470, 59, 1395, 413, 50], [59, 3809, 141], [206, 94, 207], [454, 4], [84, 3810, 1], [3811, 1], [3812, 4, 24], [257, 38], [827, 1, 5], [3813, 1], [3814, 51], [3815, 1], [3816, 11, 18, 1], [58, 1, 79, 562, 736, 1], [3817, 828, 1], [567, 1], [3818, 1], [3819, 688, 689], [3820, 16], [748, 1], [1432, 1], [1235, 130], [560, 59, 459, 1, 561, 130], [3821, 3822, 7], [1433, 825, 1], [1434, 1435, 1], [1286, 78, 1], [3823, 149], [3824, 1], [3825, 1], [543, 1, 5], [1330, 1331, 1], [3826, 1], [403, 1436, 395, 1], [1437, 808, 1], [3827, 3828, 161, 113, 2], [270, 1130, 708, 3829, 151], [396, 397, 398, 1], [3830, 1], [468, 153], [1385, 2], [1002, 153], [231, 1], [3831, 1], [3832, 3833, 1], [802, 803, 1], [292, 3, 12, 3834, 2], [1376, 176, 38], [1438, 1], [30, 21, 1], [3835, 1], [286, 45], [136, 280, 137, 78, 1], [124, 582, 24, 1], [883, 1], [1003, 384, 310, 1], [231, 1], [3836, 166], [1117, 528, 1439, 246, 121], [3837, 2], [3838, 1], [214, 1], [432, 1], [30, 21, 1], [555, 812, 465, 556], [3839, 130], [143, 1], [3840, 129], [142, 834, 161, 558], [3841, 3842, 3843, 1], [993, 1], [378, 1], [336, 1], [1336, 1], [3844, 3845, 4, 128], [3846, 2], [3847, 38, 3848, 315], [67, 1], [3849, 1], [271, 48, 16], [684, 347, 1057, 348], [3850, 3851, 3852, 352, 105], [30, 21, 1], [67, 1], [734, 3853, 3854, 459], [206, 94, 207], [542, 24], [3855, 213, 6], [755, 21, 1], [706, 1], [1419, 1, 832], [1062, 1063, 1], [3856, 1], [1440, 1], [3857, 3, 574], [59, 385, 1], [3858, 1], [86, 108, 1], [738, 739, 1], [3859, 313, 3860, 1], [3861, 1], [3862, 3863, 3864, 1], [1316, 1], [1441, 1], [3865, 1], [3866, 3867, 577], [443, 444, 1], [1333, 59, 7], [3868, 3869, 1], [3870, 4], [30, 21, 1], [3871, 1], [3872, 3873, 1285, 3874, 1], [1012, 134], [721, 1], [3875, 1005, 41, 1006, 813, 1007, 1], [966, 1], [3876, 3877, 3878, 352, 105], [3879, 1417], [3880, 10], [3881, 1], [534, 1, 112], [3882, 3883, 166], [211, 212], [3884, 3885, 3886, 1], [3887, 1], [3888, 663, 1], [3889, 3890, 4], [30, 21, 1], [3891, 18, 1], [553, 2], [1370, 700, 668], [193, 21, 1], [3892, 1], [1405, 1], [3893, 34], [3894, 4], [3895, 37, 1], [58, 431, 1], [3896, 440, 1], [1375, 1], [350, 351, 4], [1121, 31, 1122, 50, 1], [50, 461, 1], [3897, 832], [3898, 1], [305, 1], [180, 1, 549, 7], [3899, 1], [833, 4], [204, 337, 338, 303, 339, 23], [3900, 37, 1], [143, 1], [3901, 1], [3902, 3, 15], [3903, 1134], [104, 1], [3904, 37, 1], [21, 1], [721, 1], [100, 36, 1], [292, 3, 12, 3905, 194], [3906, 11, 18, 1], [195, 12], [3907, 3908, 52, 1], [3909, 1], [309, 142, 1], [387, 3910, 1], [3911, 1], [3912, 51], [30, 21, 1], [3913, 1], [3914, 3915, 34], [3916, 1], [3917, 3918, 1], [3919, 24], [590, 191, 591, 473, 152], [3920, 3921, 10], [3922, 1], [86, 285], [3923, 3924, 3925, 38, 1], [3926, 1], [229, 3927, 7], [716, 3928, 3929, 52, 1], [3930, 1142, 1143, 3931, 1], [143, 1], [3932, 685, 2], [346, 1366, 3933, 4], [3934, 3935, 1], [763, 1, 5], [30, 21, 1], [3936, 1, 682, 538, 1], [648, 649, 141], [3937, 1], [68, 36, 1], [3938, 1442], [3939, 1], [3940, 37, 1], [94, 3], [3941, 11, 18, 1], [3942, 1], [833, 4], [1307, 1], [529, 168, 5], [1352, 3943, 1], [336, 1], [975, 1], [3944, 1], [3945, 64, 3946], [3947, 3948, 2], [403, 3949], [3950, 50], [3951, 1], [3952, 1], [292, 23, 3953, 1], [3954, 3955, 478, 492, 1], [288, 3, 150], [3956, 4], [1412, 1], [3957, 1], [3958, 2], [355, 1], [3959, 153], [214, 1], [205, 1], [3960, 3961, 436, 1], [3962, 3963, 3964], [3965, 3966, 7], [232, 16], [540, 1443, 1444, 1445], [3967, 655, 206], [3968, 194], [3969, 1], [1018, 1], [370, 1], [3970, 11, 18, 1], [284, 1], [3971, 1], [790, 791, 177], [3972, 142], [3973, 1], [3974, 1], [3975, 411, 3976, 740], [3977, 3978, 1], [3979, 24], [68, 36, 1], [760, 1], [3980, 3981, 1140, 540], [3982, 3983, 52, 1], [710, 50, 10], [3984, 52, 1], [86, 108, 1], [3985, 4, 128], [312, 1, 5], [1446, 1], [3986, 1], [962, 2], [3987, 492, 1], [519, 1, 659, 520, 2], [826, 1], [269, 3988, 3989, 428], [1249, 1], [67, 1], [449, 1], [3990, 1, 7], [3991, 50], [758, 1], [31, 3992, 3993, 24], [3994, 1], [3995, 3996, 3997, 1], [196, 11, 18, 1], [3998, 1], [3999, 1], [1447, 1], [758, 1], [4000, 3, 208], [4001, 4002, 7], [4003, 38], [1101, 1], [58, 124, 256, 349, 37, 1], [4004, 1], [743, 1], [474, 4005, 1], [446, 4006, 141], [959, 1], [4007, 4008, 210, 1], [1267, 792, 793], [643, 1], [4009, 1], [978, 50], [1422, 1, 5], [814, 1, 5], [4010, 11, 18, 1], [67, 1], [4011, 1], [4012, 1], [4013, 4], [421, 1], [196, 11, 18, 1], [4014, 1], [100, 36, 1], [1448, 1], [4015, 1], [4016, 1371, 1], [4017, 1], [554, 1], [142, 834, 161, 558], [4018, 4019, 1], [4020, 24, 13], [4021, 794, 4022, 4023], [772, 4024, 1199, 1], [4025, 11, 18, 1], [835, 4026, 151], [169, 7], [1439, 4027, 50], [272, 247], [4028, 1], [4029, 1, 5], [4030, 4], [4031, 550, 79, 142], [211, 212], [100, 36, 1], [21, 1449, 230], [4032, 4033, 4034, 1], [4035, 1450, 1], [1228, 1], [283, 73], [405, 1], [135, 73], [4036, 4037, 3, 24], [4038, 10], [4039, 37, 1], [1104, 377], [4040, 4, 13], [4041, 4042, 4043, 1], [554, 1], [4044, 1], [4045, 1, 5], [777, 24], [1373, 24], [135, 73], [4046, 151], [401, 402, 56, 178], [196, 11, 18, 1], [108, 536, 151], [231, 1], [4047, 37, 1], [4048, 4049, 4050, 4051, 183, 175, 1], [661, 4052, 4053, 1], [4054, 1451, 7], [59, 4055, 1], [816, 1, 5], [4056, 1], [4057, 4058, 4059, 4060, 4061, 422, 1], [1452, 84, 90], [1452, 84, 90], [4062, 4063, 4064, 52, 1], [4065, 11, 18, 1], [4066, 1, 11], [4067, 806, 1], [4068, 1], [4069, 776], [4070, 1], [393, 233, 394, 5], [530, 11, 18, 1], [4071, 685, 2], [828, 4072, 333], [836, 547, 84, 90], [501, 2], [179, 21, 1], [428, 73], [450, 451, 38], [286, 45], [4073, 2], [1432, 1], [4074, 1], [529, 168, 5], [837, 838, 45, 4075, 89], [196, 11, 18, 1], [4076, 786], [196, 11, 18, 1], [4077, 3, 150], [68, 36, 1], [4078, 4079, 45], [4080, 1], [1019, 1], [4081, 1], [1177, 1], [309, 142, 1], [4082, 1, 178], [1394, 166], [4083, 1], [4084, 213, 6], [169, 7], [522, 1], [4085, 4086, 1], [58, 4087, 1], [4088, 213, 4089], [1233, 380, 1], [4090, 4], [108, 4091, 1], [373, 25], [4092, 1, 5], [894, 103], [814, 1, 5], [30, 21, 1], [4093, 446], [4094, 1], [4095, 1], [176, 764, 1231, 1232, 1], [4096, 1], [4097, 1], [4098, 1], [4099, 1], [281, 2], [135, 73], [789, 1, 5], [4100, 152], [214, 1], [21, 1], [1192, 1], [4101, 1, 128], [4102, 1362, 1, 5], [305, 1], [30, 21, 1], [273, 1], [4103, 1], [1328, 1], [4104, 2], [4105, 1], [4106, 1], [1367, 3, 15], [4107, 1], [4108, 1], [4109, 4], [59, 4110, 129], [4111, 4112], [4113, 4], [4114, 688, 689], [4115, 1], [4116, 50], [4117, 550, 181, 4118, 1], [4119, 1], [4120, 4121, 1], [1008, 3], [4122, 1], [225, 3, 15, 4123, 1], [4124, 177], [1, 209, 7], [135, 73], [1453, 167], [4125, 539, 2], [4126, 441, 442, 7], [471, 1], [4127, 1], [4128, 191], [1447, 1], [1306, 1], [4129, 1], [31, 2, 136, 78, 1], [4130, 4131, 1], [1438, 1], [423, 1], [823, 1], [305, 1], [272, 247], [68, 36, 1], [437, 304], [4132, 1], [4133, 1], [4134, 399, 252], [4135, 2], [4136, 246], [4137, 440, 1], [4138, 4139, 89], [4140, 1], [293, 4], [1454, 1455, 1], [4141, 1], [927, 1], [1088, 1], [533, 262, 1], [4142, 1], [4143, 4144, 103], [4145, 1], [468, 153], [4146, 1], [4147, 1, 178], [1456, 1], [4148, 1, 5], [1071, 1], [836, 547, 84, 90], [262, 1, 4149, 4150, 1393, 4151, 2], [4152, 1], [4153, 1], [963, 3, 15], [1261, 1262, 1], [30, 21, 1], [30, 21, 1], [424, 2], [4154, 11, 263, 233], [4155, 4156, 1, 1377, 52, 1], [137, 291, 136, 78, 1], [4157, 447, 1], [658, 1], [68, 36, 1], [30, 21, 1], [222, 223, 1], [1426, 1], [4158, 1], [4159, 1], [4160, 973, 52, 1], [819, 579, 820, 821], [824, 1], [578, 37, 1], [344, 1], [4161, 1, 152], [4162, 1], [4163, 4164, 52, 1], [463, 464, 1], [286, 45], [707, 1], [4165, 245], [4166, 207], [867, 149, 255], [1457, 1458, 1], [572, 58, 1], [59, 4167, 141], [4168, 50], [86, 108, 1], [4169, 1, 5], [4170, 1], [4171, 426, 89], [1459, 4], [1460, 1], [4172, 1461, 103], [4173, 4174, 4175, 4176, 4177, 422, 1], [4178, 194], [4179, 2, 5], [4180, 345, 4181, 11, 25], [4182, 1], [308, 1], [1243, 73], [4183, 1], [306, 1], [810, 310, 4184, 10], [376, 1], [4185, 90], [4186, 3], [4187, 221, 220], [4188, 2], [874, 1], [4189, 1], [1229, 134], [1437, 808, 1], [631, 1], [4190, 4191], [742, 1], [4192, 1], [4193, 1], [97, 348], [1457, 1458, 1], [1462, 1], [1463, 1464, 160], [4194, 24, 13], [4195, 1252, 1], [457, 458, 105], [87, 4196, 7], [4197, 141], [4198, 4199, 1465, 4200, 4201, 1], [4202, 887], [4203, 1], [4204, 1], [232, 1], [4205, 1], [79, 87, 1, 209, 7], [4206, 11, 18, 1], [1409, 1410], [553, 2], [244, 381, 382, 269], [197, 4207, 153], [4208, 1], [30, 21, 1], [30, 21, 1], [94, 3], [404, 1], [59, 4209, 4210, 1], [4211, 15], [4212, 4213, 1], [4214, 16], [4215, 1], [756, 1, 5], [269, 4216, 465, 988], [270, 345, 716, 4217, 1], [4218, 1, 178], [137, 136, 280, 78, 1], [86, 108, 1], [4219, 1], [765, 3, 150], [4220, 268, 103], [1456, 1], [4221, 4222, 1, 11], [540, 1443, 1444, 1445], [996, 1], [4223, 1], [68, 36, 1], [179, 21, 1], [58, 4224, 90], [79, 87, 1, 799, 7], [4225, 1], [4226, 34], [1466, 592], [4227, 1], [1257, 1], [404, 1], [204, 4228, 4229, 4230, 23], [4231, 50], [4232, 1], [336, 1], [4233, 11, 18, 1], [1221, 1222, 4], [393, 233, 394, 5], [4234, 58, 4235, 2], [1401, 1], [4236, 4237, 176, 4238, 89], [4239, 1, 128], [4240, 151], [4241, 4242, 1], [56, 4243, 311], [4244, 1, 5], [4245, 2], [4246, 1], [68, 36, 1], [4247, 4248, 1, 120], [4249, 1, 5], [1138, 1], [781, 4250, 1], [4251, 151], [4252, 1], [4253, 4254, 2], [4255, 4256, 1], [4257, 434, 7], [1448, 1], [895, 896, 897, 129, 898, 1], [461, 4258, 1], [4259, 1], [222, 223, 1], [523, 1], [4260, 4261, 4262, 1, 4263, 1], [965, 24], [875, 1], [787, 788], [527, 4264, 1], [318, 3, 258], [738, 739, 1], [1425, 11, 18, 1], [503, 11, 18, 1], [578, 37, 1], [405, 1], [4265, 1], [1384, 37, 177], [68, 36, 1], [1010, 11, 18, 1], [567, 1], [67, 1], [1090, 1, 5], [289, 692, 290, 4], [645, 646, 1], [1467, 1], [204, 4266, 4267, 1], [1080, 25], [454, 4], [1092, 1093, 3, 15], [4268, 356, 1], [4269, 1], [578, 37, 1], [4270, 11, 18, 1], [544, 4], [433, 1], [1339, 1], [4271, 7, 255], [487, 1], [283, 73], [4272, 11, 18, 1], [4273, 1], [4274, 1], [4275, 3], [342, 1], [1440, 1], [508, 4276, 1], [4277, 1], [41, 182, 1], [232, 16], [4278, 1, 4279, 4280, 4281, 4], [498, 1], [4282, 37, 1], [798, 50], [179, 21, 1], [4283, 1], [281, 2], [292, 23, 584, 248, 795, 796, 4284, 130], [68, 36, 1], [86, 108, 1], [350, 351, 4], [466, 4, 1], [4285, 1], [86, 108, 1], [4286, 1], [4287, 11, 263, 233], [4288, 1], [822, 1335, 4289, 315], [484, 485], [4290, 383], [104, 1], [4291, 1], [4292, 3], [104, 1], [334, 1], [67, 1], [143, 1], [192, 1, 124, 375, 1], [1397, 4], [633, 1], [4293, 1], [182, 317, 4], [837, 838, 45, 1468, 89], [4294, 2], [4295, 1], [306, 1], [257, 38], [4296, 1], [310, 4297, 3, 208], [4298, 1], [496, 1], [4299, 4300, 113], [104, 1], [4301, 45], [427, 1, 5], [4302, 24], [4303, 593, 230], [1324, 3, 258], [4304, 4], [1398, 1399, 3, 208], [4305, 1], [4306, 1], [4307, 1], [817, 4308, 73], [205, 1], [4309, 1], [346, 4310, 4311, 506, 1], [572, 4312, 112], [1186, 248, 176, 4313, 3], [4314, 1], [4315, 1], [4316, 153], [1463, 1464, 160], [4317, 4318, 4319, 4320, 611, 1266, 1], [4321, 194], [4322, 1], [342, 1], [378, 1], [4323, 4324, 252], [4325, 2], [594, 11, 18, 1], [416, 1], [463, 464, 1], [811, 11, 18, 1], [4326, 4327, 1105, 1], [4328, 1], [4329, 1], [722, 1], [222, 223, 1], [4330, 4331, 221, 25], [533, 262, 1], [4332, 1], [232, 4333, 151], [405, 1], [4334, 4335, 1], [1196, 4336, 3], [4337, 49, 580, 581, 2], [837, 838, 45, 1468, 89], [366, 1], [4338, 507], [559, 221, 24], [1466, 592], [4339, 1], [4340, 11, 18, 1], [4341, 1], [4342, 177], [1383, 254, 4343, 11, 25], [587, 58, 1, 4344, 4345, 4346, 1], [86, 285], [4347, 1], [665, 1251, 2], [4348, 4349, 4350, 4351, 1], [100, 36, 1], [4352, 4353, 103], [667, 460, 1], [4354, 78, 1], [4355, 50], [193, 21, 1], [4356, 24], [467, 254, 4357, 45, 130], [136, 280, 137, 78, 1], [4358, 1], [470, 59, 800, 801, 50], [1469, 1, 5], [4359, 1], [4360, 2], [4361, 1, 747, 25, 4362, 4363, 1], [59, 367, 50, 10], [84, 4364, 1], [4365, 37, 1], [58, 1, 587, 4366, 1], [4367, 4368, 10], [228, 210, 1, 120, 1038, 1039, 1040, 1041, 1], [644, 1], [1406, 374, 486, 4369, 1], [1214, 1], [815, 3, 12, 4370, 472], [664, 1], [4371, 4372, 4373], [204, 337, 338, 303, 339, 23], [1427, 455, 1], [124, 4374, 1], [4375, 1], [732, 1], [4376, 1], [386, 268, 103], [798, 50], [4377, 37, 1], [1113, 557], [4378, 1], [1332, 1, 316, 1, 7], [4379, 11, 18, 1], [4380, 1], [4381, 4382, 4383, 1], [4384, 51], [58, 124, 256, 349, 37, 1], [835, 4385, 151], [306, 1], [4386, 206, 1, 5], [4387, 1], [4388, 4389, 4390, 1], [748, 1], [192, 1, 124, 375, 1], [4391, 1], [4392, 1], [4393, 52, 1], [378, 1], [4394, 89], [1338, 1], [750, 1], [4395, 1], [4396, 4397, 1], [4398, 1, 5], [4399, 1], [1356, 583, 1], [281, 2], [1114, 1], [4400, 1], [4401, 4402, 1], [79, 87, 1, 807, 7], [67, 1], [630, 307], [374, 4403, 1], [560, 59, 459, 1, 561, 130], [1460, 1], [378, 1], [4404, 434, 7], [466, 4, 1], [1348, 249], [457, 458, 105], [104, 1], [1287, 797, 1288, 1289], [4405, 1], [487, 1], [1277, 2], [1470, 1], [4406, 3, 208], [545, 73], [4407, 2], [4408, 1, 13], [4409, 4], [192, 1, 374, 24], [292, 3, 12, 4410, 194], [59, 948, 252, 1], [264, 1], [282, 751, 752, 753, 570, 282, 335, 2], [4411, 152], [4412, 1, 5], [4413, 4414, 1], [4415, 166], [317, 384, 565, 566, 395, 1], [528, 4416, 1], [885, 886, 37, 1], [376, 1], [4417, 1290, 719, 720, 2], [311, 87, 1, 1392, 105], [4418, 4419, 4420, 1, 4421], [829, 830, 1], [4422, 1], [4423, 1, 152], [4424, 105, 34, 372, 1], [4425, 4426, 1], [1453, 167], [4427, 1, 134], [698, 699, 213], [4428, 37, 1], [671, 48], [4429, 265, 266], [1321, 252, 1], [4430, 4], [557, 1100, 3, 15], [401, 402, 56, 178], [742, 1], [4431, 1], [4432, 1], [4433, 1], [4434, 4435, 134], [11, 428, 1357, 1], [68, 36, 1], [715, 1], [4436, 1], [4437, 1], [991, 1], [4438, 792, 793], [135, 73], [4439, 4440, 372, 1], [4441, 4], [425, 4], [512, 4], [4442, 1], [827, 1, 5], [4443, 4444, 1, 152], [4445, 4446, 2], [4447, 3], [4448, 1], [4449, 1, 178], [652, 516, 343, 653], [773, 1], [552, 90], [58, 124, 256, 15, 1], [4450, 2], [4451, 4452, 1], [4453, 1], [4454, 1], [571, 1], [568, 23], [868, 1], [79, 87, 1, 741, 7], [4455, 1], [616, 1, 5], [179, 21, 1], [452, 453, 23], [1471, 494, 1472, 1], [4456, 4457, 1], [474, 4458, 1], [4459, 78, 1], [544, 4], [1459, 4], [590, 191, 591, 473, 152], [4460, 11, 18, 1], [4461, 4], [4462, 1388, 1389, 2], [4463, 3, 150], [4464, 3, 15], [4465, 1], [196, 11, 18, 1], [84, 615, 1], [100, 36, 1], [4466, 1], [627, 628, 2], [1219, 754, 1265, 4467, 1], [1184, 129], [67, 1], [804, 11, 18, 1], [835, 4468, 151], [809, 78, 1], [59, 4469, 141], [4470, 1], [288, 3, 150], [4471, 52, 1], [4472, 1, 304], [4473, 1465, 1449, 4474, 4475, 23], [1374, 1], [4476, 1], [1387, 1], [4477, 4478, 1], [1245, 1246, 1247, 1248, 1, 287], [427, 1, 5], [284, 1], [4479, 1, 7], [4480, 4481, 52, 1], [650, 1], [433, 1], [4482, 1], [368, 489, 2], [86, 285], [645, 646, 1], [1424, 1], [4483, 1], [4484, 1, 5], [4485, 1], [1379, 1], [293, 4], [816, 1, 5], [1213, 1], [930, 931, 1], [86, 285], [4486, 456, 1], [30, 21, 1], [4487, 4], [354, 1], [309, 142, 1], [225, 3, 15, 4488, 4489], [232, 1], [4490, 4491, 7], [4492, 4493, 1], [4494, 89], [4495, 1151, 1], [317, 384, 565, 566, 395, 1], [4496, 1442], [4497, 784, 4498, 1], [4499, 3, 150], [1323, 213, 426], [438, 439, 161, 113, 2], [182, 4500, 4501, 181, 4502, 315, 4503, 113], [491, 878, 1], [4504, 4505], [537, 1], [1068, 134], [4506, 1], [1369, 3, 15], [386, 268, 103], [1431, 1], [1473, 113], [385, 1], [4507, 4508, 4509, 4510, 3], [4511, 4512, 249], [137, 291, 136, 78, 1], [253, 514, 515, 1], [594, 11, 18, 1], [318, 3, 258], [4513, 1, 128], [195, 12], [4514, 4515, 1], [622, 1], [4516, 1], [262, 486, 1], [717, 718, 23], [403, 1436, 395, 1], [1454, 1455, 1], [4517, 4518, 213, 287], [4519, 7], [1312, 113, 1313, 1314, 51], [59, 4520, 1], [94, 3], [731, 1], [4521, 149], [4522, 4523, 50], [4524, 105], [4525, 4526, 1, 5], [4527, 1], [446, 4528, 4], [1433, 825, 1], [4529, 1], [1131, 1], [4530, 153], [588, 1], [1467, 1], [4531, 1], [490, 4532, 4533, 4534, 3, 15], [709, 1], [1434, 1435, 1], [4535, 771, 7], [809, 78, 1], [367, 50, 10], [594, 11, 18, 1], [1462, 1], [59, 634, 1, 118], [4536, 1450, 1], [137, 291, 136, 78, 1], [4537, 287, 1], [232, 4538, 50], [1079, 1], [1471, 494, 1472, 1], [4539, 3, 15], [31, 2, 136, 78, 1], [560, 59, 459, 1, 561, 130], [4540, 1, 5], [215, 1], [1022, 177, 255], [4541, 1, 5], [585, 1], [4542, 7], [4543, 1, 5], [4544, 1], [1415, 1416, 1], [4545, 1], [214, 1], [401, 402, 56, 178], [4546, 1, 5], [4547, 1], [4548, 24], [1020, 113], [59, 4549, 1], [4550, 1], [195, 12], [1342, 1343, 1], [209, 1241, 1242, 221, 25], [210, 4551, 651], [4552, 4553], [888, 1], [4554, 436, 1], [264, 1], [143, 1], [283, 73], [4555, 1, 5], [58, 4556, 166], [225, 4557, 347], [4558, 230], [4559, 1], [4560, 1], [4561, 1, 178], [4562, 1], [4563, 4], [193, 21, 1], [804, 11, 18, 1], [4564, 52, 1], [4565, 1], [585, 1], [1036, 1], [1382, 1], [1013, 1], [4566, 37, 107], [1474, 4567, 1], [4568, 781, 4569, 251, 4570, 1], [67, 1], [594, 11, 18, 1], [58, 181, 1418, 831, 103], [4571, 4], [4572, 1], [4573, 4574, 1], [4575, 1451, 7], [386, 268, 103], [4576, 1], [4577, 1], [1260, 4578, 4579, 1], [4580, 1], [30, 21, 1], [1407, 1408, 1], [314, 1], [4581, 1], [513, 1], [4582, 3, 208], [834, 4583, 161, 558], [4584, 302, 2], [1064, 1], [4585, 1], [1098, 1475, 797, 4586], [4587, 1], [4588, 226, 94, 227, 7], [4589, 1, 251], [4590, 1], [378, 1], [4591, 589, 4592, 4593, 4594, 175, 1], [1337, 472], [484, 485], [4595, 2], [4596, 4597, 1], [586, 38], [4598, 1], [1220, 1], [4599, 1], [4600, 473, 712], [987, 37, 1], [4601, 197], [4602, 1], [4603, 194], [211, 212], [4604, 1], [204, 337, 338, 303, 339, 23], [4605, 1], [4606, 11, 18, 1], [4607, 1], [710, 50, 10], [193, 21, 1], [257, 38], [4608, 302, 2], [4609, 11, 18, 1], [423, 1], [192, 1, 124, 375, 1], [4610, 1], [4611, 1], [4612, 4], [100, 36, 1], [1297, 1298, 64, 220], [1473, 113], [4613, 1, 582, 24, 79, 4614, 4615, 4616, 3, 220], [1334, 2], [746, 249], [4617, 7], [4618, 4619], [104, 1], [4620, 3], [4621, 149], [563, 4622, 734, 4623], [4624, 1], [4625, 4626, 105], [1476, 593, 230], [4627, 4628, 4629, 1], [443, 444, 1], [79, 87, 1, 799, 7], [68, 36, 1], [4630, 4631, 134], [4632, 1], [1476, 593, 230], [4633, 1], [4634, 4, 1300], [58, 767, 4635, 587, 4636, 129], [58, 4637, 4638, 4639, 1], [1469, 1, 5], [4640, 1], [4641, 4642, 191], [272, 247], [11, 1302, 1303, 1], [4643, 315], [533, 262, 1], [4644, 4645, 50], [4646, 1], [30, 21, 1], [176, 642, 4647, 167], [4648, 1], [4649, 37, 1], [388, 224, 1], [4650, 4651, 7], [205, 1], [586, 38], [4652, 1], [1421, 1], [4653, 1], [1255, 105], [4654, 1], [282, 751, 752, 753, 570, 282, 335, 2], [908, 1], [1346, 4], [633, 1], [826, 1], [421, 1], [292, 23, 584, 248, 795, 796, 4655, 130], [1474, 4656, 1], [4657, 1], [4658, 265, 266], [535, 474, 1], [4659, 167], [537, 1], [4660, 1], [4661, 1318, 1], [1470, 1], [4662, 4663, 333], [4664, 37, 1], [4665, 1], [4666, 84, 90], [805, 2], [1073, 167], [4667, 4], [4668, 4669, 1], [836, 547, 84, 90], [4670, 1], [1145, 461], [271, 400, 152], [626, 4], [4671, 4672, 1], [4673, 1], [629, 1], [86, 285], [4674, 1], [4675, 11, 18, 1], [437, 304], [590, 191, 591, 473, 152], [314, 1], [1309, 24], [1226, 1], [1227, 1], [4676, 4], [614, 1], [1216, 1], [483, 4677, 1], [4678, 84, 90], [542, 24], [1420, 1, 3], [677, 348], [79, 403, 1, 182, 582, 24, 575, 64, 1256, 1, 6], [1446, 1], [1390, 1391], [4679, 78, 1], [4680, 1], [4681, 4682, 4683, 1461, 103], [4684, 1], [4685, 4686, 7], [100, 36, 1], [1428, 1429, 1430, 3, 15], [4687, 1475, 4688, 4689], [4690, 11, 18, 1], [516, 4691, 1477, 1477], [1042, 1], [169, 7], [532, 1], [450, 451, 38], [4692, 11, 18, 1], [4693, 4694, 134], [642, 4695, 4696, 1], [4697, 78, 1], [487, 1], [824, 1], [283, 73], [575, 1197, 1, 1198, 1], [68, 36, 1], [535, 474, 1], [4698, 89], [4699, 1], [1359, 1360, 7], [761, 38], [1441, 1], [286, 45], [4700, 356, 1], [960, 177], [4701, 4702, 1320, 1], [344, 1], [50, 4703, 1], [780, 11, 18, 1], [1345, 1], [546, 1, 13], [1378, 11, 18, 1], [452, 453, 23]]\n",
      "[[1.   0.05 1.  ]\n",
      " [1.   0.05 1.  ]\n",
      " [1.   0.05 0.  ]\n",
      " ...\n",
      " [1.   0.15 1.  ]\n",
      " [1.   0.25 1.  ]\n",
      " [1.   0.2  1.  ]]\n"
     ]
    }
   ],
   "source": [
    "print(domain_tokens)\n",
    "print(scaled_numerical_data)"
   ]
  },
  {
   "cell_type": "code",
   "execution_count": 49,
   "metadata": {},
   "outputs": [
    {
     "name": "stderr",
     "output_type": "stream",
     "text": [
      "/home/anirudh/.local/lib/python3.8/site-packages/numpy/core/shape_base.py:65: VisibleDeprecationWarning: Creating an ndarray from ragged nested sequences (which is a list-or-tuple of lists-or-tuples-or ndarrays with different lengths or shapes) is deprecated. If you meant to do this, you must specify 'dtype=object' when creating the ndarray.\n",
      "  ary = asanyarray(ary)\n"
     ]
    },
    {
     "ename": "ValueError",
     "evalue": "all the input arrays must have same number of dimensions, but the array at index 0 has 1 dimension(s) and the array at index 1 has 2 dimension(s)",
     "output_type": "error",
     "traceback": [
      "\u001b[0;31m---------------------------------------------------------------------------\u001b[0m",
      "\u001b[0;31mValueError\u001b[0m                                Traceback (most recent call last)",
      "\u001b[1;32m/home/anirudh/GT/academics/ece6612-comp_netw_sec/project/project/phishin_ml/Phishing-Website-Detection/Phishing Website Detection_Models & Training.ipynb Cell 87\u001b[0m line \u001b[0;36m3\n\u001b[1;32m      <a href='vscode-notebook-cell:/home/anirudh/GT/academics/ece6612-comp_netw_sec/project/project/phishin_ml/Phishing-Website-Detection/Phishing%20Website%20Detection_Models%20%26%20Training.ipynb#Y154sZmlsZQ%3D%3D?line=0'>1</a>\u001b[0m \u001b[39mimport\u001b[39;00m \u001b[39mnumpy\u001b[39;00m \u001b[39mas\u001b[39;00m \u001b[39mnp\u001b[39;00m\n\u001b[0;32m----> <a href='vscode-notebook-cell:/home/anirudh/GT/academics/ece6612-comp_netw_sec/project/project/phishin_ml/Phishing-Website-Detection/Phishing%20Website%20Detection_Models%20%26%20Training.ipynb#Y154sZmlsZQ%3D%3D?line=2'>3</a>\u001b[0m input_sequences \u001b[39m=\u001b[39m np\u001b[39m.\u001b[39;49mhstack((domain_tokens, scaled_numerical_data))\n",
      "File \u001b[0;32m<__array_function__ internals>:180\u001b[0m, in \u001b[0;36mhstack\u001b[0;34m(*args, **kwargs)\u001b[0m\n",
      "File \u001b[0;32m~/.local/lib/python3.8/site-packages/numpy/core/shape_base.py:343\u001b[0m, in \u001b[0;36mhstack\u001b[0;34m(tup)\u001b[0m\n\u001b[1;32m    341\u001b[0m \u001b[39m# As a special case, dimension 0 of 1-dimensional arrays is \"horizontal\"\u001b[39;00m\n\u001b[1;32m    342\u001b[0m \u001b[39mif\u001b[39;00m arrs \u001b[39mand\u001b[39;00m arrs[\u001b[39m0\u001b[39m]\u001b[39m.\u001b[39mndim \u001b[39m==\u001b[39m \u001b[39m1\u001b[39m:\n\u001b[0;32m--> 343\u001b[0m     \u001b[39mreturn\u001b[39;00m _nx\u001b[39m.\u001b[39;49mconcatenate(arrs, \u001b[39m0\u001b[39;49m)\n\u001b[1;32m    344\u001b[0m \u001b[39melse\u001b[39;00m:\n\u001b[1;32m    345\u001b[0m     \u001b[39mreturn\u001b[39;00m _nx\u001b[39m.\u001b[39mconcatenate(arrs, \u001b[39m1\u001b[39m)\n",
      "File \u001b[0;32m<__array_function__ internals>:180\u001b[0m, in \u001b[0;36mconcatenate\u001b[0;34m(*args, **kwargs)\u001b[0m\n",
      "\u001b[0;31mValueError\u001b[0m: all the input arrays must have same number of dimensions, but the array at index 0 has 1 dimension(s) and the array at index 1 has 2 dimension(s)"
     ]
    }
   ],
   "source": [
    "import numpy as np\n",
    "\n",
    "input_sequences = np.hstack((domain_tokens, scaled_numerical_data))"
   ]
  },
  {
   "cell_type": "code",
   "execution_count": null,
   "metadata": {},
   "outputs": [],
   "source": []
  }
 ],
 "metadata": {
  "colab": {
   "collapsed_sections": [],
   "name": "Phishing Website Detection.ipynb",
   "provenance": [],
   "toc_visible": true
  },
  "kernelspec": {
   "display_name": "Python 3 (ipykernel)",
   "language": "python",
   "name": "python3"
  },
  "language_info": {
   "codemirror_mode": {
    "name": "ipython",
    "version": 3
   },
   "file_extension": ".py",
   "mimetype": "text/x-python",
   "name": "python",
   "nbconvert_exporter": "python",
   "pygments_lexer": "ipython3",
   "version": "3.8.10"
  }
 },
 "nbformat": 4,
 "nbformat_minor": 1
}
